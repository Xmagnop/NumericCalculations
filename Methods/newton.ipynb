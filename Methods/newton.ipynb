{
 "cells": [
  {
   "attachments": {},
   "cell_type": "markdown",
   "metadata": {},
   "source": [
    "# Método de Newton-Raphson"
   ]
  },
  {
   "attachments": {},
   "cell_type": "markdown",
   "metadata": {},
   "source": [
    "O método de Newton-Raphson é um dos métodos numéricos mais eficientes para encontrar raízes de funções. Ele utiliza a derivada da função para encontrar aproximações sucessivas da raiz."
   ]
  },
  {
   "cell_type": "code",
   "execution_count": 8,
   "metadata": {},
   "outputs": [],
   "source": [
    "import sys\n",
    "import os\n",
    "\n",
    "# Obtém o caminho absoluto do diretório do notebook\n",
    "notebook_dir = os.path.abspath('')\n",
    "\n",
    "# Adiciona o diretório pai ao sys.path para reconhecer \"Graph\"\n",
    "sys.path.append(os.path.join(notebook_dir, '..'))\n",
    "\n",
    "import numpy as np\n",
    "import sympy as sp\n",
    "from tabulate import tabulate\n",
    "from Graph.graph import plotar_funcao"
   ]
  },
  {
   "cell_type": "code",
   "execution_count": 9,
   "metadata": {},
   "outputs": [],
   "source": [
    "def newton_raphson(f, df, x0, tol):\n",
    "    \"\"\"\n",
    "    Implementa o método de Newton-Raphson para encontrar a raiz de uma função.\n",
    "\n",
    "    Parâmetros:\n",
    "    f  -- Função contínua\n",
    "    df -- Derivada da função\n",
    "    x0 -- Aproximação inicial\n",
    "    tol -- Tolerância para o erro\n",
    "\n",
    "    Retorna:\n",
    "    raiz aproximada e tabela com as iterações\n",
    "    \"\"\"\n",
    "    tabela = []\n",
    "    erro_absoluto = None\n",
    "    erro_relativo = None\n",
    "    iter = 0\n",
    "\n",
    "    while True:\n",
    "        fx0 = f(x0)\n",
    "        dfx0 = df(x0)\n",
    "\n",
    "        if abs(dfx0) < 1e-12:  # Evita divisão por zero\n",
    "            raise ValueError(\"Erro: Derivada próxima de zero, método pode não convergir.\")\n",
    "\n",
    "        x1 = x0 - fx0 / dfx0\n",
    "        erro_absoluto = abs(f(x1))\n",
    "        erro_relativo = abs((x1 - x0) / x1) if x1 != 0 else float('inf')\n",
    "\n",
    "        tabela.append([iter, x0, fx0, dfx0, x1, erro_absoluto, erro_relativo])\n",
    "        iter += 1\n",
    "\n",
    "        if erro_relativo < tol:\n",
    "            return x1, tabela\n",
    "\n",
    "        x0 = x1  # Atualiza para a próxima iteraçã"
   ]
  },
  {
   "cell_type": "code",
   "execution_count": 10,
   "metadata": {},
   "outputs": [
    {
     "data": {
      "image/png": "[encoded data removed]",
      "text/plain": [
       "<Figure size 640x480 with 1 Axes>"
      ]
     },
     "metadata": {},
     "output_type": "display_data"
    },
    {
     "name": "stdout",
     "output_type": "stream",
     "text": [
      "  Iteração      x0    f(x0)    f'(x0)      x1    Erro Absoluto    Erro Relativo\n",
      "----------  ------  -------  --------  ------  ---------------  ---------------\n",
      "         0  4.0000   0.0023   -1.3901  4.0016           0.0000           0.0004\n",
      "         1  4.0016   0.0000   -1.3893  4.0016           0.0000           0.0000\n",
      "Raiz aproximada: 4.0016\n"
     ]
    }
   ],
   "source": [
    "# Definição da função pelo usuário\n",
    "x = sp.Symbol('x')\n",
    "expressao = input(\"Digite a função em termos de x (ex: sin(x) + exp(x)): \")\n",
    "funcao_simbolica = sp.sympify(expressao)\n",
    "\n",
    "# Calcula a derivada da função\n",
    "derivada_simbolica = sp.diff(funcao_simbolica, x)\n",
    "\n",
    "# Converte para funções numéricas\n",
    "funcao = sp.lambdify(x, funcao_simbolica, 'numpy')\n",
    "derivada = sp.lambdify(x, derivada_simbolica, 'numpy')\n",
    "\n",
    "# Solicita os valores iniciais\n",
    "x0 = float(input(\"Digite a aproximação inicial: \"))\n",
    "tol = float(input(\"Digite o erro de tolerância: \"))\n",
    "\n",
    "plotar_funcao(funcao, x0)\n",
    "\n",
    "# Aplicando o método de Newton-Raphson\n",
    "raiz, tabela = newton_raphson(funcao, derivada, x0, tol)\n",
    "\n",
    "# Exibindo resultados\n",
    "print(tabulate(tabela, headers=[\"Iteração\", \"x0\", \"f(x0)\", \"f'(x0)\", \"x1\", \"Erro Absoluto\", \"Erro Relativo\"], floatfmt=\".4f\"))\n",
    "print(f\"Raiz aproximada: {raiz:.4f}\")\n"
   ]
  }
 ],
 "metadata": {
  "kernelspec": {
   "display_name": "Python 3",
   "language": "python",
   "name": "python3"
  },
  "language_info": {
   "codemirror_mode": {
    "name": "ipython",
    "version": 3
   },
   "file_extension": ".py",
   "mimetype": "text/x-python",
   "name": "python",
   "nbconvert_exporter": "python",
   "pygments_lexer": "ipython3",
   "version": "3.11.4"
  },
  "orig_nbformat": 4
 },
 "nbformat": 4,
 "nbformat_minor": 2
}

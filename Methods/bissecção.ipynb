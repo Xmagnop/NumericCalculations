{
 "cells": [
  {
   "attachments": {},
   "cell_type": "markdown",
   "metadata": {},
   "source": [
    "# Método da Bissecção\n",
    "\n",
    "O método da bissecção é uma técnica numérica para encontrar raízes de funções contínuas.  \n",
    "Ele funciona dividindo repetidamente um intervalo em duas partes e selecionando a subparte onde a raiz está localizada.  \n",
    "Este processo continua até que a raiz seja encontrada com uma precisão desejada."
   ]
  },
  {
   "attachments": {},
   "cell_type": "markdown",
   "metadata": {},
   "source": [
    "## Importação das Bibliotecas"
   ]
  },
  {
   "cell_type": "code",
   "execution_count": 1,
   "metadata": {},
   "outputs": [
    {
     "name": "stdout",
     "output_type": "stream",
     "text": [
      "Requirement already satisfied: numpy in c:\\python310\\lib\\site-packages (1.26.2)"
     ]
    },
    {
     "name": "stderr",
     "output_type": "stream",
     "text": [
      "WARNING: Ignoring invalid distribution -ip (c:\\python310\\lib\\site-packages)\n",
      "WARNING: Ignoring invalid distribution -ip (c:\\python310\\lib\\site-packages)\n",
      "\n",
      "[notice] A new release of pip is available: 24.0 -> 25.0.1\n",
      "[notice] To update, run: python.exe -m pip install --upgrade pip\n"
     ]
    },
    {
     "name": "stdout",
     "output_type": "stream",
     "text": [
      "\n",
      "Requirement already satisfied: matplotlib in c:\\users\\xande\\appdata\\roaming\\python\\python310\\site-packages (3.8.1)\n",
      "Requirement already satisfied: tabulate in c:\\python310\\lib\\site-packages (0.9.0)\n",
      "Requirement already satisfied: sympy in c:\\python310\\lib\\site-packages (1.13.3)\n",
      "Requirement already satisfied: scipy in c:\\python310\\lib\\site-packages (1.11.3)\n",
      "Requirement already satisfied: contourpy>=1.0.1 in c:\\users\\xande\\appdata\\roaming\\python\\python310\\site-packages (from matplotlib) (1.2.0)\n",
      "Requirement already satisfied: cycler>=0.10 in c:\\users\\xande\\appdata\\roaming\\python\\python310\\site-packages (from matplotlib) (0.12.1)\n",
      "Requirement already satisfied: fonttools>=4.22.0 in c:\\python310\\lib\\site-packages (from matplotlib) (4.44.1)\n",
      "Requirement already satisfied: kiwisolver>=1.3.1 in c:\\python310\\lib\\site-packages (from matplotlib) (1.4.5)\n",
      "Requirement already satisfied: packaging>=20.0 in c:\\users\\xande\\appdata\\roaming\\python\\python310\\site-packages (from matplotlib) (23.2)\n",
      "Requirement already satisfied: pillow>=8 in c:\\python310\\lib\\site-packages (from matplotlib) (10.1.0)\n",
      "Requirement already satisfied: pyparsing>=2.3.1 in c:\\python310\\lib\\site-packages (from matplotlib) (3.1.1)\n",
      "Requirement already satisfied: python-dateutil>=2.7 in c:\\users\\xande\\appdata\\roaming\\python\\python310\\site-packages (from matplotlib) (2.8.2)\n",
      "Requirement already satisfied: mpmath<1.4,>=1.1.0 in c:\\python310\\lib\\site-packages (from sympy) (1.3.0)\n",
      "Requirement already satisfied: six>=1.5 in c:\\users\\xande\\appdata\\roaming\\python\\python310\\site-packages (from python-dateutil>=2.7->matplotlib) (1.16.0)\n"
     ]
    }
   ],
   "source": [
    "!pip install numpy matplotlib tabulate sympy scipy"
   ]
  },
  {
   "cell_type": "code",
   "execution_count": 2,
   "metadata": {},
   "outputs": [],
   "source": [
    "import sys\n",
    "import os\n",
    "\n",
    "# Obtém o caminho absoluto do diretório do notebook\n",
    "notebook_dir = os.path.abspath('')\n",
    "\n",
    "# Adiciona o diretório pai ao sys.path para reconhecer \"Graph\"\n",
    "sys.path.append(os.path.join(notebook_dir, '..'))\n",
    "\n",
    "import numpy as np\n",
    "import sympy as sp\n",
    "from tabulate import tabulate\n",
    "from Graph.graph import plotar_funcao"
   ]
  },
  {
   "attachments": {},
   "cell_type": "markdown",
   "metadata": {},
   "source": [
    "## Implementação do Método da Bisseção"
   ]
  },
  {
   "cell_type": "code",
   "execution_count": 3,
   "metadata": {},
   "outputs": [],
   "source": [
    "def bissecao(f, a, b, tol=1e-6):\n",
    "    \"\"\"\n",
    "    Implementa o método da bisseção para encontrar a raiz de uma função.\n",
    "    \n",
    "    Parâmetros:\n",
    "    f  -- Função contínua\n",
    "    a  -- Extremidade esquerda do intervalo\n",
    "    b  -- Extremidade direita do intervalo\n",
    "    tol -- Tolerância para o erro (padrão: 1e-6)\n",
    "    \n",
    "    Retorna:\n",
    "    raiz aproximada e tabela com as iterações\n",
    "    \"\"\"\n",
    "    if f(a) * f(b) >= 0:\n",
    "        raise ValueError(\"O intervalo não contém uma raiz ou possui múltiplas raízes.\")\n",
    "    \n",
    "    max_iter = int(np.ceil(np.log2((b - a) / tol)))\n",
    "    iter = 0\n",
    "    tabela = []\n",
    "    raiz_anterior = None\n",
    "    \n",
    "    while True:\n",
    "        c = (a + b) / 2\n",
    "        erro_absoluto = round(abs(c - raiz_anterior), 4) if raiz_anterior is not None else None\n",
    "        erro_relativo = abs((c - raiz_anterior) / c) if raiz_anterior is not None else None\n",
    "        tabela.append([iter, a, b, c, f(c), abs(b - a), erro_absoluto, erro_relativo])\n",
    "        raiz_anterior = c\n",
    "        iter += 1\n",
    "        \n",
    "        if erro_absoluto and erro_absoluto < tol and iter >=8:\n",
    "            break\n",
    "        \n",
    "        if f(c) == 0:\n",
    "            break\n",
    "        elif f(a) * f(c) < 0:\n",
    "            b = c\n",
    "        else:\n",
    "            a = c\n",
    "    \n",
    "    return c, tabela, max_iter"
   ]
  },
  {
   "attachments": {},
   "cell_type": "markdown",
   "metadata": {},
   "source": [
    "## Aplicação do Método"
   ]
  },
  {
   "cell_type": "code",
   "execution_count": 4,
   "metadata": {},
   "outputs": [
    {
     "data": {
      "image/png": "[encoded data removed]",
      "text/plain": [
       "<Figure size 640x480 with 1 Axes>"
      ]
     },
     "metadata": {},
     "output_type": "display_data"
    },
    {
     "name": "stdout",
     "output_type": "stream",
     "text": [
      "  Iteração        a        b        c     f(c)    Erro    Erro Absoluto    Erro Relativo\n",
      "----------  -------  -------  -------  -------  ------  ---------------  ---------------\n",
      "         0  -2.0000   0.0000  -1.0000   0.1585  2.0000\n",
      "         1  -2.0000  -1.0000  -1.5000  -0.4975  1.0000           0.5000           0.3333\n",
      "         2  -1.5000  -1.0000  -1.2500  -0.1990  0.5000           0.2500           0.2000\n",
      "         3  -1.2500  -1.0000  -1.1250  -0.0273  0.2500           0.1250           0.1111\n",
      "         4  -1.1250  -1.0000  -1.0625   0.0639  0.1250           0.0625           0.0588\n",
      "         5  -1.1250  -1.0625  -1.0938   0.0179  0.0625           0.0312           0.0286\n",
      "         6  -1.1250  -1.0938  -1.1094  -0.0048  0.0312           0.0156           0.0141\n",
      "         7  -1.1094  -1.0938  -1.1016   0.0065  0.0156           0.0078           0.0071\n",
      "         8  -1.1094  -1.1016  -1.1055   0.0009  0.0078           0.0039           0.0035\n",
      "         9  -1.1094  -1.1055  -1.1074  -0.0020  0.0039           0.0020           0.0018\n",
      "        10  -1.1074  -1.1055  -1.1064  -0.0006  0.0020           0.0010           0.0009\n",
      "        11  -1.1064  -1.1055  -1.1060   0.0001  0.0010           0.0005           0.0004\n",
      "        12  -1.1064  -1.1060  -1.1062  -0.0002  0.0005           0.0002           0.0002\n",
      "        13  -1.1062  -1.1060  -1.1061  -0.0000  0.0002           0.0001           0.0001\n",
      "        14  -1.1061  -1.1060  -1.1060   0.0001  0.0001           0.0001           0.0001\n",
      "        15  -1.1061  -1.1060  -1.1060   0.0000  0.0001           0.0000           0.0000\n",
      "        16  -1.1061  -1.1060  -1.1061  -0.0000  0.0000           0.0000           0.0000\n",
      "        17  -1.1061  -1.1060  -1.1061   0.0000  0.0000           0.0000           0.0000\n",
      "        18  -1.1061  -1.1061  -1.1061   0.0000  0.0000           0.0000           0.0000\n",
      "        19  -1.1061  -1.1061  -1.1061  -0.0000  0.0000           0.0000           0.0000\n",
      "        20  -1.1061  -1.1061  -1.1061  -0.0000  0.0000           0.0000           0.0000\n",
      "        21  -1.1061  -1.1061  -1.1061  -0.0000  0.0000           0.0000           0.0000\n",
      "        22  -1.1061  -1.1061  -1.1061  -0.0000  0.0000           0.0000           0.0000\n",
      "        23  -1.1061  -1.1061  -1.1061   0.0000  0.0000           0.0000           0.0000\n",
      "        24  -1.1061  -1.1061  -1.1061  -0.0000  0.0000           0.0000           0.0000\n",
      "        25  -1.1061  -1.1061  -1.1061  -0.0000  0.0000           0.0000           0.0000\n",
      "        26  -1.1061  -1.1061  -1.1061  -0.0000  0.0000           0.0000           0.0000\n",
      "        27  -1.1061  -1.1061  -1.1061   0.0000  0.0000           0.0000           0.0000\n",
      "        28  -1.1061  -1.1061  -1.1061  -0.0000  0.0000           0.0000           0.0000\n",
      "        29  -1.1061  -1.1061  -1.1061   0.0000  0.0000           0.0000           0.0000\n",
      "        30  -1.1061  -1.1061  -1.1061   0.0000  0.0000           0.0000           0.0000\n",
      "        31  -1.1061  -1.1061  -1.1061  -0.0000  0.0000           0.0000           0.0000\n",
      "        32  -1.1061  -1.1061  -1.1061  -0.0000  0.0000           0.0000           0.0000\n",
      "        33  -1.1061  -1.1061  -1.1061   0.0000  0.0000           0.0000           0.0000\n",
      "        34  -1.1061  -1.1061  -1.1061   0.0000  0.0000           0.0000           0.0000\n",
      "        35  -1.1061  -1.1061  -1.1061  -0.0000  0.0000           0.0000           0.0000\n",
      "        36  -1.1061  -1.1061  -1.1061  -0.0000  0.0000           0.0000           0.0000\n",
      "        37  -1.1061  -1.1061  -1.1061  -0.0000  0.0000           0.0000           0.0000\n",
      "        38  -1.1061  -1.1061  -1.1061  -0.0000  0.0000           0.0000           0.0000\n",
      "        39  -1.1061  -1.1061  -1.1061  -0.0000  0.0000           0.0000           0.0000\n",
      "        40  -1.1061  -1.1061  -1.1061   0.0000  0.0000           0.0000           0.0000\n",
      "        41  -1.1061  -1.1061  -1.1061   0.0000  0.0000           0.0000           0.0000\n",
      "        42  -1.1061  -1.1061  -1.1061   0.0000  0.0000           0.0000           0.0000\n",
      "        43  -1.1061  -1.1061  -1.1061  -0.0000  0.0000           0.0000           0.0000\n",
      "        44  -1.1061  -1.1061  -1.1061  -0.0000  0.0000           0.0000           0.0000\n",
      "        45  -1.1061  -1.1061  -1.1061   0.0000  0.0000           0.0000           0.0000\n",
      "        46  -1.1061  -1.1061  -1.1061   0.0000  0.0000           0.0000           0.0000\n",
      "        47  -1.1061  -1.1061  -1.1061  -0.0000  0.0000           0.0000           0.0000\n",
      "        48  -1.1061  -1.1061  -1.1061   0.0000  0.0000           0.0000           0.0000\n",
      "        49  -1.1061  -1.1061  -1.1061  -0.0000  0.0000           0.0000           0.0000\n",
      "        50  -1.1061  -1.1061  -1.1061   0.0000  0.0000           0.0000           0.0000\n",
      "        51  -1.1061  -1.1061  -1.1061   0.0000  0.0000           0.0000           0.0000\n",
      "Raiz aproximada: -1.1061\n",
      "Máximo de Iterações: 15\n"
     ]
    }
   ],
   "source": [
    "# Entrada do usuário\n",
    "x = sp.Symbol('x')\n",
    "expressao = input(\"Digite a função em termos de x (ex: sin(x) + exp(x)): \")\n",
    "funcao = sp.lambdify(x, sp.sympify(expressao), 'numpy')\n",
    "\n",
    "a = float(input(\"Digite o limite inferior do intervalo: \"))\n",
    "b = float(input(\"Digite o limite superior do intervalo: \"))\n",
    "tol = float(input(\"Digite o limite de erro: \"))\n",
    "\n",
    "plotar_funcao(funcao, a, b)\n",
    "\n",
    "# Aplicando o método da bisseção\n",
    "raiz, tabela, max_iter = bissecao(funcao, a, b, tol)\n",
    "\n",
    "# Exibindo resultados\n",
    "print(tabulate(tabela, headers=[\"Iteração\", \"a\", \"b\", \"c\", \"f(c)\", \"Erro\", \"Erro Absoluto\", \"Erro Relativo\"], floatfmt=\".4f\"))\n",
    "print(f\"Raiz aproximada: {raiz:.4f}\")\n",
    "print(f\"Máximo de Iterações: {max_iter}\")"
   ]
  },
  {
   "attachments": {},
   "cell_type": "markdown",
   "metadata": {},
   "source": [
    "### Prova RAIZES semestre passado\n",
    "\n",
    "- Questão 1:\n",
    "    - a - 0.0054\n",
    "    - b - 0.6520 => CORRETO\n",
    "    - c - 7 => CORRETO\n",
    "\n",
    "=====================================================\n",
    "\n",
    "- Questão 2:\n",
    "    - a - -1.1060 => CORRETO\n",
    "    - b - -1.1061, 0.0000 => CORRETO\n",
    "    - c - -1.1061, 0.0000 => \n",
    "    - d - ATENÇÃO PARA AJUSTAR DIVISÃO POR 0 SECANTE\n",
    "\n",
    "=====================================================\n",
    "\n",
    "Questão 3:\n",
    "\n",
    "OBS TO DO: Melhorar gráfico para marcar as raizes na curva, consertar jacobi e seidel"
   ]
  }
 ],
 "metadata": {
  "kernelspec": {
   "display_name": "Python 3",
   "language": "python",
   "name": "python3"
  },
  "language_info": {
   "codemirror_mode": {
    "name": "ipython",
    "version": 3
   },
   "file_extension": ".py",
   "mimetype": "text/x-python",
   "name": "python",
   "nbconvert_exporter": "python",
   "pygments_lexer": "ipython3",
   "version": "3.10.1"
  },
  "orig_nbformat": 4
 },
 "nbformat": 4,
 "nbformat_minor": 2
}

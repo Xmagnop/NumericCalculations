{
 "cells": [
  {
   "attachments": {},
   "cell_type": "markdown",
   "metadata": {},
   "source": [
    "# Método da Bissecção\n",
    "\n",
    "O método da bissecção é uma técnica numérica para encontrar raízes de funções contínuas.  \n",
    "Ele funciona dividindo repetidamente um intervalo em duas partes e selecionando a subparte onde a raiz está localizada.  \n",
    "Este processo continua até que a raiz seja encontrada com uma precisão desejada."
   ]
  },
  {
   "attachments": {},
   "cell_type": "markdown",
   "metadata": {},
   "source": [
    "## Importação das Bibliotecas"
   ]
  },
  {
   "cell_type": "code",
   "execution_count": 8,
   "metadata": {},
   "outputs": [
    {
     "name": "stdout",
     "output_type": "stream",
     "text": [
      "Requirement already satisfied: numpy in c:\\executaveis\\nova pasta\\lib\\site-packages (2.2.3)\n",
      "Requirement already satisfied: matplotlib in c:\\executaveis\\nova pasta\\lib\\site-packages (3.10.0)\n",
      "Requirement already satisfied: tabulate in c:\\executaveis\\nova pasta\\lib\\site-packages (0.9.0)\n",
      "Requirement already satisfied: sympy in c:\\executaveis\\nova pasta\\lib\\site-packages (1.13.3)\n",
      "Requirement already satisfied: scipy in c:\\executaveis\\nova pasta\\lib\\site-packages (1.15.2)\n",
      "Requirement already satisfied: contourpy>=1.0.1 in c:\\executaveis\\nova pasta\\lib\\site-packages (from matplotlib) (1.3.1)\n",
      "Requirement already satisfied: cycler>=0.10 in c:\\executaveis\\nova pasta\\lib\\site-packages (from matplotlib) (0.12.1)\n",
      "Requirement already satisfied: fonttools>=4.22.0 in c:\\executaveis\\nova pasta\\lib\\site-packages (from matplotlib) (4.56.0)\n",
      "Requirement already satisfied: kiwisolver>=1.3.1 in c:\\executaveis\\nova pasta\\lib\\site-packages (from matplotlib) (1.4.8)\n",
      "Requirement already satisfied: packaging>=20.0 in c:\\users\\019.705184\\appdata\\roaming\\python\\python311\\site-packages (from matplotlib) (24.2)\n",
      "Requirement already satisfied: pillow>=8 in c:\\executaveis\\nova pasta\\lib\\site-packages (from matplotlib) (11.1.0)\n",
      "Requirement already satisfied: pyparsing>=2.3.1 in c:\\executaveis\\nova pasta\\lib\\site-packages (from matplotlib) (3.2.1)\n",
      "Requirement already satisfied: python-dateutil>=2.7 in c:\\users\\019.705184\\appdata\\roaming\\python\\python311\\site-packages (from matplotlib) (2.9.0.post0)\n",
      "Requirement already satisfied: mpmath<1.4,>=1.1.0 in c:\\executaveis\\nova pasta\\lib\\site-packages (from sympy) (1.3.0)\n",
      "Requirement already satisfied: six>=1.5 in c:\\users\\019.705184\\appdata\\roaming\\python\\python311\\site-packages (from python-dateutil>=2.7->matplotlib) (1.17.0)\n"
     ]
    },
    {
     "name": "stderr",
     "output_type": "stream",
     "text": [
      "\n",
      "[notice] A new release of pip is available: 23.1.2 -> 25.0.1\n",
      "[notice] To update, run: python.exe -m pip install --upgrade pip\n"
     ]
    }
   ],
   "source": [
    "!pip install numpy matplotlib tabulate sympy scipy"
   ]
  },
  {
   "cell_type": "code",
   "execution_count": 2,
   "metadata": {},
   "outputs": [],
   "source": [
    "import sys\n",
    "import os\n",
    "\n",
    "# Obtém o caminho absoluto do diretório do notebook\n",
    "notebook_dir = os.path.abspath('')\n",
    "\n",
    "# Adiciona o diretório pai ao sys.path para reconhecer \"Graph\"\n",
    "sys.path.append(os.path.join(notebook_dir, '..'))\n",
    "\n",
    "import numpy as np\n",
    "import sympy as sp\n",
    "from tabulate import tabulate\n",
    "from Graph.graph import plotar_funcao"
   ]
  },
  {
   "attachments": {},
   "cell_type": "markdown",
   "metadata": {},
   "source": [
    "## Implementação do Método da Bisseção"
   ]
  },
  {
   "cell_type": "code",
   "execution_count": 5,
   "metadata": {},
   "outputs": [],
   "source": [
    "def bissecao(f, a, b, tol=1e-6):\n",
    "    \"\"\"\n",
    "    Implementa o método da bisseção para encontrar a raiz de uma função.\n",
    "    \n",
    "    Parâmetros:\n",
    "    f  -- Função contínua\n",
    "    a  -- Extremidade esquerda do intervalo\n",
    "    b  -- Extremidade direita do intervalo\n",
    "    tol -- Tolerância para o erro (padrão: 1e-6)\n",
    "    \n",
    "    Retorna:\n",
    "    raiz aproximada e tabela com as iterações\n",
    "    \"\"\"\n",
    "    if f(a) * f(b) >= 0:\n",
    "        raise ValueError(\"O intervalo não contém uma raiz ou possui múltiplas raízes.\")\n",
    "    \n",
    "    max_iter = int(np.ceil(np.log2((b - a) / tol)))\n",
    "    iter = 0\n",
    "    tabela = []\n",
    "    raiz_anterior = None\n",
    "    \n",
    "    while True:\n",
    "        c = (a + b) / 2\n",
    "        erro_absoluto = round(abs(c - raiz_anterior), 4) if raiz_anterior is not None else None\n",
    "        erro_relativo = abs((c - raiz_anterior) / c) if raiz_anterior is not None else None\n",
    "        tabela.append([iter, a, b, c, f(c), abs(b - a), erro_absoluto, erro_relativo])\n",
    "        raiz_anterior = c\n",
    "        iter += 1\n",
    "        \n",
    "        if erro_absoluto and erro_absoluto < tol and iter >=8:\n",
    "            break\n",
    "        \n",
    "        if f(c) == 0:\n",
    "            break\n",
    "        elif f(a) * f(c) < 0:\n",
    "            b = c\n",
    "        else:\n",
    "            a = c\n",
    "    \n",
    "    return c, tabela, max_iter"
   ]
  },
  {
   "attachments": {},
   "cell_type": "markdown",
   "metadata": {},
   "source": [
    "## Aplicação do Método"
   ]
  },
  {
   "cell_type": "code",
   "execution_count": 7,
   "metadata": {},
   "outputs": [
    {
     "name": "stderr",
     "output_type": "stream",
     "text": [
      "<lambdifygenerated-3>:2: RuntimeWarning: invalid value encountered in log\n",
      "  return x**2 + log(x)\n"
     ]
    },
    {
     "data": {
      "image/png": "[encoded data removed]",
      "text/plain": [
       "<Figure size 640x480 with 1 Axes>"
      ]
     },
     "metadata": {},
     "output_type": "display_data"
    },
    {
     "name": "stdout",
     "output_type": "stream",
     "text": [
      "  Iteração       a       b       c     f(c)    Erro    Erro Absoluto    Erro Relativo\n",
      "----------  ------  ------  ------  -------  ------  ---------------  ---------------\n",
      "         0  0.1000  1.0000  0.5500  -0.2953  0.9000\n",
      "         1  0.5500  1.0000  0.7750   0.3457  0.4500           0.2250           0.2903\n",
      "         2  0.5500  0.7750  0.6625   0.0272  0.2250           0.1125           0.1698\n",
      "         3  0.5500  0.6625  0.6063  -0.1329  0.1125           0.0563           0.0928\n",
      "         4  0.6063  0.6625  0.6344  -0.0527  0.0563           0.0281           0.0443\n",
      "         5  0.6344  0.6625  0.6484  -0.0127  0.0281           0.0141           0.0217\n",
      "         6  0.6484  0.6625  0.6555   0.0072  0.0141           0.0070           0.0107\n",
      "         7  0.6484  0.6555  0.6520  -0.0027  0.0070           0.0035           0.0054\n",
      "Raiz aproximada: 0.6520\n",
      "Máximo de Iterações: 7\n"
     ]
    }
   ],
   "source": [
    "# Entrada do usuário\n",
    "x = sp.Symbol('x')\n",
    "expressao = input(\"Digite a função em termos de x (ex: sin(x) + exp(x)): \")\n",
    "funcao = sp.lambdify(x, sp.sympify(expressao), 'numpy')\n",
    "\n",
    "a = float(input(\"Digite o limite inferior do intervalo: \"))\n",
    "b = float(input(\"Digite o limite superior do intervalo: \"))\n",
    "tol = float(input(\"Digite o limite de erro: \"))\n",
    "\n",
    "plotar_funcao(funcao, a, b)\n",
    "\n",
    "# Aplicando o método da bisseção\n",
    "raiz, tabela, max_iter = bissecao(funcao, a, b, tol)\n",
    "\n",
    "# Exibindo resultados\n",
    "print(tabulate(tabela, headers=[\"Iteração\", \"a\", \"b\", \"c\", \"f(c)\", \"Erro\", \"Erro Absoluto\", \"Erro Relativo\"], floatfmt=\".4f\"))\n",
    "print(f\"Raiz aproximada: {raiz:.4f}\")\n",
    "print(f\"Máximo de Iterações: {max_iter}\")"
   ]
  },
  {
   "attachments": {},
   "cell_type": "markdown",
   "metadata": {},
   "source": [
    "### Prova RAIZES semestre passado\n",
    "\n",
    "- Questão 1:\n",
    "    - a - 0.0054\n",
    "    - b - 0.6520 => CORRETO\n",
    "    - c - 7 => CORRETO\n",
    "\n",
    "=====================================================\n",
    "\n",
    "- Questão 2:\n",
    "    - a - -1.1060 => CORRETO\n",
    "    - b - -1.1061, 0.0000 => CORRETO\n",
    "    - c - -1.1061, 0.0000 => \n",
    "    - d - ATENÇÃO PARA AJUSTAR DIVISÃO POR 0 SECANTE\n",
    "\n",
    "=====================================================\n",
    "\n",
    "Questão 3:\n",
    "\n",
    "OBS TO DO: Melhorar gráfico para marcar as raizes na curva, consertar jacobi e seidel"
   ]
  }
 ],
 "metadata": {
  "kernelspec": {
   "display_name": "Python 3",
   "language": "python",
   "name": "python3"
  },
  "language_info": {
   "codemirror_mode": {
    "name": "ipython",
    "version": 3
   },
   "file_extension": ".py",
   "mimetype": "text/x-python",
   "name": "python",
   "nbconvert_exporter": "python",
   "pygments_lexer": "ipython3",
   "version": "3.11.4"
  },
  "orig_nbformat": 4
 },
 "nbformat": 4,
 "nbformat_minor": 2
}

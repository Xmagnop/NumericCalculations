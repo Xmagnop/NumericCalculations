{
 "cells": [
  {
   "attachments": {},
   "cell_type": "markdown",
   "metadata": {},
   "source": [
    "# Método da Bisseção\n",
    "\n",
    "O método da bisseção é uma técnica numérica para encontrar raízes de funções contínuas.  \n",
    "Ele funciona dividindo repetidamente um intervalo em duas partes e selecionando a subparte onde a raiz está localizada.  \n",
    "Este processo continua até que a raiz seja encontrada com uma precisão desejada."
   ]
  },
  {
   "attachments": {},
   "cell_type": "markdown",
   "metadata": {},
   "source": [
    "## Importação das Bibliotecas"
   ]
  },
  {
   "cell_type": "code",
   "execution_count": 9,
   "metadata": {},
   "outputs": [
    {
     "name": "stdout",
     "output_type": "stream",
     "text": [
      "Requirement already satisfied: numpy in c:\\executaveis\\nova pasta\\lib\\site-packages (2.2.3)\n",
      "Requirement already satisfied: matplotlib in c:\\executaveis\\nova pasta\\lib\\site-packages (3.10.0)\n",
      "Requirement already satisfied: tabulate in c:\\executaveis\\nova pasta\\lib\\site-packages (0.9.0)\n",
      "Collecting sympy\n",
      "  Downloading sympy-1.13.3-py3-none-any.whl (6.2 MB)\n",
      "                                              0.0/6.2 MB ? eta -:--:--\n",
      "                                              0.1/6.2 MB 2.2 MB/s eta 0:00:03\n",
      "     -                                        0.3/6.2 MB 3.2 MB/s eta 0:00:02\n",
      "     ---                                      0.5/6.2 MB 4.0 MB/s eta 0:00:02\n",
      "     -----                                    0.8/6.2 MB 4.5 MB/s eta 0:00:02\n",
      "     -----                                    0.9/6.2 MB 4.5 MB/s eta 0:00:02\n",
      "     --------                                 1.2/6.2 MB 4.4 MB/s eta 0:00:02\n",
      "     -----------                              1.7/6.2 MB 5.2 MB/s eta 0:00:01\n",
      "     -------------                            2.1/6.2 MB 5.6 MB/s eta 0:00:01\n",
      "     ----------------                         2.5/6.2 MB 6.0 MB/s eta 0:00:01\n",
      "     -------------------                      3.0/6.2 MB 6.3 MB/s eta 0:00:01\n",
      "     ---------------------                    3.4/6.2 MB 6.5 MB/s eta 0:00:01\n",
      "     ------------------------                 3.8/6.2 MB 6.8 MB/s eta 0:00:01\n",
      "     ---------------------------              4.2/6.2 MB 6.9 MB/s eta 0:00:01\n",
      "     ------------------------------           4.7/6.2 MB 7.1 MB/s eta 0:00:01\n",
      "     ---------------------------------        5.1/6.2 MB 7.3 MB/s eta 0:00:01\n",
      "     -----------------------------------      5.5/6.2 MB 7.4 MB/s eta 0:00:01\n",
      "     -------------------------------------    5.8/6.2 MB 7.4 MB/s eta 0:00:01\n",
      "     --------------------------------------   6.0/6.2 MB 7.2 MB/s eta 0:00:01\n",
      "     ---------------------------------------  6.2/6.2 MB 7.1 MB/s eta 0:00:01\n",
      "     ---------------------------------------  6.2/6.2 MB 7.1 MB/s eta 0:00:01\n",
      "     ---------------------------------------- 6.2/6.2 MB 6.4 MB/s eta 0:00:00\n",
      "Requirement already satisfied: contourpy>=1.0.1 in c:\\executaveis\\nova pasta\\lib\\site-packages (from matplotlib) (1.3.1)\n",
      "Requirement already satisfied: cycler>=0.10 in c:\\executaveis\\nova pasta\\lib\\site-packages (from matplotlib) (0.12.1)\n",
      "Requirement already satisfied: fonttools>=4.22.0 in c:\\executaveis\\nova pasta\\lib\\site-packages (from matplotlib) (4.56.0)\n",
      "Requirement already satisfied: kiwisolver>=1.3.1 in c:\\executaveis\\nova pasta\\lib\\site-packages (from matplotlib) (1.4.8)\n",
      "Requirement already satisfied: packaging>=20.0 in c:\\users\\019.705184\\appdata\\roaming\\python\\python311\\site-packages (from matplotlib) (24.2)\n",
      "Requirement already satisfied: pillow>=8 in c:\\executaveis\\nova pasta\\lib\\site-packages (from matplotlib) (11.1.0)\n",
      "Requirement already satisfied: pyparsing>=2.3.1 in c:\\executaveis\\nova pasta\\lib\\site-packages (from matplotlib) (3.2.1)\n",
      "Requirement already satisfied: python-dateutil>=2.7 in c:\\users\\019.705184\\appdata\\roaming\\python\\python311\\site-packages (from matplotlib) (2.9.0.post0)\n",
      "Collecting mpmath<1.4,>=1.1.0 (from sympy)\n",
      "  Downloading mpmath-1.3.0-py3-none-any.whl (536 kB)\n",
      "                                              0.0/536.2 kB ? eta -:--:--\n",
      "     --------------------                   286.7/536.2 kB 5.9 MB/s eta 0:00:01\n",
      "     -------------------------------------- 536.2/536.2 kB 5.6 MB/s eta 0:00:00\n",
      "Requirement already satisfied: six>=1.5 in c:\\users\\019.705184\\appdata\\roaming\\python\\python311\\site-packages (from python-dateutil>=2.7->matplotlib) (1.17.0)\n",
      "Installing collected packages: mpmath, sympy\n",
      "Successfully installed mpmath-1.3.0 sympy-1.13.3\n"
     ]
    },
    {
     "name": "stderr",
     "output_type": "stream",
     "text": [
      "\n",
      "[notice] A new release of pip is available: 23.1.2 -> 25.0.1\n",
      "[notice] To update, run: python.exe -m pip install --upgrade pip\n"
     ]
    }
   ],
   "source": [
    "!pip install numpy matplotlib tabulate sympy"
   ]
  },
  {
   "cell_type": "code",
   "execution_count": 10,
   "metadata": {},
   "outputs": [],
   "source": [
    "import sys\n",
    "import os\n",
    "\n",
    "# Obtém o caminho absoluto do diretório do notebook\n",
    "notebook_dir = os.path.abspath('')\n",
    "\n",
    "# Adiciona o diretório pai ao sys.path para reconhecer \"Graph\"\n",
    "sys.path.append(os.path.join(notebook_dir, '..'))\n",
    "\n",
    "import numpy as np\n",
    "import sympy as sp\n",
    "from tabulate import tabulate\n",
    "from Graph.graph import plotar_funcao"
   ]
  },
  {
   "attachments": {},
   "cell_type": "markdown",
   "metadata": {},
   "source": [
    "## Implementação do Método da Bisseção"
   ]
  },
  {
   "cell_type": "code",
   "execution_count": 18,
   "metadata": {},
   "outputs": [],
   "source": [
    "def bissecao(f, a, b, tol=1e-6):\n",
    "    \"\"\"\n",
    "    Implementa o método da bisseção para encontrar a raiz de uma função.\n",
    "    \n",
    "    Parâmetros:\n",
    "    f  -- Função contínua\n",
    "    a  -- Extremidade esquerda do intervalo\n",
    "    b  -- Extremidade direita do intervalo\n",
    "    tol -- Tolerância para o erro (padrão: 1e-6)\n",
    "    \n",
    "    Retorna:\n",
    "    raiz aproximada e tabela com as iterações\n",
    "    \"\"\"\n",
    "    if f(a) * f(b) >= 0:\n",
    "        raise ValueError(\"O intervalo não contém uma raiz ou possui múltiplas raízes.\")\n",
    "    \n",
    "    max_iter = int(np.ceil(np.log2((b - a) / tol)))\n",
    "    tabela = []\n",
    "    raiz_anterior = None\n",
    "    \n",
    "    for i in range(max_iter):\n",
    "        c = (a + b) / 2\n",
    "        erro_absoluto = abs(f(c))\n",
    "        erro_relativo = abs((c - raiz_anterior) / c) if raiz_anterior is not None else None\n",
    "        tabela.append([i + 1, a, b, c, f(c), abs(b - a), erro_absoluto, erro_relativo])\n",
    "        raiz_anterior = c\n",
    "        \n",
    "        if erro_absoluto < tol:\n",
    "            break\n",
    "        \n",
    "        if f(a) * f(c) < 0:\n",
    "            b = c\n",
    "        else:\n",
    "            a = c\n",
    "    \n",
    "    return c, tabela"
   ]
  },
  {
   "attachments": {},
   "cell_type": "markdown",
   "metadata": {},
   "source": [
    "## Aplicação do Método"
   ]
  },
  {
   "cell_type": "code",
   "execution_count": 19,
   "metadata": {},
   "outputs": [
    {
     "name": "stdout",
     "output_type": "stream",
     "text": [
      "  Iteração       a       b       c     f(c)    Erro    Erro Absoluto    Erro Relativo\n",
      "----------  ------  ------  ------  -------  ------  ---------------  ---------------\n",
      "         1  1.0000  2.0000  1.5000   0.1524  1.0000           0.1524\n",
      "         2  1.0000  1.5000  1.2500  -0.0288  0.5000           0.0288           0.2000\n",
      "         3  1.2500  1.5000  1.3750   0.0583  0.2500           0.0583           0.0909\n",
      "         4  1.2500  1.3750  1.3125   0.0137  0.1250           0.0137           0.0476\n",
      "         5  1.2500  1.3125  1.2812  -0.0078  0.0625           0.0078           0.0244\n",
      "         6  1.2812  1.3125  1.2969   0.0029  0.0312           0.0029           0.0120\n",
      "         7  1.2812  1.2969  1.2891  -0.0025  0.0156           0.0025           0.0061\n",
      "         8  1.2891  1.2969  1.2930   0.0002  0.0078           0.0002           0.0030\n",
      "Raiz aproximada: 1.2930\n"
     ]
    }
   ],
   "source": [
    "# Entrada do usuário\n",
    "x = sp.Symbol('x')\n",
    "expressao = input(\"Digite a função em termos de x (ex: sin(x) + exp(x)): \")\n",
    "funcao = sp.lambdify(x, sp.sympify(expressao), 'numpy')\n",
    "\n",
    "a = float(input(\"Digite o limite inferior do intervalo: \"))\n",
    "b = float(input(\"Digite o limite superior do intervalo: \"))\n",
    "tol = float(input(\"Digite o limite de erro: \"))\n",
    "\n",
    "# Aplicando o método da bisseção\n",
    "raiz, tabela = bissecao(funcao, a, b, tol)\n",
    "\n",
    "# Exibindo resultados\n",
    "print(tabulate(tabela, headers=[\"Iteração\", \"a\", \"b\", \"c\", \"f(c)\", \"Erro\", \"Erro Absoluto\", \"Erro Relativo\"], floatfmt=\".4f\"))\n",
    "print(f\"Raiz aproximada: {raiz:.4f}\")"
   ]
  }
 ],
 "metadata": {
  "kernelspec": {
   "display_name": "Python 3",
   "language": "python",
   "name": "python3"
  },
  "language_info": {
   "codemirror_mode": {
    "name": "ipython",
    "version": 3
   },
   "file_extension": ".py",
   "mimetype": "text/x-python",
   "name": "python",
   "nbconvert_exporter": "python",
   "pygments_lexer": "ipython3",
   "version": "3.11.4"
  },
  "orig_nbformat": 4
 },
 "nbformat": 4,
 "nbformat_minor": 2
}

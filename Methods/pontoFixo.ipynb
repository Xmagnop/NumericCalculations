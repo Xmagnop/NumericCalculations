{
 "cells": [
  {
   "attachments": {},
   "cell_type": "markdown",
   "metadata": {},
   "source": [
    "# Ponto Fixo"
   ]
  },
  {
   "attachments": {},
   "cell_type": "markdown",
   "metadata": {},
   "source": [
    "O método do Ponto Fixo busca encontrar a raiz de uma função definindo uma função iterativa g(x) tal que x_{n+1} = g(x_n). O processo continua até que o erro seja menor que a tolerância"
   ]
  },
  {
   "cell_type": "code",
   "execution_count": 1,
   "metadata": {},
   "outputs": [],
   "source": [
    "import sys\n",
    "import os\n",
    "\n",
    "# Obtém o caminho absoluto do diretório do notebook\n",
    "notebook_dir = os.path.abspath('')\n",
    "\n",
    "# Adiciona o diretório pai ao sys.path para reconhecer \"Graph\"\n",
    "sys.path.append(os.path.join(notebook_dir, '..'))\n",
    "\n",
    "import numpy as np\n",
    "import sympy as sp\n",
    "from tabulate import tabulate\n",
    "from Graph.graph import plotar_funcao"
   ]
  },
  {
   "cell_type": "code",
   "execution_count": 2,
   "metadata": {},
   "outputs": [],
   "source": [
    "def funcoes_iterativas(g, x0, tol):\n",
    "    \"\"\"\n",
    "    Implementa o método das funções iterativas.\n",
    "    \n",
    "    Parâmetros:\n",
    "    g -- Função iterativa g(x)\n",
    "    x0 -- Aproximação inicial\n",
    "    tol -- Tolerância do erro\n",
    "    \n",
    "    Retorna:\n",
    "    raiz aproximada e tabela com as iterações\n",
    "    \"\"\"\n",
    "    tabela = []\n",
    "    erro_absoluto = None\n",
    "    erro_relativo = None\n",
    "    iter = 0\n",
    "    \n",
    "    while True:\n",
    "        x1 = g(x0)\n",
    "        erro_absoluto = abs(x1 - x0)\n",
    "        erro_relativo = abs((x1 - x0) / x1) if x1 != 0 else float('inf')\n",
    "        \n",
    "        tabela.append([iter, x0, x1, erro_absoluto, erro_relativo])\n",
    "        iter += 1\n",
    "        \n",
    "        if erro_absoluto <= tol:\n",
    "            return x1, tabela\n",
    "        \n",
    "        x0 = x1"
   ]
  },
  {
   "cell_type": "code",
   "execution_count": 4,
   "metadata": {},
   "outputs": [
    {
     "data": {
      "image/png": "[encoded data removed]",
      "text/plain": [
       "<Figure size 640x480 with 1 Axes>"
      ]
     },
     "metadata": {},
     "output_type": "display_data"
    },
    {
     "name": "stdout",
     "output_type": "stream",
     "text": [
      "  Interação     x_n    g(x_n)    Erro Absoluto    Erro Relativo\n",
      "-----------  ------  --------  ---------------  ---------------\n",
      "          1  0.5000    0.6931           0.1931           0.2787\n",
      "          2  0.6931    0.8697           0.1766           0.2030\n",
      "          3  0.8697    1.0078           0.1380           0.1370\n",
      "          4  1.0078    1.1038           0.0960           0.0870\n",
      "          5  1.1038    1.1655           0.0617           0.0530\n",
      "          6  1.1655    1.2033           0.0378           0.0314\n",
      "          7  1.2033    1.2257           0.0224           0.0183\n",
      "          8  1.2257    1.2388           0.0131           0.0106\n",
      "          9  1.2388    1.2463           0.0076           0.0061\n",
      "         10  1.2463    1.2507           0.0043           0.0035\n",
      "         11  1.2507    1.2531           0.0025           0.0020\n",
      "         12  1.2531    1.2546           0.0014           0.0011\n",
      "         13  1.2546    1.2554           0.0008           0.0006\n",
      "Raiz aproximada: 1.2554\n"
     ]
    }
   ],
   "source": [
    "# Entrada do usuário\n",
    "x = sp.symbols('x')\n",
    "f_usuario = input(\"Digite a função f(x): \")\n",
    "g_usuario = input(\"Digite a função iterativa g(x) (ou pressione Enter para calcular automaticamente): \")\n",
    "x0 = float(input(\"Digite a aproximação inicial: \"))\n",
    "tol = float(input(\"Digite o erro de tolerância: \"))\n",
    "\n",
    "# Processamento das funções\n",
    "f_simbolica = sp.sympify(f_usuario)\n",
    "f_lambdify = sp.lambdify(x, f_simbolica, 'numpy')\n",
    "\n",
    "if g_usuario.strip():\n",
    "    g_simbolica = sp.sympify(g_usuario)\n",
    "else:\n",
    "    g_simbolica = x - f_simbolica / sp.diff(f_simbolica, x)  # Função iterativa derivada automaticamente\n",
    "\n",
    "g_lambdify = sp.lambdify(x, g_simbolica, 'numpy')\n",
    "\n",
    "raiz, tabela = funcoes_iterativas(g_lambdify, x0, tol)\n",
    "\n",
    "plotar_funcao(f_lambdify)\n",
    "\n",
    "# Exibindo tabela de resultados\n",
    "print(tabulate(tabela, headers=[\"Interação\", \"x_n\", \"g(x_n)\", \"Erro Absoluto\", \"Erro Relativo\"], floatfmt=\".4f\"))\n",
    "print(f\"Raiz aproximada: {raiz:.4f}\")"
   ]
  }
 ],
 "metadata": {
  "kernelspec": {
   "display_name": "Python 3",
   "language": "python",
   "name": "python3"
  },
  "language_info": {
   "codemirror_mode": {
    "name": "ipython",
    "version": 3
   },
   "file_extension": ".py",
   "mimetype": "text/x-python",
   "name": "python",
   "nbconvert_exporter": "python",
   "pygments_lexer": "ipython3",
   "version": "3.11.4"
  },
  "orig_nbformat": 4
 },
 "nbformat": 4,
 "nbformat_minor": 2
}

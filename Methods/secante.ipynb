{
 "cells": [
  {
   "attachments": {},
   "cell_type": "markdown",
   "metadata": {},
   "source": [
    "# Método da Secante"
   ]
  },
  {
   "attachments": {},
   "cell_type": "markdown",
   "metadata": {},
   "source": [
    "O método da secante é uma técnica numérica para encontrar raízes de funções. Diferente do método da bisseção, ele não requer que o intervalo inicial contenha uma raiz. Ele utiliza uma aproximação baseada em uma reta secante para iterativamente encontrar a raiz."
   ]
  },
  {
   "cell_type": "code",
   "execution_count": 1,
   "metadata": {},
   "outputs": [],
   "source": [
    "import sys\n",
    "import os\n",
    "\n",
    "# Obtém o caminho absoluto do diretório do notebook\n",
    "notebook_dir = os.path.abspath('')\n",
    "\n",
    "# Adiciona o diretório pai ao sys.path para reconhecer \"Graph\"\n",
    "sys.path.append(os.path.join(notebook_dir, '..'))\n",
    "\n",
    "import numpy as np\n",
    "import sympy as sp\n",
    "from tabulate import tabulate\n",
    "from Graph.graph import plotar_funcao"
   ]
  },
  {
   "cell_type": "code",
   "execution_count": 6,
   "metadata": {},
   "outputs": [],
   "source": [
    "def secante(f, x0, x1, tol=0.001):\n",
    "    \"\"\"\n",
    "    Implementa o método da secante para encontrar a raiz de uma função.\n",
    "\n",
    "    Parâmetros:\n",
    "    f  -- Função contínua\n",
    "    x0 -- Primeira aproximação inicial\n",
    "    x1 -- Segunda aproximação inicial\n",
    "    tol -- Tolerância para o erro (padrão: 1e-6)\n",
    "    max_iter -- Número máximo de iterações\n",
    "\n",
    "    Retorna:\n",
    "    raiz aproximada e tabela com as iterações\n",
    "    \"\"\"\n",
    "    tabela = []\n",
    "    iter = 0\n",
    "    erro_absoluto = None\n",
    "    erro_relativo = None\n",
    "\n",
    "    while True:\n",
    "        if abs(f(x1) - f(x0)) < 1e-12:  # Evita divisão por zero\n",
    "            raise ValueError(f\"Erro: Divisão por zero detectada no método da secante na iteração: {iter}.\")\n",
    "        \n",
    "        x2 = x1 - f(x1) * (x1 - x0) / (f(x1) - f(x0))\n",
    "        erro_absoluto = abs(x2 - x1)\n",
    "        erro_relativo = abs((x2 - x1) / x2) if x2 != 0 else None\n",
    "\n",
    "        tabela.append([iter, x0, x1, x2, f(x2), erro_absoluto, erro_relativo])\n",
    "        iter += 1\n",
    "\n",
    "        if erro_absoluto < tol:\n",
    "            return x2, tabela\n",
    "\n",
    "        x0, x1 = x1, x2  # Atualiza valores"
   ]
  },
  {
   "cell_type": "code",
   "execution_count": 7,
   "metadata": {},
   "outputs": [
    {
     "data": {
      "image/png": "[encoded data removed]",
      "text/plain": [
       "<Figure size 640x480 with 1 Axes>"
      ]
     },
     "metadata": {},
     "output_type": "display_data"
    },
    {
     "name": "stdout",
     "output_type": "stream",
     "text": [
      "  Iteração      x0      x1      x2    f(x2)    Erro Absoluto    Erro Relativo\n",
      "----------  ------  ------  ------  -------  ---------------  ---------------\n",
      "         0  1.0000  5.0000  4.7744  -0.9615           0.2256           0.0473\n",
      "         1  5.0000  4.7744  3.9111   0.1279           0.8633           0.2207\n",
      "         2  4.7744  3.9111  4.0125  -0.0150           0.1013           0.0253\n",
      "         3  3.9111  4.0125  4.0018  -0.0003           0.0106           0.0027\n",
      "         4  4.0125  4.0018  4.0016   0.0000           0.0002           0.0000\n",
      "Raiz aproximada: 4.0016\n"
     ]
    }
   ],
   "source": [
    "# Definição da função pelo usuário\n",
    "x = sp.Symbol('x')\n",
    "expressao = input(\"Digite a função em termos de x (ex: sin(x) + exp(x)): \")\n",
    "funcao = sp.lambdify(x, sp.sympify(expressao), 'numpy')\n",
    "\n",
    "# Solicita os valores iniciais\n",
    "x0 = float(input(\"Digite a primeira aproximação inicial: \"))\n",
    "x1 = float(input(\"Digite a segunda aproximação inicial: \"))\n",
    "tol = float(input(\"Digite o erro tolerado: \"))\n",
    "\n",
    "plotar_funcao(funcao)\n",
    "\n",
    "# Aplicando o método da secante\n",
    "raiz, tabela = secante(funcao, x0, x1)\n",
    "\n",
    "# Exibindo resultados\n",
    "print(tabulate(tabela, headers=[\"Iteração\", \"x0\", \"x1\", \"x2\", \"f(x2)\", \"Erro Absoluto\", \"Erro Relativo\"], floatfmt=\".4f\"))\n",
    "print(f\"Raiz aproximada: {raiz:.4f}\")"
   ]
  }
 ],
 "metadata": {
  "kernelspec": {
   "display_name": "Python 3",
   "language": "python",
   "name": "python3"
  },
  "language_info": {
   "codemirror_mode": {
    "name": "ipython",
    "version": 3
   },
   "file_extension": ".py",
   "mimetype": "text/x-python",
   "name": "python",
   "nbconvert_exporter": "python",
   "pygments_lexer": "ipython3",
   "version": "3.10.1"
  },
  "orig_nbformat": 4
 },
 "nbformat": 4,
 "nbformat_minor": 2
}

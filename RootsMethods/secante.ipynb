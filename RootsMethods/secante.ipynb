{
 "cells": [
  {
   "attachments": {},
   "cell_type": "markdown",
   "metadata": {},
   "source": [
    "# Método da Secante"
   ]
  },
  {
   "attachments": {},
   "cell_type": "markdown",
   "metadata": {},
   "source": [
    "O método da secante é uma técnica numérica para encontrar raízes de funções. Diferente do método da bisseção, ele não requer que o intervalo inicial contenha uma raiz. Ele utiliza uma aproximação baseada em uma reta secante para iterativamente encontrar a raiz."
   ]
  },
  {
   "cell_type": "code",
   "execution_count": 1,
   "metadata": {},
   "outputs": [],
   "source": [
    "import sys\n",
    "import os\n",
    "\n",
    "# Obtém o caminho absoluto do diretório do notebook\n",
    "notebook_dir = os.path.abspath('')\n",
    "\n",
    "# Adiciona o diretório pai ao sys.path para reconhecer \"Graph\"\n",
    "sys.path.append(os.path.join(notebook_dir, '..'))\n",
    "\n",
    "import numpy as np\n",
    "import sympy as sp\n",
    "from tabulate import tabulate\n",
    "from Graph.graph import plotar_funcao"
   ]
  },
  {
   "cell_type": "code",
   "execution_count": 6,
   "metadata": {},
   "outputs": [],
   "source": [
    "def secante(f, x0, x1, tol=0.0001):\n",
    "    \"\"\"\n",
    "    Implementa o método da secante para encontrar a raiz de uma função.\n",
    "\n",
    "    Parâmetros:\n",
    "    f  -- Função contínua\n",
    "    x0 -- Primeira aproximação inicial\n",
    "    x1 -- Segunda aproximação inicial\n",
    "    tol -- Tolerância para o erro (padrão: 1e-6)\n",
    "    max_iter -- Número máximo de iterações\n",
    "\n",
    "    Retorna:\n",
    "    raiz aproximada e tabela com as iterações\n",
    "    \"\"\"\n",
    "    tabela = []\n",
    "    iter = 0\n",
    "    erro_absoluto = None\n",
    "    erro_relativo = None\n",
    "\n",
    "    while True:\n",
    "        if abs(f(x1) - f(x0)) < 1e-12:  # Evita divisão por zero\n",
    "            raise ValueError(f\"Erro: Divisão por zero detectada no método da secante na iteração: {iter}.\")\n",
    "        \n",
    "        x2 = x1 - f(x1) * (x1 - x0) / (f(x1) - f(x0))\n",
    "        erro_absoluto = abs(x2 - x1)\n",
    "        erro_relativo = abs((x2 - x1) / x2) if x2 != 0 else None\n",
    "\n",
    "        tabela.append([iter, x0, x1, x2, f(x2), erro_absoluto, erro_relativo])\n",
    "        iter += 1\n",
    "\n",
    "        if erro_relativo < tol:\n",
    "            return x2, tabela\n",
    "\n",
    "        x0, x1 = x1, x2  # Atualiza valores"
   ]
  },
  {
   "cell_type": "code",
   "execution_count": 7,
   "metadata": {},
   "outputs": [
    {
     "data": {
      "image/png": "[encoded data removed]",
      "text/plain": [
       "<Figure size 640x480 with 1 Axes>"
      ]
     },
     "metadata": {},
     "output_type": "display_data"
    },
    {
     "name": "stdout",
     "output_type": "stream",
     "text": [
      "  Iteração        x0        x1        x2     f(x2)    Erro Absoluto    Erro Relativo\n",
      "----------  --------  --------  --------  --------  ---------------  ---------------\n",
      "         0  -2.00000   0.00000  -1.37490  -0.35578          1.37490          1.00000\n",
      "         1   0.00000  -1.37490  -1.16726  -0.08694          0.20764          0.17789\n",
      "         2  -1.37490  -1.16726  -1.10011   0.00863          0.06715          0.06104\n",
      "         3  -1.16726  -1.10011  -1.10618  -0.00017          0.00606          0.00548\n",
      "         4  -1.10011  -1.10618  -1.10606  -0.00000          0.00012          0.00010\n",
      "         5  -1.10618  -1.10606  -1.10606   0.00000          0.00000          0.00000\n",
      "Raiz aproximada: -1.1061\n"
     ]
    }
   ],
   "source": [
    "# Definição da função pelo usuário\n",
    "x = sp.Symbol('x')\n",
    "expressao = input(\"Digite a função em termos de x (ex: sin(x) + exp(x)): \")\n",
    "funcao = sp.lambdify(x, sp.sympify(expressao), 'numpy')\n",
    "\n",
    "# Solicita os valores iniciais\n",
    "x0 = float(input(\"Digite a primeira aproximação inicial: \"))\n",
    "x1 = float(input(\"Digite a segunda aproximação inicial: \"))\n",
    "tol = float(input(\"Digite o erro tolerado: \"))\n",
    "\n",
    "plotar_funcao(funcao)\n",
    "\n",
    "# Aplicando o método da secante\n",
    "raiz, tabela = secante(funcao, x0, x1)\n",
    "\n",
    "# Exibindo resultados\n",
    "print(tabulate(tabela, headers=[\"Iteração\", \"x0\", \"x1\", \"x2\", \"f(x2)\", \"Erro Absoluto\", \"Erro Relativo\"], floatfmt=\".5f\"))\n",
    "print(f\"Raiz aproximada: {raiz:.4f}\")"
   ]
  }
 ],
 "metadata": {
  "kernelspec": {
   "display_name": "Python 3",
   "language": "python",
   "name": "python3"
  },
  "language_info": {
   "codemirror_mode": {
    "name": "ipython",
    "version": 3
   },
   "file_extension": ".py",
   "mimetype": "text/x-python",
   "name": "python",
   "nbconvert_exporter": "python",
   "pygments_lexer": "ipython3",
   "version": "3.11.4"
  },
  "orig_nbformat": 4
 },
 "nbformat": 4,
 "nbformat_minor": 2
}

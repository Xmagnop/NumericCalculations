{
 "cells": [
  {
   "attachments": {},
   "cell_type": "markdown",
   "metadata": {},
   "source": [
    "## Gauss/seidel para Sistemas não Lineares"
   ]
  },
  {
   "attachments": {},
   "cell_type": "markdown",
   "metadata": {},
   "source": [
    "O método de Gauss-Seidel para sistemas não lineares resolve iterativamente o sistema, utilizando os valores mais recentes disponíveis para acelerar a convergência."
   ]
  },
  {
   "cell_type": "code",
   "execution_count": 1,
   "metadata": {},
   "outputs": [],
   "source": [
    "import numpy as np\n",
    "import sympy as sp\n",
    "from tabulate import tabulate"
   ]
  },
  {
   "cell_type": "code",
   "execution_count": 7,
   "metadata": {},
   "outputs": [],
   "source": [
    "def gauss_seidel_sistemas(funcs, vars, x0, tol, max_iter=100):\n",
    "    \"\"\"\n",
    "    Resolve sistemas de equações não lineares pelo método de Gauss-Seidel.\n",
    "    \n",
    "    Parâmetros:\n",
    "    funcs -- Lista de funções do sistema (expressões simbólicas)\n",
    "    vars -- Lista de variáveis simbólicas\n",
    "    x0 -- Aproximação inicial (array ou lista)\n",
    "    tol -- Erro de tolerância\n",
    "    max_iter -- Número máximo de iterações (padrão: 100)\n",
    "    \n",
    "    Retorna:\n",
    "    Solução aproximada e tabela com as iterações\n",
    "    \"\"\"\n",
    "    # Isola cada variável em suas respectivas funções\n",
    "    isolated_funcs = []\n",
    "    for i, func in enumerate(funcs):\n",
    "        # Isola a variável vars[i] na função func\n",
    "        isolated_var = sp.solve(func, vars[i])\n",
    "        if not isolated_var:\n",
    "            raise ValueError(f\"Não foi possível isolar a variável {vars[i]} na função {func}.\")\n",
    "        isolated_funcs.append(sp.lambdify(vars, isolated_var[0], 'numpy'))\n",
    "    \n",
    "    # Inicializa a solução inicial\n",
    "    x = np.array(x0, dtype=float)\n",
    "    tabela = []\n",
    "    \n",
    "    for iteration in range(max_iter):\n",
    "        x_old = x.copy()\n",
    "        \n",
    "        # Atualização sequencial de Gauss-Seidel\n",
    "        for i in range(len(vars)):\n",
    "            x[i] = isolated_funcs[i](*x)  # Atualiza x[i] usando a função correspondente\n",
    "        \n",
    "        # Calcula os erros absoluto e relativo\n",
    "        erro_absoluto = np.linalg.norm(x - x_old)\n",
    "        erro_relativo = erro_absoluto / (np.linalg.norm(x) if np.linalg.norm(x) != 0 else 1)\n",
    "        \n",
    "        # Armazena os resultados na tabela\n",
    "        tabela.append([iteration, *np.round(x, 4), round(erro_absoluto, 4), round(erro_relativo, 4)])\n",
    "        \n",
    "        # Verifica a condição de parada\n",
    "        if erro_absoluto <= tol:\n",
    "            return np.round(x, 4), tabela  # Arredonda a solução final para 4 casas decimais\n",
    "    \n",
    "    print(\"O método não convergiu dentro do número máximo de iterações.\")\n",
    "    return np.round(x, 4), tabela"
   ]
  },
  {
   "cell_type": "code",
   "execution_count": 9,
   "metadata": {},
   "outputs": [
    {
     "name": "stdout",
     "output_type": "stream",
     "text": [
      "  Iteração       x1      x2       x3    Erro Absoluto    Erro Relativo\n",
      "----------  -------  ------  -------  ---------------  ---------------\n",
      "         0  10.0000  6.6667  -5.3333          13.1487           1.0000\n",
      "         1   9.7333  4.8000  -4.9333           1.9276           0.1617\n",
      "         2  10.0267  5.0311  -5.0089           0.3810           0.0310\n",
      "         3   9.9956  4.9956  -4.9987           0.0483           0.0039\n",
      "         4  10.0006  5.0007  -5.0002           0.0073           0.0006\n",
      "         5   9.9999  4.9999  -5.0000           0.0011           0.0001\n",
      "         6  10.0000  5.0000  -5.0000           0.0002           0.0000\n",
      "         7  10.0000  5.0000  -5.0000           0.0000           0.0000\n",
      "Solução aproximada: [10.  5. -5.]\n"
     ]
    }
   ],
   "source": [
    "# Entrada do usuário\n",
    "n = int(input(\"Digite o número de equações/variáveis: \"))\n",
    "vars = sp.symbols(f'x1:{n+1}')\n",
    "# funcs = []\n",
    "funcs = [sp.sympify(\"5*x1+x2+x3-50\"), sp.sympify(\"-x1+3*x2-x3-10\"), sp.sympify(\"x1+2*x2+10*x3+30\")]\n",
    "\n",
    "# print(\"Digite as funções do sistema:\")\n",
    "# for i in range(n):\n",
    "    # funcs.append(sp.sympify(input(f\"f{i+1}(x1, ..., xn) = \")))\n",
    "\n",
    "x0 = [float(input(f\"Digite x{i+1} inicial: \")) for i in range(n)]\n",
    "tol = float(input(\"Digite o erro de tolerância: \"))\n",
    "\n",
    "solucao, tabela = gauss_seidel_sistemas(funcs, vars, x0, tol)\n",
    "\n",
    "# Exibindo tabela de resultados\n",
    "headers = [\"Iteração\"] + [f\"x{i+1}\" for i in range(n)] + [\"Erro Absoluto\", \"Erro Relativo\"]\n",
    "print(tabulate(tabela, headers=headers, floatfmt=\".4f\"))\n",
    "print(f\"Solução aproximada: {solucao}\")"
   ]
  }
 ],
 "metadata": {
  "kernelspec": {
   "display_name": "Python 3",
   "language": "python",
   "name": "python3"
  },
  "language_info": {
   "codemirror_mode": {
    "name": "ipython",
    "version": 3
   },
   "file_extension": ".py",
   "mimetype": "text/x-python",
   "name": "python",
   "nbconvert_exporter": "python",
   "pygments_lexer": "ipython3",
   "version": "3.10.1"
  },
  "orig_nbformat": 4
 },
 "nbformat": 4,
 "nbformat_minor": 2
}

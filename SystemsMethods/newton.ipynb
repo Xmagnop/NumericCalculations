{
 "cells": [
  {
   "attachments": {},
   "cell_type": "markdown",
   "metadata": {},
   "source": [
    "## Newton para Sistemas não Lineares"
   ]
  },
  {
   "attachments": {},
   "cell_type": "markdown",
   "metadata": {},
   "source": [
    "O método de Newton para sistemas não lineares busca encontrar a solução de um sistema f(x) = 0 utilizando aproximações sucessivas e a inversa do Jacobiano.\n"
   ]
  },
  {
   "cell_type": "code",
   "execution_count": 1,
   "metadata": {},
   "outputs": [],
   "source": [
    "import numpy as np\n",
    "import sympy as sp\n",
    "from tabulate import tabulate"
   ]
  },
  {
   "cell_type": "code",
   "execution_count": 12,
   "metadata": {},
   "outputs": [],
   "source": [
    "def newton_sistemas(funcs, vars, x0, tol, max_iter=100):\n",
    "    \"\"\"\n",
    "    Resolve sistemas de equações não lineares pelo método de Newton.\n",
    "\n",
    "    Parâmetros:\n",
    "    funcs -- Lista de funções do sistema (expressões simbólicas)\n",
    "    vars -- Lista de variáveis simbólicas\n",
    "    x0 -- Aproximação inicial (array ou lista)\n",
    "    tol -- Erro de tolerância\n",
    "    max_iter -- Número máximo de iterações\n",
    "\n",
    "    Retorna:\n",
    "    Solução aproximada e tabela com as iterações\n",
    "    \"\"\"\n",
    "    # Calcula o Jacobiano simbólico\n",
    "    J = sp.Matrix([[sp.diff(f, var) for var in vars] for f in funcs])\n",
    "    \n",
    "    # Converte as funções e o Jacobiano para funções numéricas\n",
    "    f_lambdify = sp.lambdify(vars, funcs, 'numpy')\n",
    "    J_lambdify = sp.lambdify(vars, J, 'numpy')\n",
    "\n",
    "    # Inicializa a solução inicial\n",
    "    x = np.array(x0, dtype=float)\n",
    "    tabela = []\n",
    "\n",
    "    for iter in range(max_iter):\n",
    "        # Avalia as funções e o Jacobiano no ponto atual\n",
    "        F_val = np.array(f_lambdify(*x), dtype=float).flatten()\n",
    "        J_val = np.array(J_lambdify(*x), dtype=float)\n",
    "\n",
    "        # Verifica se o Jacobiano está mal condicionado\n",
    "        if np.linalg.cond(J_val) > 1e12:\n",
    "            print(\"Jacobiano mal condicionado! Pode não haver convergência.\")\n",
    "            return None, tabela\n",
    "\n",
    "        try:\n",
    "            # Resolve o sistema linear J * delta_x = -F\n",
    "            delta_x = np.linalg.solve(J_val, -F_val)\n",
    "        except np.linalg.LinAlgError:\n",
    "            print(\"Erro: Jacobiano singular ou indefinido.\")\n",
    "            return None, tabela\n",
    "\n",
    "        # Atualiza a solução\n",
    "        x_new = x + delta_x\n",
    "\n",
    "        # Calcula os erros absoluto e relativo\n",
    "        erro_absoluto = np.linalg.norm(delta_x)\n",
    "        erro_relativo = erro_absoluto / (np.linalg.norm(x_new) if np.linalg.norm(x_new) != 0 else 1)\n",
    "\n",
    "        # Armazena os resultados na tabela\n",
    "        tabela.append([iter, *x, erro_absoluto, erro_relativo])\n",
    "\n",
    "        # Verifica a condição de parada\n",
    "        if erro_absoluto <= tol and iter > 10:\n",
    "            return np.round(x_new, 4), tabela\n",
    "\n",
    "        # Atualiza o ponto para a próxima iteração\n",
    "        x = x_new\n",
    "\n",
    "    print(\"Número máximo de iterações atingido.\")\n",
    "    return np.round(x, 4), tabela"
   ]
  },
  {
   "cell_type": "code",
   "execution_count": 10,
   "metadata": {},
   "outputs": [],
   "source": [
    "funcs = [sp.sympify(\"x1**2+x2**2-4\"), sp.sympify(\"exp(x1)+x2-1\")]"
   ]
  },
  {
   "cell_type": "code",
   "execution_count": 13,
   "metadata": {},
   "outputs": [
    {
     "name": "stdout",
     "output_type": "stream",
     "text": [
      "  Iteração       x1      x2    Erro Absoluto    Erro Relativo\n",
      "----------  -------  ------  ---------------  ---------------\n",
      "         0   1.0000  1.7183           1.8757           0.6841\n",
      "         1  -0.6151  2.6721           2.3079           0.7557\n",
      "         2  -2.6316  1.5495           0.9099           0.4141\n",
      "         3  -2.0118  0.8834           0.1919           0.0955\n",
      "         4  -1.8246  0.8412           0.0092           0.0046\n",
      "         5  -1.8163  0.8374           0.0000           0.0000\n",
      "         6  -1.8163  0.8374           0.0000           0.0000\n",
      "         7  -1.8163  0.8374           0.0000           0.0000\n",
      "         8  -1.8163  0.8374           0.0000           0.0000\n",
      "         9  -1.8163  0.8374           0.0000           0.0000\n",
      "        10  -1.8163  0.8374           0.0000           0.0000\n",
      "        11  -1.8163  0.8374           0.0000           0.0000\n",
      "Solução aproximada: [-1.8163  0.8374]\n"
     ]
    }
   ],
   "source": [
    "# Entrada do usuário\n",
    "if __name__ == \"__main__\":\n",
    "    n = int(input(\"Digite o número de equações/variáveis: \"))\n",
    "    vars = sp.symbols(f'x1:{n+1}')\n",
    "    \n",
    "    # Define as funções do sistema\n",
    "    # print(\"Digite as funções do sistema:\")\n",
    "    # funcs = []\n",
    "    # for i in range(n):\n",
    "    #     func_input = input(f\"f{i+1}(x1, ..., xn) = \")\n",
    "    #     funcs.append(sp.sympify(func_input))\n",
    "\n",
    "    # Define a aproximação inicial\n",
    "    x0 = [float(input(f\"Digite x{i+1} inicial: \")) for i in range(n)]\n",
    "    tol = float(input(\"Digite o erro de tolerância: \"))\n",
    "\n",
    "    # Executa o método de Newton\n",
    "    resultado = newton_sistemas(funcs, vars, x0, tol)\n",
    "\n",
    "    if resultado is None:\n",
    "        print(\"O método não convergiu ou houve um erro numérico.\")\n",
    "    else:\n",
    "        solucao, tabela = resultado\n",
    "        \n",
    "        # Exibe a tabela de resultados\n",
    "        headers = [\"Iteração\"] + [f\"x{i+1}\" for i in range(n)] + [\"Erro Absoluto\", \"Erro Relativo\"]\n",
    "        print(tabulate(tabela, headers=headers, floatfmt=\".4f\"))\n",
    "        \n",
    "        print(f\"Solução aproximada: {solucao}\")"
   ]
  }
 ],
 "metadata": {
  "kernelspec": {
   "display_name": "Python 3",
   "language": "python",
   "name": "python3"
  },
  "language_info": {
   "codemirror_mode": {
    "name": "ipython",
    "version": 3
   },
   "file_extension": ".py",
   "mimetype": "text/x-python",
   "name": "python",
   "nbconvert_exporter": "python",
   "pygments_lexer": "ipython3",
   "version": "3.11.4"
  },
  "orig_nbformat": 4
 },
 "nbformat": 4,
 "nbformat_minor": 2
}

{
 "cells": [
  {
   "attachments": {},
   "cell_type": "markdown",
   "metadata": {},
   "source": [
    "## Newton para Sistemas não Lineares"
   ]
  },
  {
   "attachments": {},
   "cell_type": "markdown",
   "metadata": {},
   "source": [
    "O método de Newton para sistemas não lineares busca encontrar a solução de um sistema f(x) = 0 utilizando aproximações sucessivas e a inversa do Jacobiano.\n"
   ]
  },
  {
   "cell_type": "code",
   "execution_count": 1,
   "metadata": {},
   "outputs": [],
   "source": [
    "import numpy as np\n",
    "import sympy as sp\n",
    "from tabulate import tabulate"
   ]
  },
  {
   "cell_type": "code",
   "execution_count": null,
   "metadata": {},
   "outputs": [],
   "source": [
    "def newton_sistemas(funcs, vars, x0, tol, max_iter=100):\n",
    "    \"\"\"\n",
    "    Resolve sistemas de equações não lineares pelo método de Newton.\n",
    "\n",
    "    Parâmetros:\n",
    "    funcs -- Lista de funções do sistema (expressões simbólicas)\n",
    "    vars -- Lista de variáveis simbólicas\n",
    "    x0 -- Aproximação inicial (array ou lista)\n",
    "    tol -- Erro de tolerância\n",
    "    max_iter -- Número máximo de iterações\n",
    "\n",
    "    Retorna:\n",
    "    Solução aproximada e tabela com as iterações\n",
    "    \"\"\"\n",
    "    # Calcula o Jacobiano simbólico\n",
    "    J = sp.Matrix([[sp.diff(f, var) for var in vars] for f in funcs])\n",
    "    \n",
    "    # Converte as funções e o Jacobiano para funções numéricas\n",
    "    f_lambdify = sp.lambdify(vars, funcs, 'numpy')\n",
    "    J_lambdify = sp.lambdify(vars, J, 'numpy')\n",
    "\n",
    "    # Inicializa a solução inicial\n",
    "    x = np.array(x0, dtype=float)\n",
    "    tabela = []\n",
    "\n",
    "    for iter in range(max_iter):\n",
    "        # Avalia as funções e o Jacobiano no ponto atual\n",
    "        F_val = np.array(f_lambdify(*x), dtype=float).flatten()\n",
    "        J_val = np.array(J_lambdify(*x), dtype=float)\n",
    "\n",
    "        # Verifica se o Jacobiano está mal condicionado\n",
    "        if np.linalg.cond(J_val) > 1e12:\n",
    "            print(\"Jacobiano mal condicionado! Pode não haver convergência.\")\n",
    "            return None, tabela\n",
    "\n",
    "        try:\n",
    "            # Resolve o sistema linear J * delta_x = -F\n",
    "            delta_x = np.linalg.solve(J_val, -F_val)\n",
    "        except np.linalg.LinAlgError:\n",
    "            print(\"Erro: Jacobiano singular ou indefinido.\")\n",
    "            return None, tabela\n",
    "\n",
    "        # Atualiza a solução\n",
    "        x_new = x + delta_x\n",
    "\n",
    "        # Calcula os erros absoluto e relativo\n",
    "        erro_absoluto = np.linalg.norm(delta_x)\n",
    "        erro_relativo = erro_absoluto / (np.linalg.norm(x_new) if np.linalg.norm(x_new) != 0 else 1)\n",
    "\n",
    "        # Armazena os resultados na tabela\n",
    "        tabela.append([iter, *x, erro_absoluto, erro_relativo])\n",
    "\n",
    "        # Verifica a condição de parada\n",
    "        if erro_absoluto <= tol and iter:\n",
    "            return np.round(x_new, 4), tabela\n",
    "\n",
    "        # Atualiza o ponto para a próxima iteração\n",
    "        x = x_new\n",
    "\n",
    "    print(\"Número máximo de iterações atingido.\")\n",
    "    return np.round(x, 4), tabela"
   ]
  },
  {
   "cell_type": "code",
   "execution_count": 10,
   "metadata": {},
   "outputs": [],
   "source": [
    "funcs = [sp.sympify(\"x1**2+x2**2+x3**2-9\"), sp.sympify(\"x1*x2*x3-1\"), sp.sympify(\"x1+x2-x3**2\")]"
   ]
  },
  {
   "cell_type": "code",
   "execution_count": 11,
   "metadata": {},
   "outputs": [
    {
     "name": "stdout",
     "output_type": "stream",
     "text": [
      "  Iteração       x1      x2      x3    Erro Absoluto    Erro Relativo\n",
      "----------  -------  ------  ------  ---------------  ---------------\n",
      "         0   0.7000  1.5000  1.5000           2.0366           0.5617\n",
      "         1  -0.4241  3.1895  1.6718           0.7785           0.2512\n",
      "         2   0.1067  2.6205  1.6516           0.1778           0.0592\n",
      "         3   0.2359  2.4983  1.6536           0.0097           0.0032\n",
      "         4   0.2427  2.4914  1.6535           0.0000           0.0000\n",
      "         5   0.2427  2.4914  1.6535           0.0000           0.0000\n",
      "Solução aproximada: [0.2427 2.4914 1.6535]\n"
     ]
    }
   ],
   "source": [
    "# Entrada do usuário\n",
    "if __name__ == \"__main__\":\n",
    "    n = int(input(\"Digite o número de equações/variáveis: \"))\n",
    "    vars = sp.symbols(f'x1:{n+1}')\n",
    "    \n",
    "    # Define as funções do sistema\n",
    "    # print(\"Digite as funções do sistema:\")\n",
    "    # funcs = []\n",
    "    # for i in range(n):\n",
    "    #     func_input = input(f\"f{i+1}(x1, ..., xn) = \")\n",
    "    #     funcs.append(sp.sympify(func_input))\n",
    "\n",
    "    # Define a aproximação inicial\n",
    "    x0 = [float(input(f\"Digite x{i+1} inicial: \")) for i in range(n)]\n",
    "    tol = float(input(\"Digite o erro de tolerância: \"))\n",
    "\n",
    "    # Executa o método de Newton\n",
    "    resultado = newton_sistemas(funcs, vars, x0, tol)\n",
    "\n",
    "    if resultado is None:\n",
    "        print(\"O método não convergiu ou houve um erro numérico.\")\n",
    "    else:\n",
    "        solucao, tabela = resultado\n",
    "        \n",
    "        # Exibe a tabela de resultados\n",
    "        headers = [\"Iteração\"] + [f\"x{i+1}\" for i in range(n)] + [\"Erro Absoluto\", \"Erro Relativo\"]\n",
    "        print(tabulate(tabela, headers=headers, floatfmt=\".4f\"))\n",
    "        \n",
    "        print(f\"Solução aproximada: {solucao}\")"
   ]
  }
 ],
 "metadata": {
  "kernelspec": {
   "display_name": "Python 3",
   "language": "python",
   "name": "python3"
  },
  "language_info": {
   "codemirror_mode": {
    "name": "ipython",
    "version": 3
   },
   "file_extension": ".py",
   "mimetype": "text/x-python",
   "name": "python",
   "nbconvert_exporter": "python",
   "pygments_lexer": "ipython3",
   "version": "3.10.1"
  },
  "orig_nbformat": 4
 },
 "nbformat": 4,
 "nbformat_minor": 2
}

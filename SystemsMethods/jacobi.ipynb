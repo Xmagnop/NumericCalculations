{
 "cells": [
  {
   "attachments": {},
   "cell_type": "markdown",
   "metadata": {},
   "source": [
    "## Gauss/Jacobi para Sistemas não Lineares"
   ]
  },
  {
   "attachments": {},
   "cell_type": "markdown",
   "metadata": {},
   "source": [
    "O método de Jacobi para sistemas não lineares resolve iterativamente o sistema, atualizando cada variável independentemente a partir de funções dadas."
   ]
  },
  {
   "cell_type": "code",
   "execution_count": 1,
   "metadata": {},
   "outputs": [],
   "source": [
    "import numpy as np\n",
    "import sympy as sp\n",
    "from tabulate import tabulate"
   ]
  },
  {
   "cell_type": "code",
   "execution_count": 7,
   "metadata": {},
   "outputs": [],
   "source": [
    "def jacobi_sistemas(funcs, vars, x0, tol, max_iter=100):\n",
    "    \"\"\"\n",
    "    Resolve sistemas de equações lineares pelo método de Gauss-Jacobi.\n",
    "    \n",
    "    Parâmetros:\n",
    "    funcs -- Lista de funções do sistema\n",
    "    vars -- Lista de variáveis\n",
    "    x0 -- Aproximação inicial (array)\n",
    "    tol -- Erro de tolerância\n",
    "    max_iter -- Número máximo de iterações (padrão: 100)\n",
    "    \n",
    "    Retorna:\n",
    "    Solução aproximada e tabela com as iterações\n",
    "    \"\"\"\n",
    "    n = len(vars)\n",
    "    F = sp.lambdify(vars, funcs, 'numpy')\n",
    "    x = np.array(x0, dtype=float)\n",
    "    tabela = []\n",
    "    \n",
    "    for iteration in range(max_iter):\n",
    "        x_new = np.zeros_like(x)\n",
    "        F_val = np.array(F(*x), dtype=float)\n",
    "        \n",
    "        for i in range(n):\n",
    "            x_new[i] = x[i] - F_val[i] / sp.diff(funcs[i], vars[i]).evalf(subs={vars[j]: x[j] for j in range(n)})\n",
    "        \n",
    "        erro_absoluto = round(np.linalg.norm(x_new - x), 4)\n",
    "        erro_relativo = round(erro_absoluto / (np.linalg.norm(x_new) if np.linalg.norm(x_new) != 0 else 1), 4)\n",
    "        \n",
    "        tabela.append([iteration, *np.round(x, 4), erro_absoluto, erro_relativo])\n",
    "        \n",
    "        if erro_absoluto <= tol:\n",
    "            return np.round(x_new, 4), tabela\n",
    "        \n",
    "        x = x_new\n",
    "    \n",
    "    print(\"O método não convergiu dentro do número máximo de iterações.\")\n",
    "    return np.round(x, 4), tabela"
   ]
  },
  {
   "cell_type": "code",
   "execution_count": 9,
   "metadata": {},
   "outputs": [
    {
     "name": "stdout",
     "output_type": "stream",
     "text": [
      "  Iteração       x1      x2       x3    Erro Absoluto    Erro Relativo\n",
      "----------  -------  ------  -------  ---------------  ---------------\n",
      "         0   1.0000  1.0000  -1.0000           2.7221           0.8222\n",
      "         1  -0.6667  0.8000  -3.1429           1.4578           0.4148\n",
      "         2  -1.4476  1.8952  -2.5810           0.6370           0.1754\n",
      "         3  -0.8952  2.0952  -2.8272           0.2984           0.0799\n",
      "         4  -0.9107  1.9235  -3.0707           0.1681           0.0450\n",
      "         5  -1.0491  1.9784  -2.9928           0.0616           0.0165\n",
      "         6  -1.0048  2.0182  -2.9767           0.0408           0.0109\n",
      "         7  -0.9862  1.9973  -3.0064           0.0173           0.0046\n",
      "         8  -1.0031  1.9958  -3.0028           0.0082           0.0022\n",
      "         9  -1.0023  2.0018  -2.9973           0.0049           0.0013\n",
      "        10  -0.9985  2.0004  -3.0001           0.0018           0.0005\n",
      "        11  -0.9999  1.9994  -3.0006           0.0012           0.0003\n",
      "        12  -1.0004  2.0001  -2.9998           0.0005           0.0001\n",
      "Solução aproximada: [-0.9999  2.0001 -2.9999]\n"
     ]
    }
   ],
   "source": [
    "# Entrada do usuário\n",
    "n = int(input(\"Digite o número de equações/variáveis: \"))\n",
    "vars = sp.symbols(f'x1:{n+1}')\n",
    "# funcs = []\n",
    "funcs = [sp.sympify(\"-3*x1+x2+x3-2\"), sp.sympify(\"2*x1+5*x2+x3-5\"), sp.sympify(\"2*x1+3*x2+7*x3+17\")]\n",
    "\n",
    "# print(\"Digite as funções do sistema:\")\n",
    "# for i in range(n):\n",
    "    # funcs.append(sp.sympify(input(f\"f{i+1}(x1, ..., xn) = \")))\n",
    "\n",
    "x0 = [float(input(f\"Digite x{i+1} inicial: \")) for i in range(n)]\n",
    "tol = float(input(\"Digite o erro de tolerância: \"))\n",
    "\n",
    "solucao, tabela = jacobi_sistemas(funcs, vars, x0, tol)\n",
    "\n",
    "# Exibindo tabela de resultados\n",
    "headers = [\"Iteração\"] + [f\"x{i+1}\" for i in range(n)] + [\"Erro Absoluto\", \"Erro Relativo\"]\n",
    "print(tabulate(tabela, headers=headers, floatfmt=\".4f\"))\n",
    "print(f\"Solução aproximada: {solucao}\")"
   ]
  }
 ],
 "metadata": {
  "kernelspec": {
   "display_name": "Python 3",
   "language": "python",
   "name": "python3"
  },
  "language_info": {
   "codemirror_mode": {
    "name": "ipython",
    "version": 3
   },
   "file_extension": ".py",
   "mimetype": "text/x-python",
   "name": "python",
   "nbconvert_exporter": "python",
   "pygments_lexer": "ipython3",
   "version": "3.10.1"
  },
  "orig_nbformat": 4
 },
 "nbformat": 4,
 "nbformat_minor": 2
}

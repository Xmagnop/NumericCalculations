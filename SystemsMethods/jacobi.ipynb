{
 "cells": [
  {
   "attachments": {},
   "cell_type": "markdown",
   "metadata": {},
   "source": [
    "## Gauss/Jacobi para Sistemas não Lineares"
   ]
  },
  {
   "attachments": {},
   "cell_type": "markdown",
   "metadata": {},
   "source": [
    "O método de Jacobi para sistemas não lineares resolve iterativamente o sistema, atualizando cada variável independentemente a partir de funções dadas."
   ]
  },
  {
   "cell_type": "code",
   "execution_count": 1,
   "metadata": {},
   "outputs": [],
   "source": [
    "import numpy as np\n",
    "import sympy as sp\n",
    "from tabulate import tabulate"
   ]
  },
  {
   "cell_type": "code",
   "execution_count": 9,
   "metadata": {},
   "outputs": [],
   "source": [
    "def jacobi_sistemas(funcs, vars, x0, tol, max_iter=100):\n",
    "    \"\"\"\n",
    "    Resolve sistemas de equações lineares pelo método de Gauss-Jacobi.\n",
    "    \n",
    "    Parâmetros:\n",
    "    funcs -- Lista de funções do sistema\n",
    "    vars -- Lista de variáveis\n",
    "    x0 -- Aproximação inicial (array)\n",
    "    tol -- Erro de tolerância\n",
    "    max_iter -- Número máximo de iterações (padrão: 100)\n",
    "    \n",
    "    Retorna:\n",
    "    Solução aproximada e tabela com as iterações\n",
    "    \"\"\"\n",
    "    n = len(vars)\n",
    "    F = sp.lambdify(vars, funcs, 'numpy')\n",
    "    x = np.array(x0, dtype=float)\n",
    "    tabela = []\n",
    "    \n",
    "    for iteration in range(max_iter):\n",
    "        x_new = np.zeros_like(x)\n",
    "        F_val = np.array(F(*x), dtype=float)\n",
    "        \n",
    "        for i in range(n):\n",
    "            x_new[i] = x[i] - F_val[i] / sp.diff(funcs[i], vars[i]).evalf(subs={vars[j]: x[j] for j in range(n)})\n",
    "        \n",
    "        erro_absoluto = round(np.linalg.norm(x_new - x), 4)\n",
    "        erro_relativo = round(erro_absoluto / (np.linalg.norm(x_new) if np.linalg.norm(x_new) != 0 else 1), 4)\n",
    "        \n",
    "        tabela.append([*np.round(x, 4), erro_absoluto, erro_relativo])\n",
    "        \n",
    "        if erro_absoluto <= tol:\n",
    "            return np.round(x_new, 4), tabela\n",
    "        \n",
    "        x = x_new\n",
    "    \n",
    "    print(\"O método não convergiu dentro do número máximo de iterações.\")\n",
    "    return np.round(x, 4), tabela"
   ]
  },
  {
   "cell_type": "code",
   "execution_count": 10,
   "metadata": {},
   "outputs": [
    {
     "name": "stdout",
     "output_type": "stream",
     "text": [
      "    x1       x2      x3    Erro Absoluto    Erro Relativo\n",
      "------  -------  ------  ---------------  ---------------\n",
      "0.7000  -1.6000  0.6000           0.5008           0.2183\n",
      "0.9600  -1.8600  0.9400           0.1241           0.0515\n",
      "0.9780  -1.9800  0.9660           0.0398           0.0163\n",
      "Solução aproximada: [ 0.9994 -1.9888  0.9984]\n"
     ]
    }
   ],
   "source": [
    "# Entrada do usuário\n",
    "n = int(input(\"Digite o número de equações/variáveis: \"))\n",
    "vars = sp.symbols(f'x1:{n+1}')\n",
    "# funcs = []\n",
    "funcs = [sp.sympify(\"10*x1+2*x2+x3-7\"), sp.sympify(\"x1+5*x2+x3+8\"), sp.sympify(\"2*x1+3*x2+10*x3-6\")]\n",
    "\n",
    "# print(\"Digite as funções do sistema:\")\n",
    "# for i in range(n):\n",
    "    # funcs.append(sp.sympify(input(f\"f{i+1}(x1, ..., xn) = \")))\n",
    "\n",
    "x0 = [float(input(f\"Digite x{i+1} inicial: \")) for i in range(n)]\n",
    "tol = float(input(\"Digite o erro de tolerância: \"))\n",
    "\n",
    "solucao, tabela = jacobi_sistemas(funcs, vars, x0, tol)\n",
    "\n",
    "# Exibindo tabela de resultados\n",
    "headers = [f\"x{i+1}\" for i in range(n)] + [\"Erro Absoluto\", \"Erro Relativo\"]\n",
    "print(tabulate(tabela, headers=headers, floatfmt=\".4f\"))\n",
    "print(f\"Solução aproximada: {solucao}\")"
   ]
  }
 ],
 "metadata": {
  "kernelspec": {
   "display_name": "Python 3",
   "language": "python",
   "name": "python3"
  },
  "language_info": {
   "codemirror_mode": {
    "name": "ipython",
    "version": 3
   },
   "file_extension": ".py",
   "mimetype": "text/x-python",
   "name": "python",
   "nbconvert_exporter": "python",
   "pygments_lexer": "ipython3",
   "version": "3.11.4"
  },
  "orig_nbformat": 4
 },
 "nbformat": 4,
 "nbformat_minor": 2
}

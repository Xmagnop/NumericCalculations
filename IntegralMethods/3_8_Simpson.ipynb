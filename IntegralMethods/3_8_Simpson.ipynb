{
 "cells": [
  {
   "attachments": {},
   "cell_type": "markdown",
   "metadata": {},
   "source": [
    "### Integração Numérica - Regra de Simpson 3/8"
   ]
  },
  {
   "attachments": {},
   "cell_type": "markdown",
   "metadata": {},
   "source": [
    "Este notebook apresenta a implementação da Regra de Simpson 3/8 para cálculo de integrais definidas, incluindo o erro de aproximação simples e o erro generalizado, utilizando orientação a objetos.\n"
   ]
  },
  {
   "cell_type": "code",
   "execution_count": 8,
   "metadata": {},
   "outputs": [
    {
     "name": "stdout",
     "output_type": "stream",
     "text": [
      "The autoreload extension is already loaded. To reload it, use:\n",
      "  %reload_ext autoreload\n"
     ]
    }
   ],
   "source": [
    "%load_ext autoreload\n",
    "%autoreload 2\n",
    "from integral import Integral\n",
    "import math"
   ]
  },
  {
   "attachments": {},
   "cell_type": "markdown",
   "metadata": {},
   "source": [
    "### Classe `IntegralTresOitavosSimpson`"
   ]
  },
  {
   "cell_type": "code",
   "execution_count": 12,
   "metadata": {},
   "outputs": [],
   "source": [
    "class IntegralTresOitavosSimpson(Integral):\n",
    "    def __init__(self, x=None, y=None, limite_inf=None, limite_sup=None, func_integral=None, h=None):\n",
    "        super().__init__()\n",
    "        self._setup(x, y, limite_inf, limite_sup, func_integral, h)\n",
    "\n",
    "    def integral(self):\n",
    "        y_vals = self.y.copy()\n",
    "        quant_x = len(self.x)\n",
    "\n",
    "        if quant_x % 3 == 1:\n",
    "            # Aplica regra 3/8 até penúltimos 3 pontos, e usa trapézio no fim\n",
    "            b = self.x[-1]\n",
    "            penultimo = self.x[-2]\n",
    "\n",
    "            primeiro = y_vals[0]\n",
    "            ultimo = y_vals[-1]\n",
    "            y_interm = y_vals[1:-1]\n",
    "\n",
    "            cte = (3 * self.h) / 8\n",
    "            soma3x = 0\n",
    "            soma2x = 0\n",
    "            cont = 0\n",
    "            for val in y_interm:\n",
    "                if cont >= 2:\n",
    "                    soma2x += 2 * val\n",
    "                    cont = 0\n",
    "                else:\n",
    "                    soma3x += 3 * val\n",
    "                    cont += 1\n",
    "\n",
    "            return cte * (primeiro + soma2x + soma3x + ultimo)\n",
    "\n",
    "        else:\n",
    "            primeiro = y_vals[0]\n",
    "            ultimo = y_vals[-1]\n",
    "            y_interm = y_vals[1:-1]\n",
    "\n",
    "            cte = (3 * self.h) / 8\n",
    "            soma3x = 0\n",
    "            soma2x = 0\n",
    "            cont = 0\n",
    "            for val in y_interm:\n",
    "                if cont >= 2:\n",
    "                    soma2x += 2 * val\n",
    "                    cont = 0\n",
    "                else:\n",
    "                    soma3x += 3 * val\n",
    "                    cont += 1\n",
    "\n",
    "            return cte * (primeiro + soma3x + soma2x + ultimo)\n",
    "\n",
    "    def erro_generalizado(self):\n",
    "        d4_inf = self.derivada_quarta_ordem(self.limite_inf)\n",
    "        d4_sup = self.derivada_quarta_ordem(self.limite_sup)\n",
    "        maior = self.saber_maior(d4_inf, d4_sup)\n",
    "        parcela_1 = (self.h**4 / 80) * (self.limite_sup - self.limite_inf)\n",
    "        return abs(maior * parcela_1)\n",
    "\n",
    "    def erro_simples(self):\n",
    "        d4_inf = self.derivada_quarta_ordem(self.limite_inf)\n",
    "        d4_sup = self.derivada_quarta_ordem(self.limite_sup)\n",
    "        maior = self.saber_maior(d4_inf, d4_sup)\n",
    "        parcela_1 = (3 * math.pow(self.h, 5)) / 80\n",
    "        return abs(maior * parcela_1)"
   ]
  },
  {
   "attachments": {},
   "cell_type": "markdown",
   "metadata": {},
   "source": [
    "### Exemplo de uso com pontos"
   ]
  },
  {
   "cell_type": "code",
   "execution_count": 16,
   "metadata": {},
   "outputs": [
    {
     "name": "stdout",
     "output_type": "stream",
     "text": [
      "Simpson 3/8 (x, y): 758.66250\n",
      "Erro simples: 329.76513\n",
      "Erro generalizado: 1099.21709\n"
     ]
    }
   ],
   "source": [
    "# Questão velocidade - lista\n",
    "\n",
    "pontos_x = [0, 1, 2, 3, 4, 5, 6, 7, 8, 9, 10]\n",
    "pontos_y = [0, 50.4, 53.7, 67.5, 74.3, 84.6, 92.1, 98.3, 100, 105, 110]\n",
    "\n",
    "simpson_38 = IntegralTresOitavosSimpson(x=pontos_x, y=pontos_y)\n",
    "print(f\"Simpson 3/8 (x, y): {simpson_38.integral():.5f}\")\n",
    "print(f\"Erro simples: {simpson_38.erro_simples():.5f}\")\n",
    "print(f\"Erro generalizado: {simpson_38.erro_generalizado():.5f}\")"
   ]
  },
  {
   "cell_type": "code",
   "execution_count": 20,
   "metadata": {},
   "outputs": [
    {
     "name": "stdout",
     "output_type": "stream",
     "text": [
      "Simpson 3/8 parte 1 Margem 2 (x, y): 4774.87500\n",
      "Erro simples: 0.00000\n",
      "Erro generalizado: 0.00000\n",
      "Margem 2 resultante: 7439.87500\n",
      "Simpson 3/8 parte 1 Margem 1(x, y): 2963.25000\n",
      "Erro simples: 0.00000\n",
      "Erro generalizado: 0.00000\n",
      "Margem 1 resultante: 4201.25000\n",
      "Resultado final: 3238.62500\n"
     ]
    }
   ],
   "source": [
    "# Questão margens do rio - lista\n",
    "\n",
    "# Primeira parte da margem maior (M2)\n",
    "pontos_x = [0, 10, 20, 30]\n",
    "pontos_y = [113.6, 144.5, 185, 171.2]\n",
    "\n",
    "simpson_38 = IntegralTresOitavosSimpson(x=pontos_x, y=pontos_y)\n",
    "print(f\"Simpson 3/8 parte 1 Margem 2 (x, y): {simpson_38.integral():.5f}\")\n",
    "print(f\"Erro simples: {simpson_38.erro_simples():.5f}\")\n",
    "print(f\"Erro generalizado: {simpson_38.erro_generalizado():.5f}\")\n",
    "    # Soma do cálculo da parte 2 com Trapézio\n",
    "margem2 = simpson_38.integral() + 2665.00000\n",
    "print(f\"Margem 2 resultante: {margem2:.5f}\")\n",
    "\n",
    "# Primeira parte da margem menor (M1)\n",
    "pontos_x = [0, 10, 20, 30]\n",
    "pontos_y = [50.8, 86.2, 136, 72.8]\n",
    "\n",
    "simpson_38 = IntegralTresOitavosSimpson(x=pontos_x, y=pontos_y)\n",
    "print(f\"Simpson 3/8 parte 1 Margem 1(x, y): {simpson_38.integral():.5f}\")\n",
    "print(f\"Erro simples: {simpson_38.erro_simples():.5f}\")\n",
    "print(f\"Erro generalizado: {simpson_38.erro_generalizado():.5f}\")\n",
    "    # Soma do cálculo da parte 2 com Trapézio\n",
    "margem1 = simpson_38.integral() + 1238.00000\n",
    "print(f\"Margem 1 resultante: {margem1:.5f}\")\n",
    "\n",
    "# Resultado final\n",
    "print(f\"Resultado final: {(margem2 - margem1):.5f}\")\n"
   ]
  },
  {
   "attachments": {},
   "cell_type": "markdown",
   "metadata": {},
   "source": [
    "### Exemplos de uso com função"
   ]
  },
  {
   "cell_type": "code",
   "execution_count": 24,
   "metadata": {},
   "outputs": [
    {
     "name": "stdout",
     "output_type": "stream",
     "text": [
      "Simpson 3/8 (função): 1.89638\n",
      "Erro simples: 0.00001\n",
      "Erro generalizado: 0.00003\n"
     ]
    }
   ],
   "source": [
    "# Questão 2: integral de 0 a 1 3*exp(-x) - Lista\n",
    "def f(x):\n",
    "    return 3 * math.exp(-x)\n",
    "\n",
    "simpson_38_2 = IntegralTresOitavosSimpson(limite_inf=0, limite_sup=1, func_integral=f, h=1/6)\n",
    "print(f\"Simpson 3/8 (função): {simpson_38_2.integral():.5f}\")\n",
    "print(f\"Erro simples: {simpson_38_2.erro_simples():.5f}\")\n",
    "print(f\"Erro generalizado: {simpson_38_2.erro_generalizado():.5f}\")\n"
   ]
  }
 ],
 "metadata": {
  "kernelspec": {
   "display_name": "Python 3",
   "language": "python",
   "name": "python3"
  },
  "language_info": {
   "codemirror_mode": {
    "name": "ipython",
    "version": 3
   },
   "file_extension": ".py",
   "mimetype": "text/x-python",
   "name": "python",
   "nbconvert_exporter": "python",
   "pygments_lexer": "ipython3",
   "version": "3.11.4"
  },
  "orig_nbformat": 4
 },
 "nbformat": 4,
 "nbformat_minor": 2
}

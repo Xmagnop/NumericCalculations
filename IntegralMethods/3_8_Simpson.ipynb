{
 "cells": [
  {
   "attachments": {},
   "cell_type": "markdown",
   "metadata": {},
   "source": [
    "### Integração Numérica - Regra de Simpson 3/8"
   ]
  },
  {
   "attachments": {},
   "cell_type": "markdown",
   "metadata": {},
   "source": [
    "Este notebook apresenta a implementação da Regra de Simpson 3/8 para cálculo de integrais definidas, incluindo o erro de aproximação simples e o erro generalizado, utilizando orientação a objetos.\n"
   ]
  },
  {
   "cell_type": "code",
   "execution_count": 52,
   "metadata": {},
   "outputs": [
    {
     "name": "stdout",
     "output_type": "stream",
     "text": [
      "The autoreload extension is already loaded. To reload it, use:\n",
      "  %reload_ext autoreload\n"
     ]
    }
   ],
   "source": [
    "%load_ext autoreload\n",
    "%autoreload 2\n",
    "from integral import Integral\n",
    "import math"
   ]
  },
  {
   "attachments": {},
   "cell_type": "markdown",
   "metadata": {},
   "source": [
    "### Classe `IntegralTresOitavosSimpson`"
   ]
  },
  {
   "cell_type": "code",
   "execution_count": 53,
   "metadata": {},
   "outputs": [],
   "source": [
    "class IntegralTresOitavosSimpson(Integral):\n",
    "    def __init__(self, limite_inf: int = None, limite_sup: int = None, h: float = None, quant_pontos: int = None, x: list[float] = None, func_integral=None, func_derivada_integral=None) -> None:\n",
    "        super().__init__(limite_inf, limite_sup, h, quant_pontos, x, func_integral, func_derivada_integral)\n",
    "\n",
    "    def erro_generalizado(self):\n",
    "        if self.func_derivada_integral is None:\n",
    "            return None\n",
    "        derivada_4_grau_limite_inf = self.func_derivada_integral(self.limite_inf)\n",
    "        derivada_4_grau_limite_sup = self.func_derivada_integral(self.limite_sup)\n",
    "        if derivada_4_grau_limite_inf is None or derivada_4_grau_limite_sup is None:\n",
    "            return None\n",
    "        maior = self.saber_maior(derivada_4_grau_limite_inf, derivada_4_grau_limite_sup)\n",
    "        parcela_1 = (self.h**4 / 80) * (self.limite_sup - self.limite_inf)\n",
    "        return abs(maior * parcela_1)\n",
    "\n",
    "    def erro_simples(self):\n",
    "        if self.func_derivada_integral is None:\n",
    "            return None\n",
    "        derivada_4_grau_limite_inf = self.func_derivada_integral(self.limite_inf)\n",
    "        derivada_4_grau_limite_sup = self.func_derivada_integral(self.limite_sup)\n",
    "        if derivada_4_grau_limite_inf is None or derivada_4_grau_limite_sup is None:\n",
    "            return None\n",
    "        maior = self.saber_maior(derivada_4_grau_limite_inf, derivada_4_grau_limite_sup)\n",
    "        parcela_1 = (3*math.pow(self.h, 5)) / 80\n",
    "        return abs(maior * parcela_1)\n",
    "\n",
    "    def integral(self):\n",
    "        if self.func_integral is not None:\n",
    "            self.y = [self.func_integral(val) for val in self.x]\n",
    "\n",
    "        quant_x = len(self.x)\n",
    "        if quant_x % 3 == 1:\n",
    "            b = self.x.pop()\n",
    "            penultimo = self.x[-1]\n",
    "\n",
    "            primeiro = self.y.pop(0)\n",
    "            ultimo = self.y.pop()\n",
    "            cte = (3*self.h) / 8\n",
    "            soma3x = 0\n",
    "            soma2x = 0\n",
    "            cont = 0\n",
    "            for i in range(0, len(self.y)):\n",
    "                if cont >= 2:\n",
    "                    soma2x += (2 * self.y[i])\n",
    "                    cont = 0\n",
    "                else:\n",
    "                    soma3x += (3 * self.y[i])\n",
    "                    cont += 1\n",
    "\n",
    "            y_aux = self.func_integral(penultimo)\n",
    "            y_b = self.func_integral(b)\n",
    "            int_1 = (self.h / 2) * (y_aux + y_b)\n",
    "            return (cte * (primeiro + soma2x + soma3x + ultimo)) + int_1\n",
    "        else:\n",
    "            primeiro = self.y.pop(0)\n",
    "            ultimo = self.y.pop()\n",
    "            cte = (3*self.h) / 8\n",
    "            soma3x = 0\n",
    "            soma2x = 0\n",
    "            cont = 0\n",
    "            for i in range(0, len(self.y)):\n",
    "                if cont >= 2:\n",
    "                    soma2x += (2 * self.y[i])\n",
    "                    cont = 0\n",
    "                else:\n",
    "                    soma3x += (3 * self.y[i])\n",
    "                    cont += 1\n",
    "            return cte * (primeiro + soma3x + soma2x + ultimo)"
   ]
  },
  {
   "attachments": {},
   "cell_type": "markdown",
   "metadata": {},
   "source": [
    "### Exemplo de uso"
   ]
  },
  {
   "cell_type": "code",
   "execution_count": 54,
   "metadata": {},
   "outputs": [
    {
     "name": "stdout",
     "output_type": "stream",
     "text": [
      "Erro Geral = 0.000002\n",
      "F(x) = 0.5768046824\n"
     ]
    }
   ],
   "source": [
    "int_3_8_simpson_1_questao = IntegralTresOitavosSimpson(\n",
    "        limite_inf=0, \n",
    "        limite_sup=1, \n",
    "        h=0.1,\n",
    "        func_integral=lambda x: x * math.sqrt(x**2 + 1),\n",
    "        func_derivada_integral=lambda x: (-15 * x) / ((math.pow(x, 2)+ 1) ** (7/2))\n",
    "       )\n",
    "print(f'Erro Geral = {int_3_8_simpson_1_questao.erro_generalizado():.6f}')\n",
    "print(f'F(x) = {round(int_3_8_simpson_1_questao.integral(), 10)}')"
   ]
  },
  {
   "cell_type": "code",
   "execution_count": 55,
   "metadata": {},
   "outputs": [
    {
     "ename": "TypeError",
     "evalue": "unsupported operand type(s) for /: 'float' and 'NoneType'",
     "output_type": "error",
     "traceback": [
      "\u001b[31m---------------------------------------------------------------------------\u001b[39m",
      "\u001b[31mTypeError\u001b[39m                                 Traceback (most recent call last)",
      "\u001b[36mCell\u001b[39m\u001b[36m \u001b[39m\u001b[32mIn[55]\u001b[39m\u001b[32m, line 4\u001b[39m\n\u001b[32m      1\u001b[39m pontos_x = [\u001b[32m0.0\u001b[39m, \u001b[32m0.1\u001b[39m, \u001b[32m0.2\u001b[39m, \u001b[32m0.3\u001b[39m, \u001b[32m0.4\u001b[39m, \u001b[32m0.5\u001b[39m, \u001b[32m0.6\u001b[39m, \u001b[32m0.7\u001b[39m, \u001b[32m0.8\u001b[39m, \u001b[32m0.9\u001b[39m, \u001b[32m1.0\u001b[39m]\n\u001b[32m      2\u001b[39m dummy_deriv = \u001b[38;5;28;01mlambda\u001b[39;00m x: \u001b[32m1.0\u001b[39m  \u001b[38;5;66;03m# ou algo que retorne sempre float\u001b[39;00m\n\u001b[32m----> \u001b[39m\u001b[32m4\u001b[39m int_simpson_38_pontos = \u001b[43mIntegralTresOitavosSimpson\u001b[49m\u001b[43m(\u001b[49m\n\u001b[32m      5\u001b[39m \u001b[43m    \u001b[49m\u001b[43mx\u001b[49m\u001b[43m=\u001b[49m\u001b[43mpontos_x\u001b[49m\u001b[43m,\u001b[49m\n\u001b[32m      6\u001b[39m \u001b[43m    \u001b[49m\u001b[43mfunc_integral\u001b[49m\u001b[43m=\u001b[49m\u001b[38;5;28;43;01mlambda\u001b[39;49;00m\u001b[43m \u001b[49m\u001b[43mx\u001b[49m\u001b[43m:\u001b[49m\u001b[43m \u001b[49m\u001b[43mx\u001b[49m\u001b[43m \u001b[49m\u001b[43m*\u001b[49m\u001b[43m \u001b[49m\u001b[43mmath\u001b[49m\u001b[43m.\u001b[49m\u001b[43msqrt\u001b[49m\u001b[43m(\u001b[49m\u001b[43mx\u001b[49m\u001b[43m*\u001b[49m\u001b[43m*\u001b[49m\u001b[32;43m2\u001b[39;49m\u001b[43m \u001b[49m\u001b[43m+\u001b[49m\u001b[43m \u001b[49m\u001b[32;43m1\u001b[39;49m\u001b[43m)\u001b[49m\u001b[43m,\u001b[49m\n\u001b[32m      7\u001b[39m \u001b[43m    \u001b[49m\u001b[43mfunc_derivada_integral\u001b[49m\u001b[43m=\u001b[49m\u001b[43mdummy_deriv\u001b[49m\n\u001b[32m      8\u001b[39m \u001b[43m)\u001b[49m\n\u001b[32m      9\u001b[39m \u001b[38;5;28mprint\u001b[39m(\u001b[33mf\u001b[39m\u001b[33m'\u001b[39m\u001b[33mF(x) por pontos = \u001b[39m\u001b[38;5;132;01m{\u001b[39;00m\u001b[38;5;28mround\u001b[39m(int_simpson_38_pontos.integral(),\u001b[38;5;250m \u001b[39m\u001b[32m10\u001b[39m)\u001b[38;5;132;01m}\u001b[39;00m\u001b[33m'\u001b[39m)\n",
      "\u001b[36mCell\u001b[39m\u001b[36m \u001b[39m\u001b[32mIn[53]\u001b[39m\u001b[32m, line 3\u001b[39m, in \u001b[36mIntegralTresOitavosSimpson.__init__\u001b[39m\u001b[34m(self, limite_inf, limite_sup, h, quant_pontos, x, func_integral, func_derivada_integral)\u001b[39m\n\u001b[32m      2\u001b[39m \u001b[38;5;28;01mdef\u001b[39;00m\u001b[38;5;250m \u001b[39m\u001b[34m__init__\u001b[39m(\u001b[38;5;28mself\u001b[39m, limite_inf: \u001b[38;5;28mint\u001b[39m = \u001b[38;5;28;01mNone\u001b[39;00m, limite_sup: \u001b[38;5;28mint\u001b[39m = \u001b[38;5;28;01mNone\u001b[39;00m, h: \u001b[38;5;28mfloat\u001b[39m = \u001b[38;5;28;01mNone\u001b[39;00m, quant_pontos: \u001b[38;5;28mint\u001b[39m = \u001b[38;5;28;01mNone\u001b[39;00m, x: \u001b[38;5;28mlist\u001b[39m[\u001b[38;5;28mfloat\u001b[39m] = \u001b[38;5;28;01mNone\u001b[39;00m, func_integral=\u001b[38;5;28;01mNone\u001b[39;00m, func_derivada_integral=\u001b[38;5;28;01mNone\u001b[39;00m) -> \u001b[38;5;28;01mNone\u001b[39;00m:\n\u001b[32m----> \u001b[39m\u001b[32m3\u001b[39m     \u001b[38;5;28;43msuper\u001b[39;49m\u001b[43m(\u001b[49m\u001b[43m)\u001b[49m\u001b[43m.\u001b[49m\u001b[34;43m__init__\u001b[39;49m\u001b[43m(\u001b[49m\u001b[43mlimite_inf\u001b[49m\u001b[43m,\u001b[49m\u001b[43m \u001b[49m\u001b[43mlimite_sup\u001b[49m\u001b[43m,\u001b[49m\u001b[43m \u001b[49m\u001b[43mh\u001b[49m\u001b[43m,\u001b[49m\u001b[43m \u001b[49m\u001b[43mquant_pontos\u001b[49m\u001b[43m,\u001b[49m\u001b[43m \u001b[49m\u001b[43mx\u001b[49m\u001b[43m,\u001b[49m\u001b[43m \u001b[49m\u001b[43mfunc_integral\u001b[49m\u001b[43m,\u001b[49m\u001b[43m \u001b[49m\u001b[43mfunc_derivada_integral\u001b[49m\u001b[43m)\u001b[49m\n",
      "\u001b[36mFile \u001b[39m\u001b[32mc:\\Users\\019.705184\\Documents\\GitHub\\NumericCalculations\\IntegralMethods\\integral.py:21\u001b[39m, in \u001b[36m__init__\u001b[39m\u001b[34m(self, limite_inf, limite_sup, h, quant_pontos, x, func_integral, func_derivada_integral)\u001b[39m\n\u001b[32m     20\u001b[39m \u001b[38;5;28;01mdef\u001b[39;00m\u001b[38;5;250m \u001b[39m\u001b[34msaber_maior\u001b[39m(\u001b[38;5;28mself\u001b[39m, x, y):\n\u001b[32m---> \u001b[39m\u001b[32m21\u001b[39m     \u001b[38;5;28;01mif\u001b[39;00m \u001b[38;5;28mabs\u001b[39m(x) > \u001b[38;5;28mabs\u001b[39m(y):\n\u001b[32m     22\u001b[39m         \u001b[38;5;28;01mreturn\u001b[39;00m x\n\u001b[32m     23\u001b[39m     \u001b[38;5;28;01melse\u001b[39;00m:\n",
      "\u001b[31mTypeError\u001b[39m: unsupported operand type(s) for /: 'float' and 'NoneType'"
     ]
    }
   ],
   "source": [
    "pontos_x = [0.0, 0.1, 0.2, 0.3, 0.4, 0.5, 0.6, 0.7, 0.8, 0.9, 1.0]\n",
    "dummy_deriv = lambda x: 1.0  # ou algo que retorne sempre float\n",
    "\n",
    "int_simpson_38_pontos = IntegralTresOitavosSimpson(\n",
    "    x=pontos_x,\n",
    "    func_integral=lambda x: x * math.sqrt(x**2 + 1),\n",
    "    func_derivada_integral=dummy_deriv\n",
    ")\n",
    "print(f'F(x) por pontos = {round(int_simpson_38_pontos.integral(), 10)}')\n"
   ]
  }
 ],
 "metadata": {
  "kernelspec": {
   "display_name": "Python 3",
   "language": "python",
   "name": "python3"
  },
  "language_info": {
   "codemirror_mode": {
    "name": "ipython",
    "version": 3
   },
   "file_extension": ".py",
   "mimetype": "text/x-python",
   "name": "python",
   "nbconvert_exporter": "python",
   "pygments_lexer": "ipython3",
   "version": "3.11.4"
  },
  "orig_nbformat": 4
 },
 "nbformat": 4,
 "nbformat_minor": 2
}

{
 "cells": [
  {
   "attachments": {},
   "cell_type": "markdown",
   "metadata": {},
   "source": [
    "### Integração Numérica - Regra de Simpson 3/8"
   ]
  },
  {
   "attachments": {},
   "cell_type": "markdown",
   "metadata": {},
   "source": [
    "Este notebook apresenta a implementação da Regra de Simpson 3/8 para cálculo de integrais definidas, incluindo o erro de aproximação simples e o erro generalizado, utilizando orientação a objetos.\n"
   ]
  },
  {
   "cell_type": "code",
   "execution_count": 60,
   "metadata": {},
   "outputs": [
    {
     "name": "stdout",
     "output_type": "stream",
     "text": [
      "The autoreload extension is already loaded. To reload it, use:\n",
      "  %reload_ext autoreload\n"
     ]
    }
   ],
   "source": [
    "%load_ext autoreload\n",
    "%autoreload 2\n",
    "from integral import Integral\n",
    "import math"
   ]
  },
  {
   "attachments": {},
   "cell_type": "markdown",
   "metadata": {},
   "source": [
    "### Classe `IntegralTresOitavosSimpson`"
   ]
  },
  {
   "cell_type": "code",
   "execution_count": 61,
   "metadata": {},
   "outputs": [],
   "source": [
    "class IntegralTresOitavosSimpson(Integral):\n",
    "    def __init__(self, x=None, y=None, limite_inf=None, limite_sup=None, func_integral=None, h=None):\n",
    "        super().__init__()\n",
    "        self._setup(x, y, limite_inf, limite_sup, func_integral, h)\n",
    "\n",
    "    def integral(self):\n",
    "        y_vals = self.y.copy()\n",
    "        quant_x = len(self.x)\n",
    "\n",
    "        if quant_x % 3 == 1:\n",
    "            # Aplica regra 3/8 até penúltimos 3 pontos, e usa trapézio no fim\n",
    "            b = self.x[-1]\n",
    "            penultimo = self.x[-2]\n",
    "\n",
    "            primeiro = y_vals[0]\n",
    "            ultimo = y_vals[-1]\n",
    "            y_interm = y_vals[1:-1]\n",
    "\n",
    "            cte = (3 * self.h) / 8\n",
    "            soma3x = 0\n",
    "            soma2x = 0\n",
    "            cont = 0\n",
    "            for val in y_interm:\n",
    "                if cont >= 2:\n",
    "                    soma2x += 2 * val\n",
    "                    cont = 0\n",
    "                else:\n",
    "                    soma3x += 3 * val\n",
    "                    cont += 1\n",
    "\n",
    "            # regra do trapézio para últimos 2 pontos\n",
    "            int_1 = (self.h / 2) * (self.y[-2] + self.y[-1])\n",
    "\n",
    "            return cte * (primeiro + soma2x + soma3x + ultimo) + int_1\n",
    "\n",
    "        else:\n",
    "            primeiro = y_vals[0]\n",
    "            ultimo = y_vals[-1]\n",
    "            y_interm = y_vals[1:-1]\n",
    "\n",
    "            cte = (3 * self.h) / 8\n",
    "            soma3x = 0\n",
    "            soma2x = 0\n",
    "            cont = 0\n",
    "            for val in y_interm:\n",
    "                if cont >= 2:\n",
    "                    soma2x += 2 * val\n",
    "                    cont = 0\n",
    "                else:\n",
    "                    soma3x += 3 * val\n",
    "                    cont += 1\n",
    "\n",
    "            return cte * (primeiro + soma3x + soma2x + ultimo)\n",
    "\n",
    "    def erro_generalizado(self):\n",
    "        d4_inf = self.derivada_quarta_ordem(self.limite_inf)\n",
    "        d4_sup = self.derivada_quarta_ordem(self.limite_sup)\n",
    "        maior = self.saber_maior(d4_inf, d4_sup)\n",
    "        parcela_1 = (self.h**4 / 80) * (self.limite_sup - self.limite_inf)\n",
    "        return abs(maior * parcela_1)\n",
    "\n",
    "    def erro_simples(self):\n",
    "        d4_inf = self.derivada_quarta_ordem(self.limite_inf)\n",
    "        d4_sup = self.derivada_quarta_ordem(self.limite_sup)\n",
    "        maior = self.saber_maior(d4_inf, d4_sup)\n",
    "        parcela_1 = (3 * math.pow(self.h, 5)) / 80\n",
    "        return abs(maior * parcela_1)"
   ]
  },
  {
   "attachments": {},
   "cell_type": "markdown",
   "metadata": {},
   "source": [
    "### Exemplo de uso com pontos"
   ]
  },
  {
   "cell_type": "code",
   "execution_count": 62,
   "metadata": {},
   "outputs": [
    {
     "name": "stdout",
     "output_type": "stream",
     "text": [
      "Simpson 3/8 (x, y): 0.12717200808324838\n",
      "Erro simples: 1.7510199050599966e-06\n",
      "Erro generalizado: 2.918366508433327e-06\n"
     ]
    }
   ],
   "source": [
    "# Célula 5 - Integral Simpson 3/8 com pontos (x, y)\n",
    "def f(x):\n",
    "    return x * math.sqrt(x**2 + 1)\n",
    "pontos_x = [0.0, 0.1, 0.2, 0.3, 0.4, 0.5]\n",
    "pontos_y = [f(xi) for xi in pontos_x]\n",
    "\n",
    "simpson_38 = IntegralTresOitavosSimpson(x=pontos_x, y=pontos_y)\n",
    "print(\"Simpson 3/8 (x, y):\", simpson_38.integral())\n",
    "print(\"Erro simples:\", simpson_38.erro_simples())\n",
    "print(\"Erro generalizado:\", simpson_38.erro_generalizado())\n"
   ]
  },
  {
   "attachments": {},
   "cell_type": "markdown",
   "metadata": {},
   "source": [
    "### Exemplos de uso com função"
   ]
  },
  {
   "cell_type": "code",
   "execution_count": 63,
   "metadata": {},
   "outputs": [
    {
     "name": "stdout",
     "output_type": "stream",
     "text": [
      "Simpson 3/8 (função): 0.12717200808324838\n",
      "Erro simples: 1.7510199050604787e-06\n",
      "Erro generalizado: 2.918366508434131e-06\n"
     ]
    }
   ],
   "source": [
    "# Célula 6 - Integral Simpson 3/8 com função, limites e h\n",
    "def f(x):\n",
    "    return x * math.sqrt(x**2 + 1)\n",
    "\n",
    "simpson_38_2 = IntegralTresOitavosSimpson(limite_inf=0, limite_sup=0.5, func_integral=f, h=0.1)\n",
    "print(\"Simpson 3/8 (função):\", simpson_38_2.integral())\n",
    "print(\"Erro simples:\", simpson_38_2.erro_simples())\n",
    "print(\"Erro generalizado:\", simpson_38_2.erro_generalizado())\n"
   ]
  }
 ],
 "metadata": {
  "kernelspec": {
   "display_name": "Python 3",
   "language": "python",
   "name": "python3"
  },
  "language_info": {
   "codemirror_mode": {
    "name": "ipython",
    "version": 3
   },
   "file_extension": ".py",
   "mimetype": "text/x-python",
   "name": "python",
   "nbconvert_exporter": "python",
   "pygments_lexer": "ipython3",
   "version": "3.11.4"
  },
  "orig_nbformat": 4
 },
 "nbformat": 4,
 "nbformat_minor": 2
}

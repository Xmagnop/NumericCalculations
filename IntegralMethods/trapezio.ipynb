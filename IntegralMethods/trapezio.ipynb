{
 "cells": [
  {
   "attachments": {},
   "cell_type": "markdown",
   "metadata": {},
   "source": [
    "### Integração Numérica - Regra do Trapézio\n",
    "\n",
    "Este notebook apresenta a implementação da Regra do Trapézio para cálculo de integrais definidas, incluindo o erro de aproximação simples e o erro generalizado."
   ]
  },
  {
   "cell_type": "code",
   "execution_count": 1,
   "metadata": {},
   "outputs": [],
   "source": [
    "%load_ext autoreload\n",
    "%autoreload 2\n",
    "from integral import Integral\n",
    "import math\n",
    "import numpy as np\n",
    "import sympy as sp"
   ]
  },
  {
   "attachments": {},
   "cell_type": "markdown",
   "metadata": {},
   "source": [
    "### Classe `IntegralTrapezio`"
   ]
  },
  {
   "cell_type": "code",
   "execution_count": 2,
   "metadata": {},
   "outputs": [],
   "source": [
    "class IntegralTrapezio(Integral):\n",
    "    def __init__(self, x=None, y=None, limite_inf=None, limite_sup=None,\n",
    "                 func_integral=None, h=None, erro_desejado=None):\n",
    "        super().__init__()\n",
    "\n",
    "        if erro_desejado is not None:\n",
    "            if limite_inf is None or limite_sup is None or func_integral is None:\n",
    "                raise ValueError(\"Para usar erro_desejado, forneça limite_inf, limite_sup e func_integral.\")\n",
    "\n",
    "            self.limite_inf = limite_inf\n",
    "            self.limite_sup = limite_sup\n",
    "            self.func_expr = func_integral  # guarda a expressão simbólica original\n",
    "\n",
    "            # Converte expressão simbólica para função numérica\n",
    "            x_sym = sp.Symbol('x')\n",
    "            func_lambd = sp.lambdify(x_sym, func_integral, modules=[\"math\"])\n",
    "\n",
    "            # Tenta obter a segunda derivada simbólica\n",
    "            K = self._derivada_segunda_simbolica(func_integral, limite_inf, limite_sup)\n",
    "\n",
    "            if K is None:\n",
    "                raise ValueError(\"Não foi possível calcular a segunda derivada simbolicamente.\")\n",
    "\n",
    "            n_quadrado_min = (K * (limite_sup - limite_inf) ** 3) / (12 * erro_desejado)\n",
    "            n = math.ceil(math.sqrt(n_quadrado_min))\n",
    "            n = min(max(n, 4), 10000)\n",
    "            print(f\"valor de n (subintervalos) encontrado: {n}\")\n",
    "            h = (limite_sup - limite_inf) / n\n",
    "            print(f\"valor de h calculado: {h}\")\n",
    "\n",
    "            self._setup(x, y, limite_inf, limite_sup, func_lambd, h)\n",
    "\n",
    "        else:\n",
    "            self._setup(x, y, limite_inf, limite_sup, func_integral, h)\n",
    "\n",
    "    def _derivada_segunda_simbolica(self, func_expr, a, b):\n",
    "        x = sp.Symbol('x')\n",
    "        try:\n",
    "            f_diff2 = sp.diff(func_expr, x, 2)\n",
    "            f_diff2_func = sp.lambdify(x, f_diff2, modules=[\"math\"])\n",
    "            pontos = [a, (a + b) / 2, b]\n",
    "            return max(abs(f_diff2_func(xi)) for xi in pontos)\n",
    "        except Exception as e:\n",
    "            print(f\"[sympy fallback] Derivada simbólica falhou: {e}\")\n",
    "            return None\n",
    "\n",
    "    def integral(self):\n",
    "        # regra do trapézio simples sobre todos os pontos\n",
    "        soma = self.y[0] + self.y[-1] + 2 * np.sum(self.y[1:-1])\n",
    "        return (self.h / 2) * soma\n",
    "\n",
    "    def erro_simples(self):\n",
    "        d2_inf = self.interpolador.derivative(self.limite_inf, 2)\n",
    "        d2_sup = self.interpolador.derivative(self.limite_sup, 2)\n",
    "        maior = self.saber_maior(d2_inf, d2_sup)\n",
    "        parcela_1 = ((self.limite_sup - self.limite_inf) * (self.h**2)) / 12\n",
    "        return abs(maior * parcela_1)\n",
    "\n",
    "    def erro_generalizado(self):\n",
    "        # No trapézio geralmente erro é dado pela segunda derivada (2ª ordem)\n",
    "        return self.erro_simples()"
   ]
  },
  {
   "attachments": {},
   "cell_type": "markdown",
   "metadata": {},
   "source": [
    "### Exemplo de uso com pontos"
   ]
  },
  {
   "cell_type": "code",
   "execution_count": 89,
   "metadata": {},
   "outputs": [
    {
     "name": "stdout",
     "output_type": "stream",
     "text": [
      "Trapézio (x, y): 780.90000\n",
      "Erro simples: 1237.71209\n",
      "Erro generalizado: 1237.71209\n"
     ]
    }
   ],
   "source": [
    "# Questão velocidade - lista\n",
    "def f(x):\n",
    "    return x * math.sqrt(x**2 + 1)\n",
    "\n",
    "pontos_x = [0, 1, 2, 3, 4, 5, 6, 7, 8, 9, 10]\n",
    "pontos_y = [0, 50.4, 53.7, 67.5, 74.3, 84.6, 92.1, 98.3, 100, 105, 110]\n",
    "\n",
    "trap = IntegralTrapezio(x=pontos_x, y=pontos_y)\n",
    "print(f\"Trapézio (x, y): {trap.integral():.5f}\")\n",
    "print(f\"Erro simples: {trap.erro_simples():.5f}\")\n",
    "print(f\"Erro generalizado: {trap.erro_generalizado():.5f}\")\n"
   ]
  },
  {
   "cell_type": "code",
   "execution_count": 86,
   "metadata": {},
   "outputs": [
    {
     "name": "stdout",
     "output_type": "stream",
     "text": [
      "Trapézio parte 2 da M2 (x, y): 2665.00000\n",
      "Erro simples: 0.00000\n",
      "Erro generalizado: 0.00000\n",
      "Trapézio parte 2 da M1 (x, y): 1238.00000\n",
      "Erro simples: 0.00000\n",
      "Erro generalizado: 0.00000\n"
     ]
    }
   ],
   "source": [
    "# Questão margens do rio - lista\n",
    "\n",
    "pontos_x = [30, 50]\n",
    "pontos_y = [171.2, 95.3]\n",
    "\n",
    "trap = IntegralTrapezio(x=pontos_x, y=pontos_y)\n",
    "print(f\"Trapézio parte 2 da M2 (x, y): {trap.integral():.5f}\")\n",
    "print(f\"Erro simples: {trap.erro_simples():.5f}\")\n",
    "print(f\"Erro generalizado: {trap.erro_generalizado():.5f}\")\n",
    "\n",
    "pontos_x = [30, 50]\n",
    "pontos_y = [72.8, 51]\n",
    "\n",
    "trap = IntegralTrapezio(x=pontos_x, y=pontos_y)\n",
    "print(f\"Trapézio parte 2 da M1 (x, y): {trap.integral():.5f}\")\n",
    "print(f\"Erro simples: {trap.erro_simples():.5f}\")\n",
    "print(f\"Erro generalizado: {trap.erro_generalizado():.5f}\")"
   ]
  },
  {
   "cell_type": "code",
   "execution_count": 87,
   "metadata": {},
   "outputs": [
    {
     "name": "stdout",
     "output_type": "stream",
     "text": [
      "valor de n (subintervalos) encontrado: 8\n",
      "valor de h calculado: 0.375\n",
      "Trapézio (x, y): 4.6637\n",
      "Erro simples: 0.0086\n",
      "Erro generalizado: 0.0086\n"
     ]
    }
   ],
   "source": [
    "# Questão 2 revisão - integral math.sqrt(x) com erro desejado 0.001\n",
    "x = sp.Symbol('x')\n",
    "f_expr = sp.sqrt(x)\n",
    "\n",
    "trap2 = IntegralTrapezio(limite_inf=1, limite_sup=4, func_integral=f_expr, erro_desejado=0.01)\n",
    "print(f\"Trapézio (x, y): {trap2.integral():.4f}\")\n",
    "print(f\"Erro simples: {trap2.erro_simples():.4f}\")\n",
    "print(f\"Erro generalizado: {trap2.erro_generalizado():.4f}\")\n"
   ]
  },
  {
   "attachments": {},
   "cell_type": "markdown",
   "metadata": {},
   "source": [
    "### Exemplo de uso com função"
   ]
  },
  {
   "cell_type": "code",
   "execution_count": 88,
   "metadata": {},
   "outputs": [
    {
     "name": "stdout",
     "output_type": "stream",
     "text": [
      "Trapézio (x, y): 1.9027\n",
      "Erro simples: 0.0100\n",
      "Erro generalizado: 0.0100\n"
     ]
    }
   ],
   "source": [
    "# Questão 2: integral de 0 a 1 3*exp(-x) - Lista\n",
    "def f(x):\n",
    "    return 3 * math.exp(-x)\n",
    "\n",
    "trap2 = IntegralTrapezio(limite_inf=0, limite_sup=1, func_integral=f, h=1/5)\n",
    "print(f\"Trapézio (x, y): {trap2.integral():.4f}\")\n",
    "print(f\"Erro simples: {trap2.erro_simples():.4f}\")\n",
    "print(f\"Erro generalizado: {trap2.erro_generalizado():.4f}\")\n"
   ]
  },
  {
   "attachments": {},
   "cell_type": "markdown",
   "metadata": {},
   "source": [
    "### AV3"
   ]
  },
  {
   "cell_type": "code",
   "execution_count": 6,
   "metadata": {},
   "outputs": [
    {
     "name": "stdout",
     "output_type": "stream",
     "text": [
      "para n = 2\n",
      "Trapézio (x, y): 0.6331\n",
      "Erro simples: 0.0247\n",
      "Erro generalizado: 0.0247\n",
      "para n = 10\n",
      "Trapézio (x, y): 0.6104\n",
      "Erro simples: 0.0015\n",
      "Erro generalizado: 0.0015\n",
      "para n = 50\n",
      "Trapézio (x, y): 0.6095\n",
      "Erro simples: 0.0000\n",
      "Erro generalizado: 0.0000\n"
     ]
    },
    {
     "name": "stderr",
     "output_type": "stream",
     "text": [
      "c:\\Users\\019.705184\\Documents\\GitHub\\NumericCalculations\\IntegralMethods\\integral.py:48: UserWarning: 51 degrees provided, degrees higher than about thirty cause problems with numerical instability with 'KroghInterpolator'\n",
      "  self.interpolador = KroghInterpolator(self.x, self.y)\n"
     ]
    }
   ],
   "source": [
    "# Questão 1 AV3: integral de 0 a 1 para x * math.sqrt((x**2) + 1) utilizando n (numero de aplicações da regra) = 2, 10 e 50\n",
    "def f(x):\n",
    "    return x * math.sqrt((x**2) + 1)\n",
    "\n",
    "limite_sup = 1\n",
    "limite_inf = 0\n",
    "n = 2\n",
    "h = (limite_sup - limite_inf) / n\n",
    "\n",
    "trap = IntegralTrapezio(limite_inf=0, limite_sup=1, func_integral=f, h=h)\n",
    "print(f\"para n = {n}\")\n",
    "print(f\"Trapézio (x, y): {trap.integral():.4f}\")\n",
    "print(f\"Erro simples: {trap.erro_simples():.4f}\")\n",
    "print(f\"Erro generalizado: {trap.erro_generalizado():.4f}\")\n",
    "\n",
    "n = 10\n",
    "h = (limite_sup - limite_inf) / n\n",
    "\n",
    "trap = IntegralTrapezio(limite_inf=0, limite_sup=1, func_integral=f, h=h)\n",
    "print(f\"para n = {n}\")\n",
    "print(f\"Trapézio (x, y): {trap.integral():.4f}\")\n",
    "print(f\"Erro simples: {trap.erro_simples():.4f}\")\n",
    "print(f\"Erro generalizado: {trap.erro_generalizado():.4f}\")\n",
    "\n",
    "n = 50\n",
    "h = (limite_sup - limite_inf) / n\n",
    "\n",
    "trap = IntegralTrapezio(limite_inf=0, limite_sup=1, func_integral=f, h=h)\n",
    "print(f\"para n = {n}\")\n",
    "print(f\"Trapézio (x, y): {trap.integral():.4f}\")\n",
    "print(f\"Erro simples: {trap.erro_simples():.4f}\")\n",
    "print(f\"Erro generalizado: {trap.erro_generalizado():.4f}\")"
   ]
  },
  {
   "cell_type": "code",
   "execution_count": 7,
   "metadata": {},
   "outputs": [
    {
     "name": "stdout",
     "output_type": "stream",
     "text": [
      "Para n = 8\n",
      "Trapézio (x, y): 0.5547\n",
      "Erro simples: 0.0003\n",
      "Erro generalizado: 0.0003\n"
     ]
    }
   ],
   "source": [
    "# Questão 4 AV3: integral de 2 a 4 para (ln(x) + x **2)/(x + 3)**2 com n = 8\n",
    "def f(x):\n",
    "    return (math.log(x) + x ** 2) / (x + 3) ** 2\n",
    "\n",
    "limite_inf = 2\n",
    "limite_sup = 4\n",
    "n = 8\n",
    "h = (limite_sup - limite_inf) / n\n",
    "\n",
    "trap = IntegralTrapezio(limite_inf=limite_inf, limite_sup=limite_sup, func_integral=f, h=h)\n",
    "print(f\"Para n = {n}\")\n",
    "print(f\"Trapézio (x, y): {trap.integral():.4f}\")\n",
    "print(f\"Erro simples: {trap.erro_simples():.4f}\")\n",
    "print(f\"Erro generalizado: {trap.erro_generalizado():.4f}\")"
   ]
  }
 ],
 "metadata": {
  "kernelspec": {
   "display_name": "Python 3",
   "language": "python",
   "name": "python3"
  },
  "language_info": {
   "codemirror_mode": {
    "name": "ipython",
    "version": 3
   },
   "file_extension": ".py",
   "mimetype": "text/x-python",
   "name": "python",
   "nbconvert_exporter": "python",
   "pygments_lexer": "ipython3",
   "version": "3.11.4"
  },
  "orig_nbformat": 4
 },
 "nbformat": 4,
 "nbformat_minor": 2
}

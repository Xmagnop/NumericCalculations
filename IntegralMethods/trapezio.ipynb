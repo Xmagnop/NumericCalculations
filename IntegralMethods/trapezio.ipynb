{
 "cells": [
  {
   "attachments": {},
   "cell_type": "markdown",
   "metadata": {},
   "source": [
    "### Integração Numérica - Regra do Trapézio\n",
    "\n",
    "Este notebook apresenta a implementação da Regra do Trapézio para cálculo de integrais definidas, incluindo o erro de aproximação simples e o erro generalizado."
   ]
  },
  {
   "cell_type": "code",
   "execution_count": 2,
   "metadata": {},
   "outputs": [],
   "source": [
    "%load_ext autoreload\n",
    "%autoreload 2\n",
    "from integral import Integral\n",
    "import math\n",
    "import numpy as np"
   ]
  },
  {
   "attachments": {},
   "cell_type": "markdown",
   "metadata": {},
   "source": [
    "### Classe `IntegralTrapezio`"
   ]
  },
  {
   "cell_type": "code",
   "execution_count": 3,
   "metadata": {},
   "outputs": [],
   "source": [
    "class IntegralTrapezio(Integral):\n",
    "    def __init__(self, x=None, y=None, limite_inf=None, limite_sup=None, func_integral=None, h=None):\n",
    "        super().__init__()\n",
    "        self._setup(x, y, limite_inf, limite_sup, func_integral, h)\n",
    "\n",
    "    def integral(self):\n",
    "        # regra do trapézio simples sobre todos os pontos\n",
    "        soma = self.y[0] + self.y[-1] + 2 * np.sum(self.y[1:-1])\n",
    "        return (self.h / 2) * soma\n",
    "\n",
    "    def erro_simples(self):\n",
    "        d2_inf = self.interpolador.derivative(self.limite_inf, 2)\n",
    "        d2_sup = self.interpolador.derivative(self.limite_sup, 2)\n",
    "        maior = self.saber_maior(d2_inf, d2_sup)\n",
    "        parcela_1 = ((self.limite_sup - self.limite_inf) * (self.h**2)) / 12\n",
    "        return abs(maior * parcela_1)\n",
    "\n",
    "    def erro_generalizado(self):\n",
    "        # No trapézio geralmente erro é dado pela segunda derivada (2ª ordem)\n",
    "        return self.erro_simples()"
   ]
  },
  {
   "attachments": {},
   "cell_type": "markdown",
   "metadata": {},
   "source": [
    "### Exemplo de uso com pontos"
   ]
  },
  {
   "cell_type": "code",
   "execution_count": 4,
   "metadata": {},
   "outputs": [
    {
     "name": "stdout",
     "output_type": "stream",
     "text": [
      "Trapézio (x, y): 780.90000\n",
      "Erro simples: 1237.71209\n",
      "Erro generalizado: 1237.71209\n"
     ]
    }
   ],
   "source": [
    "# Questão velocidade - lista\n",
    "def f(x):\n",
    "    return x * math.sqrt(x**2 + 1)\n",
    "\n",
    "pontos_x = [0, 1, 2, 3, 4, 5, 6, 7, 8, 9, 10]\n",
    "pontos_y = [0, 50.4, 53.7, 67.5, 74.3, 84.6, 92.1, 98.3, 100, 105, 110]\n",
    "\n",
    "trap = IntegralTrapezio(x=pontos_x, y=pontos_y)\n",
    "print(f\"Trapézio (x, y): {trap.integral():.5f}\")\n",
    "print(f\"Erro simples: {trap.erro_simples():.5f}\")\n",
    "print(f\"Erro generalizado: {trap.erro_generalizado():.5f}\")\n"
   ]
  },
  {
   "cell_type": "code",
   "execution_count": 10,
   "metadata": {},
   "outputs": [
    {
     "name": "stdout",
     "output_type": "stream",
     "text": [
      "Trapézio parte 2 da M2 (x, y): 2665.00000\n",
      "Erro simples: 0.00000\n",
      "Erro generalizado: 0.00000\n",
      "Trapézio parte 2 da M1 (x, y): 1238.00000\n",
      "Erro simples: 0.00000\n",
      "Erro generalizado: 0.00000\n"
     ]
    }
   ],
   "source": [
    "# Questão margens do rio - lista\n",
    "\n",
    "pontos_x = [30, 50]\n",
    "pontos_y = [171.2, 95.3]\n",
    "\n",
    "trap = IntegralTrapezio(x=pontos_x, y=pontos_y)\n",
    "print(f\"Trapézio parte 2 da M2 (x, y): {trap.integral():.5f}\")\n",
    "print(f\"Erro simples: {trap.erro_simples():.5f}\")\n",
    "print(f\"Erro generalizado: {trap.erro_generalizado():.5f}\")\n",
    "\n",
    "pontos_x = [30, 50]\n",
    "pontos_y = [72.8, 51]\n",
    "\n",
    "trap = IntegralTrapezio(x=pontos_x, y=pontos_y)\n",
    "print(f\"Trapézio parte 2 da M1 (x, y): {trap.integral():.5f}\")\n",
    "print(f\"Erro simples: {trap.erro_simples():.5f}\")\n",
    "print(f\"Erro generalizado: {trap.erro_generalizado():.5f}\")"
   ]
  },
  {
   "attachments": {},
   "cell_type": "markdown",
   "metadata": {},
   "source": [
    "### Exemplo de uso com função"
   ]
  },
  {
   "cell_type": "code",
   "execution_count": 9,
   "metadata": {},
   "outputs": [
    {
     "name": "stdout",
     "output_type": "stream",
     "text": [
      "Trapézio (x, y): 1.9027\n",
      "Erro simples: 0.0100\n",
      "Erro generalizado: 0.0100\n"
     ]
    }
   ],
   "source": [
    "# Questão 2: integral de 0 a 1 3*exp(-x) - Lista\n",
    "def f(x):\n",
    "    return 3 * math.exp(-x)\n",
    "\n",
    "trap2 = IntegralTrapezio(limite_inf=0, limite_sup=1, func_integral=f, h=1/5)\n",
    "print(f\"Trapézio (x, y): {trap2.integral():.4f}\")\n",
    "print(f\"Erro simples: {trap2.erro_simples():.4f}\")\n",
    "print(f\"Erro generalizado: {trap2.erro_generalizado():.4f}\")\n"
   ]
  }
 ],
 "metadata": {
  "kernelspec": {
   "display_name": "Python 3",
   "language": "python",
   "name": "python3"
  },
  "language_info": {
   "codemirror_mode": {
    "name": "ipython",
    "version": 3
   },
   "file_extension": ".py",
   "mimetype": "text/x-python",
   "name": "python",
   "nbconvert_exporter": "python",
   "pygments_lexer": "ipython3",
   "version": "3.10.12"
  },
  "orig_nbformat": 4
 },
 "nbformat": 4,
 "nbformat_minor": 2
}

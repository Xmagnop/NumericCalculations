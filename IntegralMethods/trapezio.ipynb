{
 "cells": [
  {
   "attachments": {},
   "cell_type": "markdown",
   "metadata": {},
   "source": [
    "### Integração Numérica - Regra do Trapézio\n",
    "\n",
    "Este notebook apresenta a implementação da Regra do Trapézio para cálculo de integrais definidas, incluindo o erro de aproximação simples e o erro generalizado."
   ]
  },
  {
   "cell_type": "code",
   "execution_count": 1,
   "metadata": {},
   "outputs": [],
   "source": [
    "%load_ext autoreload\n",
    "%autoreload 2\n",
    "from integral import Integral\n",
    "import math\n",
    "import numpy as np"
   ]
  },
  {
   "attachments": {},
   "cell_type": "markdown",
   "metadata": {},
   "source": [
    "### Classe `IntegralTrapezio`"
   ]
  },
  {
   "cell_type": "code",
   "execution_count": 2,
   "metadata": {},
   "outputs": [],
   "source": [
    "class IntegralTrapezio(Integral):\n",
    "    def __init__(self, x=None, y=None, limite_inf=None, limite_sup=None, func_integral=None, h=None):\n",
    "        super().__init__()\n",
    "        self._setup(x, y, limite_inf, limite_sup, func_integral, h)\n",
    "\n",
    "    def integral(self):\n",
    "        # regra do trapézio simples sobre todos os pontos\n",
    "        soma = self.y[0] + self.y[-1] + 2 * np.sum(self.y[1:-1])\n",
    "        return (self.h / 2) * soma\n",
    "\n",
    "    def erro_simples(self):\n",
    "        d2_inf = self.interpolador.derivative(self.limite_inf, 2)\n",
    "        d2_sup = self.interpolador.derivative(self.limite_sup, 2)\n",
    "        maior = self.saber_maior(d2_inf, d2_sup)\n",
    "        parcela_1 = ((self.limite_sup - self.limite_inf) * (self.h**2)) / 12\n",
    "        return abs(maior * parcela_1)\n",
    "\n",
    "    def erro_generalizado(self):\n",
    "        # No trapézio geralmente erro é dado pela segunda derivada (2ª ordem)\n",
    "        return self.erro_simples()"
   ]
  },
  {
   "attachments": {},
   "cell_type": "markdown",
   "metadata": {},
   "source": [
    "### Exemplo de uso com pontos"
   ]
  },
  {
   "cell_type": "code",
   "execution_count": 3,
   "metadata": {},
   "outputs": [
    {
     "name": "stdout",
     "output_type": "stream",
     "text": [
      "Trapézio (x, y): 0.1327990413780471\n",
      "Erro simples: 0.0005202933133542894\n",
      "Erro generalizado: 0.0005202933133542894\n"
     ]
    }
   ],
   "source": [
    "# Célula 1 - Integral Trapézio com pontos (x, y)\n",
    "def f(x):\n",
    "    return x * math.sqrt(x**2 + 1)\n",
    "\n",
    "pontos_x = [0.0, 0.1, 0.2, 0.3, 0.4, 0.5]\n",
    "pontos_y = [f(xi) for xi in pontos_x]\n",
    "\n",
    "trap = IntegralTrapezio(x=pontos_x, y=pontos_y)\n",
    "print(\"Trapézio (x, y):\", trap.integral())\n",
    "print(\"Erro simples:\", trap.erro_simples())\n",
    "print(\"Erro generalizado:\", trap.erro_generalizado())\n"
   ]
  },
  {
   "attachments": {},
   "cell_type": "markdown",
   "metadata": {},
   "source": [
    "### Exemplo de uso com função"
   ]
  },
  {
   "cell_type": "code",
   "execution_count": 4,
   "metadata": {},
   "outputs": [
    {
     "name": "stdout",
     "output_type": "stream",
     "text": [
      "Trapézio (função): 0.1327990413780471\n",
      "Erro simples: 0.0005202933133542858\n",
      "Erro generalizado: 0.0005202933133542858\n"
     ]
    }
   ],
   "source": [
    "# Célula 2 - Integral Trapézio com função, limites e h\n",
    "def f(x):\n",
    "    return x * math.sqrt(x**2 + 1)\n",
    "\n",
    "trap2 = IntegralTrapezio(limite_inf=0, limite_sup=0.5, func_integral=f, h=0.1)\n",
    "print(\"Trapézio (função):\", trap2.integral())\n",
    "print(\"Erro simples:\", trap2.erro_simples())\n",
    "print(\"Erro generalizado:\", trap2.erro_generalizado())\n"
   ]
  }
 ],
 "metadata": {
  "kernelspec": {
   "display_name": "Python 3",
   "language": "python",
   "name": "python3"
  },
  "language_info": {
   "codemirror_mode": {
    "name": "ipython",
    "version": 3
   },
   "file_extension": ".py",
   "mimetype": "text/x-python",
   "name": "python",
   "nbconvert_exporter": "python",
   "pygments_lexer": "ipython3",
   "version": "3.11.4"
  },
  "orig_nbformat": 4
 },
 "nbformat": 4,
 "nbformat_minor": 2
}

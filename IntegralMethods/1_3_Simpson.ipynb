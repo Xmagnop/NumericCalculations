{
 "cells": [
  {
   "attachments": {},
   "cell_type": "markdown",
   "metadata": {},
   "source": [
    "### Integração Numérica - Regra de 1/3 de Simpson"
   ]
  },
  {
   "attachments": {},
   "cell_type": "markdown",
   "metadata": {},
   "source": [
    "Este notebook apresenta a implementação da Regra de 1/3 de Simpson para o cálculo de integrais definidas, com cálculo do erro de aproximação simples e generalizado, utilizando orientação a objetos com uma classe base comum.\n"
   ]
  },
  {
   "cell_type": "code",
   "execution_count": 1,
   "metadata": {},
   "outputs": [],
   "source": [
    "%load_ext autoreload\n",
    "%autoreload 2\n",
    "from integral import Integral\n",
    "import math\n",
    "import sympy as sp"
   ]
  },
  {
   "attachments": {},
   "cell_type": "markdown",
   "metadata": {},
   "source": [
    "### Classe `IntegralUmTercoSimpson`"
   ]
  },
  {
   "cell_type": "code",
   "execution_count": 2,
   "metadata": {},
   "outputs": [],
   "source": [
    "class IntegralUmTercoSimpson(Integral):\n",
    "    def __init__(self, x=None, y=None, limite_inf=None, limite_sup=None,\n",
    "                 func_integral=None, h=None, erro_desejado=None):\n",
    "        super().__init__()\n",
    "\n",
    "        if erro_desejado is not None:\n",
    "            if limite_inf is None or limite_sup is None or func_integral is None:\n",
    "                raise ValueError(\"Para usar erro_desejado, forneça limite_inf, limite_sup e func_integral.\")\n",
    "\n",
    "            self.limite_inf = limite_inf\n",
    "            self.limite_sup = limite_sup\n",
    "            self.func_expr = func_integral  # guardar expressão simbólica\n",
    "\n",
    "            x_sym = sp.Symbol('x')\n",
    "            func_lambd = sp.lambdify(x_sym, func_integral, modules=[\"math\"])\n",
    "\n",
    "            # Obtém K = máximo valor absoluto da 4ª derivada em [a,b]\n",
    "            K = self._derivada_quarta_simbolica(func_integral, limite_inf, limite_sup)\n",
    "\n",
    "            if K is None:\n",
    "                raise ValueError(\"Não foi possível calcular a quarta derivada simbolicamente.\")\n",
    "\n",
    "            n_quarta_min = ((K * (limite_sup - limite_inf) ** 5) / (180 * erro_desejado)) ** 0.25\n",
    "            n = math.ceil(n_quarta_min)\n",
    "\n",
    "            # n deve ser par para Simpson 1/3\n",
    "            if n % 2 != 0:\n",
    "                n += 1\n",
    "\n",
    "            n = min(max(n, 2), 10000)  # limite mínimo e máximo razoável\n",
    "            print(f\"valor de n (subintervalos) encontrado: {n}\")\n",
    "            h = (limite_sup - limite_inf) / n\n",
    "            print(f\"valor de h calculado: {h}\")\n",
    "\n",
    "            self._setup(x, y, limite_inf, limite_sup, func_lambd, h)\n",
    "\n",
    "        else:\n",
    "            self._setup(x, y, limite_inf, limite_sup, func_integral, h)\n",
    "\n",
    "    def _derivada_quarta_simbolica(self, func_expr, a, b):\n",
    "        x = sp.Symbol('x')\n",
    "        try:\n",
    "            f_diff4 = sp.diff(func_expr, x, 4)\n",
    "            f_diff4_func = sp.lambdify(x, f_diff4, modules=[\"math\"])\n",
    "            pontos = [a, (a + b) / 2, b]\n",
    "            return max(abs(f_diff4_func(xi)) for xi in pontos)\n",
    "        except Exception as e:\n",
    "            print(f\"[sympy fallback] Derivada quarta simbólica falhou: {e}\")\n",
    "            return None\n",
    "\n",
    "    def integral(self):\n",
    "        n = len(self.x) - 1\n",
    "        soma = self.y[0] + self.y[-1]\n",
    "\n",
    "        for i in range(1, n):\n",
    "            if i % 2 == 0:\n",
    "                soma += 2 * self.y[i]\n",
    "            else:\n",
    "                soma += 4 * self.y[i]\n",
    "\n",
    "        return (self.h / 3) * soma\n",
    "\n",
    "    def erro_simples(self):\n",
    "        d4_inf = self.derivada_quarta_ordem(self.limite_inf)\n",
    "        d4_sup = self.derivada_quarta_ordem(self.limite_sup)\n",
    "        maior = self.saber_maior(d4_inf, d4_sup)\n",
    "        parcela_1 = ((self.h ** 4) * (self.limite_sup - self.limite_inf)) / 180\n",
    "        return abs(maior * parcela_1)\n",
    "\n",
    "    def erro_generalizado(self):\n",
    "        return self.erro_simples()"
   ]
  },
  {
   "attachments": {},
   "cell_type": "markdown",
   "metadata": {},
   "source": [
    "### Exemplo de uso com pontos"
   ]
  },
  {
   "cell_type": "code",
   "execution_count": 19,
   "metadata": {},
   "outputs": [
    {
     "name": "stdout",
     "output_type": "stream",
     "text": [
      "Simpson 1/3 Margem 1 (x, y): 791.13333\n",
      "Erro simples: 488.54093\n",
      "Erro generalizado: 488.54093\n",
      "Simpson 1/3 Margem M2 resultante (x, y): 3456.13333\n"
     ]
    }
   ],
   "source": [
    "# Questão velocidade - Lista\n",
    "\n",
    "pontos_x = [0, 1, 2, 3, 4, 5, 6, 7, 8, 9, 10]\n",
    "pontos_y = [0, 50.4, 53.7, 67.5, 74.3, 84.6, 92.1, 98.3, 100, 105, 110]\n",
    "\n",
    "simpson_13 = IntegralUmTercoSimpson(x=pontos_x, y=pontos_y)\n",
    "print(f\"Simpson 1/3 Margem 1 (x, y): {simpson_13.integral():.5f}\")\n",
    "print(f\"Erro simples: {simpson_13.erro_simples():.5f}\")\n",
    "print(f\"Erro generalizado: {simpson_13.erro_generalizado():.5f}\")\n",
    "\n",
    "print(f\"Simpson 1/3 Margem M2 resultante (x, y): {(simpson_13.integral() + 2665.00000):.5f}\")\n"
   ]
  },
  {
   "cell_type": "code",
   "execution_count": 20,
   "metadata": {},
   "outputs": [
    {
     "name": "stdout",
     "output_type": "stream",
     "text": [
      "Simpson 1/3 (função): 0.72876\n",
      "Erro simples: 0.00000\n",
      "Erro generalizado: 0.00000\n",
      "Simpson 1/3 (função): 0.72741\n",
      "Erro simples: 0.00009\n",
      "Erro generalizado: 0.00009\n"
     ]
    }
   ],
   "source": [
    "# Questão 1 revisão - cos(x)**2 3 pontos e 5 pontos com simpson 1/3\n",
    "\n",
    "# 3 pontos\n",
    "def f(x):\n",
    "    return math.cos(x)**2\n",
    "\n",
    "simpson_38_2 = IntegralUmTercoSimpson(limite_inf=0, limite_sup=1, func_integral=f, h=1/2)\n",
    "print(f\"Simpson 1/3 (função): {simpson_38_2.integral():.5f}\")\n",
    "print(f\"Erro simples: {simpson_38_2.erro_simples():.5f}\")\n",
    "print(f\"Erro generalizado: {simpson_38_2.erro_generalizado():.5f}\")\n",
    "\n",
    "# 5 pontos\n",
    "def f2(x):\n",
    "    return math.cos(x)**2\n",
    "\n",
    "simpson_38_2 = IntegralUmTercoSimpson(limite_inf=0, limite_sup=1, func_integral=f2, h=1/4)\n",
    "print(f\"Simpson 1/3 (função): {simpson_38_2.integral():.5f}\")\n",
    "print(f\"Erro simples: {simpson_38_2.erro_simples():.5f}\")\n",
    "print(f\"Erro generalizado: {simpson_38_2.erro_generalizado():.5f}\")"
   ]
  },
  {
   "attachments": {},
   "cell_type": "markdown",
   "metadata": {},
   "source": [
    "### Exemplo de uso com função"
   ]
  },
  {
   "cell_type": "code",
   "execution_count": 21,
   "metadata": {},
   "outputs": [
    {
     "name": "stdout",
     "output_type": "stream",
     "text": [
      "Simpson 1/3 (x, y): 1.8964\n",
      "Erro simples: 0.0000\n",
      "Erro generalizado: 0.0000\n"
     ]
    }
   ],
   "source": [
    "# Questão 2: integral de 0 a 1 3*exp(-x) - Lista\n",
    "def f(x):\n",
    "    return 3 * math.exp(-x)\n",
    "\n",
    "simpson_13_2 = IntegralUmTercoSimpson(limite_inf=0, limite_sup=1, func_integral=f, h=1/6)\n",
    "print(f\"Simpson 1/3 (x, y): {simpson_13_2.integral():.4f}\")\n",
    "print(f\"Erro simples: {simpson_13_2.erro_simples():.4f}\")\n",
    "print(f\"Erro generalizado: {simpson_13_2.erro_generalizado():.4f}\")\n"
   ]
  },
  {
   "cell_type": "code",
   "execution_count": 22,
   "metadata": {},
   "outputs": [
    {
     "name": "stdout",
     "output_type": "stream",
     "text": [
      "valor de n (subintervalos) encontrado: 4\n",
      "valor de h calculado: 0.75\n",
      "Simpson 1/3 (x, y): 4.6662\n",
      "Erro simples: 0.0003\n",
      "Erro generalizado: 0.0003\n"
     ]
    }
   ],
   "source": [
    "x = sp.Symbol('x')\n",
    "f_expr = sp.sqrt(x)\n",
    "\n",
    "simpson = IntegralUmTercoSimpson(\n",
    "    limite_inf=1,\n",
    "    limite_sup=4,\n",
    "    func_integral=f_expr,\n",
    "    erro_desejado=0.01\n",
    ")\n",
    "\n",
    "print(f\"Simpson 1/3 (x, y): {simpson.integral():.4f}\")\n",
    "print(f\"Erro simples: {simpson.erro_simples():.4f}\")\n",
    "print(f\"Erro generalizado: {simpson.erro_generalizado():.4f}\")"
   ]
  },
  {
   "attachments": {},
   "cell_type": "markdown",
   "metadata": {},
   "source": [
    "### AV3"
   ]
  },
  {
   "cell_type": "code",
   "execution_count": 6,
   "metadata": {},
   "outputs": [
    {
     "name": "stdout",
     "output_type": "stream",
     "text": [
      "para n = 4\n",
      "Simpson 1/3 (x, y): 0.6094\n",
      "Erro simples: 0.0001\n",
      "Erro generalizado: 0.0001\n",
      "para n = 6\n",
      "Simpson 1/3 (x, y): 0.6095\n",
      "Erro simples: 0.0000\n",
      "Erro generalizado: 0.0000\n",
      "para n = 20\n",
      "Simpson 1/3 (x, y): 0.6095\n",
      "Erro simples: 0.0000\n",
      "Erro generalizado: 0.0000\n"
     ]
    }
   ],
   "source": [
    "# Questão 2 AV3: integral de 0 a 1 para x * math.sqrt((x**2) + 1) utilizando n (numero de aplicações da regra) = 2, 10 e 50\n",
    "def f(x):\n",
    "    return x * math.sqrt((x**2) + 1)\n",
    "\n",
    "limite_sup = 1\n",
    "limite_inf = 0\n",
    "n = 4\n",
    "h = (limite_sup - limite_inf) / n\n",
    "\n",
    "simpson = IntegralUmTercoSimpson(limite_inf=0, limite_sup=1, func_integral=f, h=h)\n",
    "print(f\"para n = {n}\")\n",
    "print(f\"Simpson 1/3 (x, y): {simpson.integral():.4f}\")\n",
    "print(f\"Erro simples: {simpson.erro_simples():.4f}\")\n",
    "print(f\"Erro generalizado: {simpson.erro_generalizado():.4f}\")\n",
    "\n",
    "n = 6\n",
    "h = (limite_sup - limite_inf) / n\n",
    "\n",
    "simpson = IntegralUmTercoSimpson(limite_inf=0, limite_sup=1, func_integral=f, h=h)\n",
    "print(f\"para n = {n}\")\n",
    "print(f\"Simpson 1/3 (x, y): {simpson.integral():.4f}\")\n",
    "print(f\"Erro simples: {simpson.erro_simples():.4f}\")\n",
    "print(f\"Erro generalizado: {simpson.erro_generalizado():.4f}\")\n",
    "\n",
    "n = 20\n",
    "h = (limite_sup - limite_inf) / n\n",
    "\n",
    "simpson = IntegralUmTercoSimpson(limite_inf=0, limite_sup=1, func_integral=f, h=h)\n",
    "print(f\"para n = {n}\")\n",
    "print(f\"Simpson 1/3 (x, y): {simpson.integral():.4f}\")\n",
    "print(f\"Erro simples: {simpson.erro_simples():.4f}\")\n",
    "print(f\"Erro generalizado: {simpson.erro_generalizado():.4f}\")"
   ]
  },
  {
   "cell_type": "code",
   "execution_count": 5,
   "metadata": {},
   "outputs": [
    {
     "name": "stdout",
     "output_type": "stream",
     "text": [
      "Simpson 1/3 área de cima (x, y): 312.0000\n",
      "Erro simples: 27.6933\n",
      "Erro generalizado: 27.6933\n",
      "Simpson 1/3 área de baixo (x, y): 282.6667\n",
      "Erro simples: 56.6667\n",
      "Erro generalizado: 56.6667\n",
      "Área Total = 594.6667\n"
     ]
    }
   ],
   "source": [
    "# Questão 3 AV3: área da figura, possui 2 áreas a ser calculadas que devem ser somadas\n",
    "\n",
    "pontos_x = [0, 6, 12, 18, 24, 30, 36, 42, 48]\n",
    "pontos_y = [0, 3, 6, 9, 10, 9, 8, 6, 0]\n",
    "\n",
    "simpson_13 = IntegralUmTercoSimpson(x=pontos_x, y=pontos_y)\n",
    "print(f\"Simpson 1/3 área de cima (x, y): {simpson_13.integral():.4f}\")\n",
    "print(f\"Erro simples: {simpson_13.erro_simples():.4f}\")\n",
    "print(f\"Erro generalizado: {simpson_13.erro_generalizado():.4f}\")\n",
    "\n",
    "pontos_x = [0, 8, 16, 24, 32, 40, 48]\n",
    "pontos_y = [0, 4, 5, 9, 8, 7, 0]\n",
    "\n",
    "simpson_13_2 = IntegralUmTercoSimpson(x=pontos_x, y=pontos_y)\n",
    "print(f\"Simpson 1/3 área de baixo (x, y): {simpson_13_2.integral():.4f}\")\n",
    "print(f\"Erro simples: {simpson_13_2.erro_simples():.4f}\")\n",
    "print(f\"Erro generalizado: {simpson_13_2.erro_generalizado():.4f}\")\n",
    "\n",
    "print(f\"Área Total = {(simpson_13.integral() + simpson_13_2.integral()):.4f}\")"
   ]
  }
 ],
 "metadata": {
  "kernelspec": {
   "display_name": "Python 3",
   "language": "python",
   "name": "python3"
  },
  "language_info": {
   "codemirror_mode": {
    "name": "ipython",
    "version": 3
   },
   "file_extension": ".py",
   "mimetype": "text/x-python",
   "name": "python",
   "nbconvert_exporter": "python",
   "pygments_lexer": "ipython3",
   "version": "3.11.4"
  },
  "orig_nbformat": 4
 },
 "nbformat": 4,
 "nbformat_minor": 2
}

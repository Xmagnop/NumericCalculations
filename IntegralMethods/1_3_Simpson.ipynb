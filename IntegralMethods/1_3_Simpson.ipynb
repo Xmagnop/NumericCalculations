{
 "cells": [
  {
   "attachments": {},
   "cell_type": "markdown",
   "metadata": {},
   "source": [
    "### Integração Numérica - Regra de 1/3 de Simpson"
   ]
  },
  {
   "attachments": {},
   "cell_type": "markdown",
   "metadata": {},
   "source": [
    "Este notebook apresenta a implementação da Regra de 1/3 de Simpson para o cálculo de integrais definidas, com cálculo do erro de aproximação simples e generalizado, utilizando orientação a objetos com uma classe base comum.\n"
   ]
  },
  {
   "cell_type": "code",
   "execution_count": 1,
   "metadata": {},
   "outputs": [],
   "source": [
    "%load_ext autoreload\n",
    "%autoreload 2\n",
    "from integral import Integral\n",
    "import math"
   ]
  },
  {
   "attachments": {},
   "cell_type": "markdown",
   "metadata": {},
   "source": [
    "### Classe `IntegralUmTercoSimpson`"
   ]
  },
  {
   "cell_type": "code",
   "execution_count": 6,
   "metadata": {},
   "outputs": [],
   "source": [
    "class IntegralUmTercoSimpson(Integral):\n",
    "    def __init__(self, x=None, y=None, limite_inf=None, limite_sup=None, func_integral=None, h=None):\n",
    "        super().__init__()\n",
    "        self._setup(x, y, limite_inf, limite_sup, func_integral, h)\n",
    "\n",
    "        # Ajustar se pontos não múltiplos de 2 (n deve ser par)\n",
    "        # if (len(self.x) - 1) % 2 != 0:\n",
    "            # raise ValueError(\"Para Simpson 1/3, número de intervalos deve ser par (n deve ser múltiplo de 2).\")\n",
    "\n",
    "    def integral(self):\n",
    "        n = len(self.x) - 1\n",
    "        soma = self.y[0] + self.y[-1]\n",
    "\n",
    "        for i in range(1, n):\n",
    "            if i % 2 == 0:\n",
    "                soma += 2 * self.y[i]\n",
    "            else:\n",
    "                soma += 4 * self.y[i]\n",
    "\n",
    "        return (self.h / 3) * soma\n",
    "\n",
    "    def erro_simples(self):\n",
    "        d4_inf = self.derivada_quarta_ordem(self.limite_inf)\n",
    "        d4_sup = self.derivada_quarta_ordem(self.limite_sup)\n",
    "        maior = self.saber_maior(d4_inf, d4_sup)\n",
    "        parcela_1 = ((self.h ** 4) * (self.limite_sup - self.limite_inf)) / 180\n",
    "        return abs(maior * parcela_1)\n",
    "\n",
    "    def erro_generalizado(self):\n",
    "        return self.erro_simples()"
   ]
  },
  {
   "attachments": {},
   "cell_type": "markdown",
   "metadata": {},
   "source": [
    "### Exemplo de uso com pontos"
   ]
  },
  {
   "cell_type": "code",
   "execution_count": 16,
   "metadata": {},
   "outputs": [
    {
     "name": "stdout",
     "output_type": "stream",
     "text": [
      "Simpson 1/3 Margem 1 (x, y): 791.13333\n",
      "Erro simples: 488.54093\n",
      "Erro generalizado: 488.54093\n",
      "Simpson 1/3 Margem M2 resultante (x, y): 3456.13333\n"
     ]
    }
   ],
   "source": [
    "# Questão velocidade - Lista\n",
    "\n",
    "pontos_x = [0, 1, 2, 3, 4, 5, 6, 7, 8, 9, 10]\n",
    "pontos_y = [0, 50.4, 53.7, 67.5, 74.3, 84.6, 92.1, 98.3, 100, 105, 110]\n",
    "\n",
    "simpson_13 = IntegralUmTercoSimpson(x=pontos_x, y=pontos_y)\n",
    "print(f\"Simpson 1/3 Margem 1 (x, y): {simpson_13.integral():.5f}\")\n",
    "print(f\"Erro simples: {simpson_13.erro_simples():.5f}\")\n",
    "print(f\"Erro generalizado: {simpson_13.erro_generalizado():.5f}\")\n",
    "\n",
    "print(f\"Simpson 1/3 Margem M2 resultante (x, y): {(simpson_13.integral() + 2665.00000):.5f}\")\n"
   ]
  },
  {
   "attachments": {},
   "cell_type": "markdown",
   "metadata": {},
   "source": [
    "### Exemplo de uso com função"
   ]
  },
  {
   "cell_type": "code",
   "execution_count": 17,
   "metadata": {},
   "outputs": [
    {
     "name": "stdout",
     "output_type": "stream",
     "text": [
      "Simpson 1/3 (x, y): 1.89637\n",
      "Erro simples: 0.00001\n",
      "Erro generalizado: 0.00001\n"
     ]
    }
   ],
   "source": [
    "# Questão 2: integral de 0 a 1 3*exp(-x) - Lista\n",
    "def f(x):\n",
    "    return 3 * math.exp(-x)\n",
    "\n",
    "simpson_13_2 = IntegralUmTercoSimpson(limite_inf=0, limite_sup=1, func_integral=f, h=1/6)\n",
    "print(f\"Simpson 1/3 (x, y): {simpson_13_2.integral():.5f}\")\n",
    "print(f\"Erro simples: {simpson_13_2.erro_simples():.5f}\")\n",
    "print(f\"Erro generalizado: {simpson_13_2.erro_generalizado():.5f}\")\n"
   ]
  }
 ],
 "metadata": {
  "kernelspec": {
   "display_name": "Python 3",
   "language": "python",
   "name": "python3"
  },
  "language_info": {
   "codemirror_mode": {
    "name": "ipython",
    "version": 3
   },
   "file_extension": ".py",
   "mimetype": "text/x-python",
   "name": "python",
   "nbconvert_exporter": "python",
   "pygments_lexer": "ipython3",
   "version": "3.11.4"
  },
  "orig_nbformat": 4
 },
 "nbformat": 4,
 "nbformat_minor": 2
}

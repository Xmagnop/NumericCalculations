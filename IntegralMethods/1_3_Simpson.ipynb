{
 "cells": [
  {
   "attachments": {},
   "cell_type": "markdown",
   "metadata": {},
   "source": [
    "### Integração Numérica - Regra de 1/3 de Simpson"
   ]
  },
  {
   "attachments": {},
   "cell_type": "markdown",
   "metadata": {},
   "source": [
    "Este notebook apresenta a implementação da Regra de 1/3 de Simpson para o cálculo de integrais definidas, com cálculo do erro de aproximação simples e generalizado, utilizando orientação a objetos com uma classe base comum.\n"
   ]
  },
  {
   "cell_type": "code",
   "execution_count": 2,
   "metadata": {},
   "outputs": [
    {
     "name": "stdout",
     "output_type": "stream",
     "text": [
      "The autoreload extension is already loaded. To reload it, use:\n",
      "  %reload_ext autoreload\n"
     ]
    }
   ],
   "source": [
    "%load_ext autoreload\n",
    "%autoreload 2\n",
    "from integral import Integral\n",
    "import math"
   ]
  },
  {
   "attachments": {},
   "cell_type": "markdown",
   "metadata": {},
   "source": [
    "### Classe `IntegralUmTercoSimpson`"
   ]
  },
  {
   "cell_type": "code",
   "execution_count": 6,
   "metadata": {},
   "outputs": [],
   "source": [
    "class IntegralUmTercoSimpson(Integral):\n",
    "    def __init__(self, x=None, y=None, limite_inf=None, limite_sup=None, func_integral=None, h=None):\n",
    "        super().__init__()\n",
    "        self._setup(x, y, limite_inf, limite_sup, func_integral, h)\n",
    "\n",
    "        # Ajustar se pontos não múltiplos de 2 (n deve ser par)\n",
    "        if (len(self.x)) % 2 != 0:\n",
    "            raise ValueError(\"Para Simpson 1/3, número de intervalos deve ser par (n deve ser múltiplo de 2).\")\n",
    "\n",
    "    def integral(self):\n",
    "        n = len(self.x) - 1\n",
    "        soma = self.y[0] + self.y[-1]\n",
    "\n",
    "        for i in range(1, n):\n",
    "            if i % 2 == 0:\n",
    "                soma += 2 * self.y[i]\n",
    "            else:\n",
    "                soma += 4 * self.y[i]\n",
    "\n",
    "        return (self.h / 3) * soma\n",
    "\n",
    "    def erro_simples(self):\n",
    "        d4_inf = self.derivada_quarta_ordem(self.limite_inf)\n",
    "        d4_sup = self.derivada_quarta_ordem(self.limite_sup)\n",
    "        maior = self.saber_maior(d4_inf, d4_sup)\n",
    "        parcela_1 = ((self.h ** 4) * (self.limite_sup - self.limite_inf)) / 180\n",
    "        return abs(maior * parcela_1)\n",
    "\n",
    "    def erro_generalizado(self):\n",
    "        return self.erro_simples()"
   ]
  },
  {
   "attachments": {},
   "cell_type": "markdown",
   "metadata": {},
   "source": [
    "### Exemplo de uso com pontos"
   ]
  },
  {
   "cell_type": "code",
   "execution_count": 7,
   "metadata": {},
   "outputs": [
    {
     "name": "stdout",
     "output_type": "stream",
     "text": [
      "Simpson 1/3 (x, y): 0.11611322435059976\n",
      "Erro simples: 1.2970517815259231e-06\n",
      "Erro generalizado: 1.2970517815259231e-06\n"
     ]
    }
   ],
   "source": [
    "# Célula 3 - Integral Simpson 1/3 com pontos (x, y)\n",
    "pontos_x = [0.0, 0.1, 0.2, 0.3, 0.4, 0.5]\n",
    "def f(x):\n",
    "    return x * math.sqrt(x**2 + 1)\n",
    "pontos_y = [f(xi) for xi in pontos_x]\n",
    "\n",
    "simpson_13 = IntegralUmTercoSimpson(x=pontos_x, y=pontos_y)\n",
    "print(\"Simpson 1/3 (x, y):\", simpson_13.integral())\n",
    "print(\"Erro simples:\", simpson_13.erro_simples())\n",
    "print(\"Erro generalizado:\", simpson_13.erro_generalizado())\n"
   ]
  },
  {
   "attachments": {},
   "cell_type": "markdown",
   "metadata": {},
   "source": [
    "### Exemplo de uso com função"
   ]
  },
  {
   "cell_type": "code",
   "execution_count": 8,
   "metadata": {},
   "outputs": [
    {
     "name": "stdout",
     "output_type": "stream",
     "text": [
      "Simpson 1/3 (função): 0.11611322435059977\n",
      "Erro simples: 1.2970517815262803e-06\n",
      "Erro generalizado: 1.2970517815262803e-06\n"
     ]
    }
   ],
   "source": [
    "# Célula 4 - Integral Simpson 1/3 com função, limites e h\n",
    "def f(x):\n",
    "    return x * math.sqrt(x**2 + 1)\n",
    "\n",
    "simpson_13_2 = IntegralUmTercoSimpson(limite_inf=0, limite_sup=0.5, func_integral=f, h=0.1)\n",
    "print(\"Simpson 1/3 (função):\", simpson_13_2.integral())\n",
    "print(\"Erro simples:\", simpson_13_2.erro_simples())\n",
    "print(\"Erro generalizado:\", simpson_13_2.erro_generalizado())\n"
   ]
  }
 ],
 "metadata": {
  "kernelspec": {
   "display_name": "Python 3",
   "language": "python",
   "name": "python3"
  },
  "language_info": {
   "codemirror_mode": {
    "name": "ipython",
    "version": 3
   },
   "file_extension": ".py",
   "mimetype": "text/x-python",
   "name": "python",
   "nbconvert_exporter": "python",
   "pygments_lexer": "ipython3",
   "version": "3.11.4"
  },
  "orig_nbformat": 4
 },
 "nbformat": 4,
 "nbformat_minor": 2
}

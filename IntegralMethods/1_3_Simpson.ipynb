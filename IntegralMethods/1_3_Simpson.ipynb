{
 "cells": [
  {
   "attachments": {},
   "cell_type": "markdown",
   "metadata": {},
   "source": [
    "### Integração Numérica - Regra de 1/3 de Simpson"
   ]
  },
  {
   "attachments": {},
   "cell_type": "markdown",
   "metadata": {},
   "source": [
    "Este notebook apresenta a implementação da Regra de 1/3 de Simpson para o cálculo de integrais definidas, com cálculo do erro de aproximação simples e generalizado, utilizando orientação a objetos com uma classe base comum.\n"
   ]
  },
  {
   "cell_type": "code",
   "execution_count": 1,
   "metadata": {},
   "outputs": [],
   "source": [
    "import math\n",
    "from integral import Integral\n",
    "import matplotlib.pyplot as plt\n",
    "import numpy as np"
   ]
  },
  {
   "attachments": {},
   "cell_type": "markdown",
   "metadata": {},
   "source": [
    "### Classe `IntegralUmTercoSimpson`"
   ]
  },
  {
   "cell_type": "code",
   "execution_count": 2,
   "metadata": {},
   "outputs": [],
   "source": [
    "class IntegralUmTercoSimpson(Integral):\n",
    "\n",
    "    def __init__(self, limite_inf: int = None, limite_sup: int = None, h: float = None, quant_pontos: int = None, x: list[float] = None, func_integral=None, func_derivada_integral=None) -> None:\n",
    "        super().__init__(limite_inf, limite_sup, h, quant_pontos, x, func_integral, func_derivada_integral)\n",
    "\n",
    "    def erro_generalizado(self):\n",
    "        derivada_4_grau_limite_inf = self.func_derivada_integral(self.limite_inf)\n",
    "        derivada_4_grau_limite_sup = self.func_derivada_integral(self.limite_sup)\n",
    "        maior = self.saber_maior(derivada_4_grau_limite_inf, derivada_4_grau_limite_sup)\n",
    "        parcela_1 = (self.h**4 / 180) * (self.limite_sup - self.limite_inf)\n",
    "        return abs(maior * parcela_1)\n",
    "\n",
    "    def erro_simples(self):\n",
    "        derivada_4_grau_limite_inf = self.func_derivada_integral(self.limite_inf)\n",
    "        derivada_4_grau_limite_sup = self.func_derivada_integral(self.limite_sup)\n",
    "        maior = self.saber_maior(derivada_4_grau_limite_inf, derivada_4_grau_limite_sup)\n",
    "        return abs(-1 * (self.h ** 5 / 90) * maior)\n",
    "\n",
    "    def integral(self):\n",
    "        for x in self.x:\n",
    "            self.y.append(self.func_integral(x))\n",
    "\n",
    "        primeiro = self.y.pop(0)\n",
    "        ultimo = self.y.pop()\n",
    "        cte = self.h / 3\n",
    "        somaImpares = 0\n",
    "        somaPares = 0\n",
    "        for i in range(0, len(self.y)):\n",
    "            if i % 2 == 0:\n",
    "                somaImpares += (4 * self.y[i])\n",
    "            if i % 2 == 1:\n",
    "                somaPares += (2 * self.y[i])\n",
    "        return cte * (primeiro + somaImpares + somaPares + ultimo)"
   ]
  },
  {
   "attachments": {},
   "cell_type": "markdown",
   "metadata": {},
   "source": [
    "### Exemplo de uso"
   ]
  },
  {
   "cell_type": "code",
   "execution_count": 8,
   "metadata": {},
   "outputs": [
    {
     "name": "stdout",
     "output_type": "stream",
     "text": [
      "Erro Geral = 0.000001\n",
      "F(x) = 0.60947\n"
     ]
    }
   ],
   "source": [
    "inte_1_3_simpson_1_questao = IntegralUmTercoSimpson(\n",
    "        limite_inf=0, \n",
    "        limite_sup=1, \n",
    "        h=0.1, \n",
    "        func_integral=lambda x: x * math.sqrt(x**2 + 1),\n",
    "        func_derivada_integral=lambda x: (-15 * x) / ((math.pow(x, 2)+ 1) ** (7/2))\n",
    ")\n",
    "print(f'Erro Geral = {inte_1_3_simpson_1_questao.erro_generalizado():.6f}')\n",
    "print(f'F(x) = {round(inte_1_3_simpson_1_questao.integral(), 5)}')"
   ]
  }
 ],
 "metadata": {
  "kernelspec": {
   "display_name": "Python 3",
   "language": "python",
   "name": "python3"
  },
  "language_info": {
   "codemirror_mode": {
    "name": "ipython",
    "version": 3
   },
   "file_extension": ".py",
   "mimetype": "text/x-python",
   "name": "python",
   "nbconvert_exporter": "python",
   "pygments_lexer": "ipython3",
   "version": "3.11.4"
  },
  "orig_nbformat": 4
 },
 "nbformat": 4,
 "nbformat_minor": 2
}

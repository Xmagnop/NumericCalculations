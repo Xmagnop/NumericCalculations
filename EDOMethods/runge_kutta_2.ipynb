{
 "cells": [
  {
   "attachments": {},
   "cell_type": "markdown",
   "metadata": {},
   "source": [
    "## Métodos de Runge-Kutta de 2ª Ordem + Euler\n",
    "\n",
    "Este notebook implementa quatro métodos para resolução numérica de EDOs:\n",
    "- Euler (RK1)\n",
    "- Heun (RK2 com \\u03b1 = 1/2)\n",
    "- Ponto Médio (RK2 com \\u03b1 = 1)\n",
    "- Ralston (RK2 com \\u03b1 = 2/3)\n",
    "\n",
    "Formato geral de Runge-Kutta de 2ª ordem:\n",
    "\n",
    "k1 = h * f(x_n, y_n)\n",
    "k2 = h * f(x_n + h/(2\\u03b1), y_n + k1/(2\\u03b1))\n",
    "y_{n+1} = y_n + (1 - 1/(2\\u03b1)) * k1 + 1/(2\\u03b1) * k2\n",
    "\n",
    "Todos têm erro global O(h^2), exceto Euler que tem O(h)."
   ]
  },
  {
   "cell_type": "code",
   "execution_count": 11,
   "metadata": {},
   "outputs": [],
   "source": [
    "import matplotlib.pyplot as plt"
   ]
  },
  {
   "cell_type": "code",
   "execution_count": 26,
   "metadata": {},
   "outputs": [],
   "source": [
    "def runge_kutta_2_ordem(f, x0, y0, h, n, metodo=\"heun\"):\n",
    "    print(f\"\\nMétodo de {metodo.capitalize()}\\n\")\n",
    "    print(f\"{'ITER.':<6}{'x0':<10}{'y0':<15}{'K1':<15}{'K2':<15}{'|yn - yn-1|':<15}\")\n",
    "    print(\"-\" * 76)\n",
    "\n",
    "    x_vals = [x0]\n",
    "    y_vals = [y0]\n",
    "    erros = [None]\n",
    "\n",
    "    # Iteração 0\n",
    "    k1 = f(x0, y0)\n",
    "    if metodo == \"heun\":\n",
    "        k2 = f(x0 + h, y0 + h * k1)\n",
    "        y_next = y0 + (h / 2) * (k1 + k2)\n",
    "    elif metodo == \"ponto medio\":\n",
    "        k2 = f(x0 + h / 2, y0 + h / 2 * k1)\n",
    "        y_next = y0 + h * k2\n",
    "    elif metodo == \"ralston\":\n",
    "        k2 = f(x0 + 3 * h / 4, y0 + 3 * h / 4 * k1)\n",
    "        y_next = y0 + h * (k1 + 2 * k2) / 3\n",
    "    else:\n",
    "        raise ValueError(\"Método inválido\")\n",
    "\n",
    "    print(f\"{0:<6}{x0:<10.5f}{y0:<15.5f}{k1:<15.5f}{k2:<15.5f}{'-':<15}\")\n",
    "    \n",
    "    # Atualiza para próxima iteração\n",
    "    x0 += h\n",
    "    erro = abs(y_next - y_vals[-1])\n",
    "    y0 = y_next\n",
    "    x_vals.append(x0)\n",
    "    y_vals.append(y0)\n",
    "    erros.append(erro)\n",
    "\n",
    "    # Iterações restantes\n",
    "    for i in range(1, n):\n",
    "        k1 = f(x0, y0)\n",
    "        if metodo == \"heun\":\n",
    "            k2 = f(x0 + h, y0 + h * k1)\n",
    "            y_next = y0 + (h / 2) * (k1 + k2)\n",
    "        elif metodo == \"ponto medio\":\n",
    "            k2 = f(x0 + h / 2, y0 + h / 2 * k1)\n",
    "            y_next = y0 + h * k2\n",
    "        elif metodo == \"ralston\":\n",
    "            k2 = f(x0 + 3 * h / 4, y0 + 3 * h / 4 * k1)\n",
    "            y_next = y0 + h * (k1 + 2 * k2) / 3\n",
    "\n",
    "        erro = abs(y_next - y0)\n",
    "        print(f\"{i:<6}{x0:<10.5f}{y0:<15.5f}{k1:<15.5f}{k2:<15.5f}{erro:<15.5f}\")\n",
    "\n",
    "        x0 += h\n",
    "        y0 = y_next\n",
    "        x_vals.append(x0)\n",
    "        y_vals.append(y0)\n",
    "        erros.append(erro)\n",
    "\n",
    "    # Gráfico\n",
    "    plt.figure(figsize=(10, 5))\n",
    "    plt.plot(x_vals, y_vals, marker='o', label='y(x)', color='blue')\n",
    "    plt.plot(x_vals[1:], erros[1:], marker='x', linestyle='--', label='Erro |yn - yn-1|', color='red')\n",
    "    plt.title(f'Solução e Erro - Método {metodo.capitalize()}')\n",
    "    plt.xlabel('x')\n",
    "    plt.ylabel('y e Erro')\n",
    "    plt.legend()\n",
    "    plt.grid(True)\n",
    "    plt.show()"
   ]
  },
  {
   "cell_type": "code",
   "execution_count": 27,
   "metadata": {},
   "outputs": [
    {
     "name": "stdout",
     "output_type": "stream",
     "text": [
      "\n",
      "Método de Heun\n",
      "\n",
      "ITER. x0        y0             K1             K2             |yn - yn-1|    \n",
      "----------------------------------------------------------------------------\n",
      "0     1.00000   2.00000        4.00000        4.12080        -              \n",
      "1     1.01000   2.04060        4.12202        4.24692        0.04184        \n",
      "2     1.02000   2.08245        4.24820        4.37736        0.04313        \n",
      "3     1.03000   2.12558        4.37869        4.51228        0.04445        \n",
      "4     1.04000   2.17003        4.51367        4.65185        0.04583        \n",
      "5     1.05000   2.21586        4.65330        4.79627        0.04725        \n",
      "6     1.06000   2.26311        4.79779        4.94572        0.04872        \n",
      "7     1.07000   2.31182        4.94730        5.10040        0.05024        \n",
      "8     1.08000   2.36206        5.10206        5.26052        0.05181        \n",
      "9     1.09000   2.41388        5.26225        5.42630        0.05344        \n"
     ]
    },
    {
     "data": {
      "image/png": "[encoded data removed]",
      "text/plain": [
       "<Figure size 1000x500 with 1 Axes>"
      ]
     },
     "metadata": {},
     "output_type": "display_data"
    }
   ],
   "source": [
    "# Definição da função diferencial\n",
    "f = lambda x, y: 2*x*y\n",
    "\n",
    "# Condições iniciais\n",
    "x0 = 1\n",
    "y0 = 2\n",
    "h = 0.01\n",
    "n = 10\n",
    "\n",
    "runge_kutta_2_ordem(f, x0, y0, h, n, metodo=\"heun\")\n"
   ]
  }
 ],
 "metadata": {
  "kernelspec": {
   "display_name": "Python 3",
   "language": "python",
   "name": "python3"
  },
  "language_info": {
   "codemirror_mode": {
    "name": "ipython",
    "version": 3
   },
   "file_extension": ".py",
   "mimetype": "text/x-python",
   "name": "python",
   "nbconvert_exporter": "python",
   "pygments_lexer": "ipython3",
   "version": "3.11.4"
  },
  "orig_nbformat": 4
 },
 "nbformat": 4,
 "nbformat_minor": 2
}

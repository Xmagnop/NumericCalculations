{
 "cells": [
  {
   "attachments": {},
   "cell_type": "markdown",
   "metadata": {},
   "source": [
    "## Método de Runge-Kutta de 2ª Ordem (RK2)\n",
    "\n",
    "O método de Runge-Kutta de 2ª ordem é uma técnica numérica para resolver equações diferenciais ordinárias (EDOs) da forma:\n",
    "\n",
    "\\[\n",
    "y' = f(x, y), \\quad y(x_0) = y_0\n",
    "\\]\n",
    "\n",
    "O procedimento consiste nos seguintes passos:\n",
    "\n",
    "1. Calcular:\n",
    "   \\[\n",
    "   k_1 = h \\cdot f(x_n, y_n)\n",
    "   \\]\n",
    "   \\[\n",
    "   k_2 = h \\cdot f(x_n + h, y_n + k_1)\n",
    "   \\]\n",
    "\n",
    "2. Atualizar:\n",
    "   \\[\n",
    "   y_{n+1} = y_n + \\frac{1}{2}(k_1 + k_2)\n",
    "   \\]\n",
    "\n",
    "Esse método é mais preciso que o método de Euler e possui erro local de ordem \\( O(h^3) \\) e erro global de ordem \\( O(h^2) \\).\n"
   ]
  },
  {
   "cell_type": "code",
   "execution_count": 1,
   "metadata": {},
   "outputs": [],
   "source": [
    "import math"
   ]
  },
  {
   "cell_type": "code",
   "execution_count": 8,
   "metadata": {},
   "outputs": [],
   "source": [
    "def runge_kutta_2(f, x0, y0, h, n):\n",
    "    print(f\"{'ITER.':<6} {'x0':<10} {'y0':<15} {'f(x0,y0)':<15} {'|yn - yn-1|':<15}\")\n",
    "    print(\"-\" * 61)\n",
    "\n",
    "    x = x0\n",
    "    y = y0\n",
    "    print(f\"{0:<6} {x:<10.4f} {y:<15.4f} {f(x, y):<15.4f} {'-':<15}\")\n",
    "\n",
    "    for i in range(1, n + 1):\n",
    "        k1 = h * f(x, y)\n",
    "        k2 = h * f(x + h, y + k1)\n",
    "        y_next = y + 0.5 * (k1 + k2)\n",
    "        erro = abs(y_next - y)\n",
    "        x += h\n",
    "        print(f\"{i:<6} {x:<10.4f} {y:<15.4f} {f(x, y):<15.4f} {erro:<15.4f}\")\n",
    "        y = y_next\n"
   ]
  },
  {
   "cell_type": "code",
   "execution_count": 9,
   "metadata": {},
   "outputs": [
    {
     "name": "stdout",
     "output_type": "stream",
     "text": [
      "ITER.  x0         y0              f(x0,y0)        |yn - yn-1|    \n",
      "-------------------------------------------------------------\n",
      "0      0.0000     1.0000          0.0000          -              \n",
      "1      0.0200     1.0000          0.0200          0.0002         \n",
      "2      0.0400     1.0002          0.0401          0.0006         \n",
      "3      0.0600     1.0008          0.0603          0.0010         \n",
      "4      0.0800     1.0018          0.0807          0.0014         \n",
      "5      0.1000     1.0032          0.1013          0.0018         \n",
      "6      0.1200     1.0050          0.1223          0.0022         \n",
      "7      0.1400     1.0073          0.1438          0.0027         \n",
      "8      0.1600     1.0099          0.1657          0.0031         \n",
      "9      0.1800     1.0130          0.1882          0.0035         \n",
      "10     0.2000     1.0166          0.2113          0.0040         \n"
     ]
    }
   ],
   "source": [
    "# Definição da função diferencial\n",
    "f = lambda x, y: x**3 + x * y\n",
    "\n",
    "# Condições iniciais\n",
    "x0 = 0\n",
    "y0 = 1\n",
    "h = 0.02\n",
    "n = 10\n",
    "\n",
    "# Executa o método\n",
    "runge_kutta_2(f, x0, y0, h, n)\n"
   ]
  }
 ],
 "metadata": {
  "kernelspec": {
   "display_name": "Python 3",
   "language": "python",
   "name": "python3"
  },
  "language_info": {
   "codemirror_mode": {
    "name": "ipython",
    "version": 3
   },
   "file_extension": ".py",
   "mimetype": "text/x-python",
   "name": "python",
   "nbconvert_exporter": "python",
   "pygments_lexer": "ipython3",
   "version": "3.11.4"
  },
  "orig_nbformat": 4
 },
 "nbformat": 4,
 "nbformat_minor": 2
}

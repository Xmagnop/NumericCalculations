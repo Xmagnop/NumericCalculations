{
 "cells": [
  {
   "attachments": {},
   "cell_type": "markdown",
   "metadata": {},
   "source": [
    "## Newton para Sistemas não Lineares"
   ]
  },
  {
   "attachments": {},
   "cell_type": "markdown",
   "metadata": {},
   "source": [
    "O método de Newton para sistemas não lineares busca encontrar a solução de um sistema f(x) = 0 utilizando aproximações sucessivas e a inversa do Jacobiano.\n"
   ]
  },
  {
   "cell_type": "code",
   "execution_count": 1,
   "metadata": {},
   "outputs": [],
   "source": [
    "import numpy as np\n",
    "import sympy as sp\n",
    "from tabulate import tabulate"
   ]
  },
  {
   "cell_type": "code",
   "execution_count": 7,
   "metadata": {},
   "outputs": [],
   "source": [
    "def newton_sistemas(funcs, vars, x0, tol, max_iter=100):\n",
    "    \"\"\"\n",
    "    Resolve sistemas de equações não lineares pelo método de Newton.\n",
    "\n",
    "    Parâmetros:\n",
    "    funcs -- Lista de funções do sistema (expressões simbólicas)\n",
    "    vars -- Lista de variáveis\n",
    "    x0 -- Aproximação inicial (array)\n",
    "    tol -- Erro de tolerância\n",
    "    max_iter -- Número máximo de iterações\n",
    "\n",
    "    Retorna:\n",
    "    Solução aproximada e tabela com as iterações\n",
    "    \"\"\"\n",
    "    J = sp.Matrix([[sp.diff(f, var) for var in vars] for f in funcs])  # Jacobiano\n",
    "    \n",
    "    f_lambdify = sp.lambdify(vars, funcs, 'numpy')\n",
    "    J_lambdify = sp.lambdify(vars, J, 'numpy')\n",
    "\n",
    "    x = np.array(x0, dtype=float)\n",
    "    tabela = []\n",
    "\n",
    "    for iter in range(max_iter):\n",
    "        F_val = np.array(f_lambdify(*x), dtype=float).flatten()\n",
    "        J_val = np.array(J_lambdify(*x), dtype=float)\n",
    "\n",
    "        if np.linalg.cond(J_val) > 1e12:  # Verifica se o Jacobiano está próximo da singularidade\n",
    "            print(\"Jacobiano mal condicionado! Pode não haver convergência.\")\n",
    "            return None, tabela\n",
    "\n",
    "        try:\n",
    "            delta_x = np.linalg.solve(J_val, -F_val)  # Resolve o sistema J * delta_x = -F\n",
    "        except np.linalg.LinAlgError:\n",
    "            print(\"Erro: Jacobiano singular ou indefinido.\")\n",
    "            return None, tabela\n",
    "\n",
    "        x_new = x + delta_x\n",
    "\n",
    "        erro_absoluto = np.linalg.norm(delta_x)\n",
    "        erro_relativo = erro_absoluto / (np.linalg.norm(x_new) if np.linalg.norm(x_new) != 0 else 1)\n",
    "\n",
    "        tabela.append([iter, *x, erro_absoluto, erro_relativo])\n",
    "\n",
    "        if erro_absoluto <= tol:\n",
    "            return np.round(x_new, 4), tabela\n",
    "        \n",
    "        x = x_new"
   ]
  },
  {
   "cell_type": "code",
   "execution_count": 8,
   "metadata": {},
   "outputs": [
    {
     "ename": "TypeError",
     "evalue": "cannot unpack non-iterable NoneType object",
     "output_type": "error",
     "traceback": [
      "\u001b[31m---------------------------------------------------------------------------\u001b[39m",
      "\u001b[31mTypeError\u001b[39m                                 Traceback (most recent call last)",
      "\u001b[36mCell\u001b[39m\u001b[36m \u001b[39m\u001b[32mIn[8]\u001b[39m\u001b[32m, line 13\u001b[39m\n\u001b[32m     10\u001b[39m x0 = [\u001b[38;5;28mfloat\u001b[39m(\u001b[38;5;28minput\u001b[39m(\u001b[33mf\u001b[39m\u001b[33m\"\u001b[39m\u001b[33mDigite x\u001b[39m\u001b[38;5;132;01m{\u001b[39;00mi+\u001b[32m1\u001b[39m\u001b[38;5;132;01m}\u001b[39;00m\u001b[33m inicial: \u001b[39m\u001b[33m\"\u001b[39m)) \u001b[38;5;28;01mfor\u001b[39;00m i \u001b[38;5;129;01min\u001b[39;00m \u001b[38;5;28mrange\u001b[39m(n)]\n\u001b[32m     11\u001b[39m tol = \u001b[38;5;28mfloat\u001b[39m(\u001b[38;5;28minput\u001b[39m(\u001b[33m\"\u001b[39m\u001b[33mDigite o erro de tolerância: \u001b[39m\u001b[33m\"\u001b[39m))\n\u001b[32m---> \u001b[39m\u001b[32m13\u001b[39m solucao, tabela = newton_sistemas(funcs, \u001b[38;5;28mvars\u001b[39m, x0, tol)\n\u001b[32m     15\u001b[39m \u001b[38;5;66;03m# Exibindo tabela de resultados\u001b[39;00m\n\u001b[32m     16\u001b[39m headers = [\u001b[33m\"\u001b[39m\u001b[33mIteração\u001b[39m\u001b[33m\"\u001b[39m] + [\u001b[33mf\u001b[39m\u001b[33m\"\u001b[39m\u001b[33mx\u001b[39m\u001b[38;5;132;01m{\u001b[39;00mi+\u001b[32m1\u001b[39m\u001b[38;5;132;01m}\u001b[39;00m\u001b[33m\"\u001b[39m \u001b[38;5;28;01mfor\u001b[39;00m i \u001b[38;5;129;01min\u001b[39;00m \u001b[38;5;28mrange\u001b[39m(n)] + [\u001b[33m\"\u001b[39m\u001b[33mErro Absoluto\u001b[39m\u001b[33m\"\u001b[39m, \u001b[33m\"\u001b[39m\u001b[33mErro Relativo\u001b[39m\u001b[33m\"\u001b[39m]\n",
      "\u001b[31mTypeError\u001b[39m: cannot unpack non-iterable NoneType object"
     ]
    }
   ],
   "source": [
    "# Entrada do usuário\n",
    "n = int(input(\"Digite o número de equações/variáveis: \"))\n",
    "vars = sp.symbols(f'x1:{n+1}')\n",
    "funcs = [sp.sympify(\"-10*x1+(25*cos(x1))+10*x2-10*x1\"), sp.sympify(\"-10*x2+10*x1+(15*cos(x2))+10*x3-10*x2\"), sp.sympify(\"10*x3-10*x2-(5*cos(x3))\")]\n",
    "\n",
    "# print(\"Digite as funções do sistema:\")\n",
    "# for i in range(n):\n",
    "    # funcs.append(sp.sympify(input(f\"f{i+1}(x1, ..., xn) = \")))\n",
    "\n",
    "x0 = [float(input(f\"Digite x{i+1} inicial: \")) for i in range(n)]\n",
    "tol = float(input(\"Digite o erro de tolerância: \"))\n",
    "\n",
    "resultado = newton_sistemas(funcs, vars, x0, tol)\n",
    "\n",
    "if resultado is None:\n",
    "    print(\"O método não convergiu ou houve um erro numérico.\")\n",
    "else:\n",
    "    solucao, tabela = resultado\n",
    "    \n",
    "    # Exibindo tabela de resultados\n",
    "    headers = [\"Iteração\"] + [f\"x{i+1}\" for i in range(n)] + [\"Erro Absoluto\", \"Erro Relativo\"]\n",
    "    print(tabulate(tabela, headers=headers, floatfmt=\".4f\"))\n",
    "    \n",
    "    print(f\"Solução aproximada: {solucao}\")"
   ]
  }
 ],
 "metadata": {
  "kernelspec": {
   "display_name": "Python 3",
   "language": "python",
   "name": "python3"
  },
  "language_info": {
   "codemirror_mode": {
    "name": "ipython",
    "version": 3
   },
   "file_extension": ".py",
   "mimetype": "text/x-python",
   "name": "python",
   "nbconvert_exporter": "python",
   "pygments_lexer": "ipython3",
   "version": "3.11.4"
  },
  "orig_nbformat": 4
 },
 "nbformat": 4,
 "nbformat_minor": 2
}

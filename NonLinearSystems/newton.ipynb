{
 "cells": [
  {
   "attachments": {},
   "cell_type": "markdown",
   "metadata": {},
   "source": [
    "## Newton para Sistemas não Lineares"
   ]
  },
  {
   "attachments": {},
   "cell_type": "markdown",
   "metadata": {},
   "source": [
    "O método de Newton para sistemas não lineares busca encontrar a solução de um sistema f(x) = 0 utilizando aproximações sucessivas e a inversa do Jacobiano.\n"
   ]
  },
  {
   "cell_type": "code",
   "execution_count": 3,
   "metadata": {},
   "outputs": [],
   "source": [
    "import numpy as np\n",
    "import sympy as sp\n",
    "from tabulate import tabulate"
   ]
  },
  {
   "cell_type": "code",
   "execution_count": 5,
   "metadata": {},
   "outputs": [],
   "source": [
    "def newton_sistemas(funcs, vars, x0, tol):\n",
    "    \"\"\"\n",
    "    Resolve sistemas de equações não lineares pelo método de Newton.\n",
    "    \n",
    "    Parâmetros:\n",
    "    funcs -- Lista de funções do sistema\n",
    "    vars -- Lista de variáveis\n",
    "    x0 -- Aproximação inicial (array)\n",
    "    tol -- Erro de tolerância\n",
    "    \n",
    "    Retorna:\n",
    "    Solução aproximada e tabela com as iterações\n",
    "    \"\"\"\n",
    "    # Converte as funções simbólicas para funções numéricas\n",
    "    J = sp.Matrix([[sp.diff(f, var) for var in vars] for f in funcs])  # Jacobiano\n",
    "    J_inv = J.inv()  # Inversa do Jacobiano\n",
    "    \n",
    "    f_lambdify = sp.lambdify(vars, funcs, 'numpy')\n",
    "    J_inv_lambdify = sp.lambdify(vars, J_inv, 'numpy')\n",
    "    \n",
    "    x = np.array(x0, dtype=float)\n",
    "    tabela = []\n",
    "    iter = 0\n",
    "    \n",
    "    while iter <= 10:\n",
    "        F_val = np.array(f_lambdify(*x), dtype=float).flatten()\n",
    "        J_inv_val = np.array(J_inv_lambdify(*x), dtype=float)\n",
    "        \n",
    "        delta_x = -J_inv_val @ F_val\n",
    "        x_new = x + delta_x\n",
    "        \n",
    "        erro_absoluto = round(np.linalg.norm(delta_x), 4)\n",
    "        erro_relativo = round(erro_absoluto / (np.linalg.norm(x_new) if np.linalg.norm(x_new) != 0 else 1), 4)\n",
    "        \n",
    "        tabela.append([iter, *x, erro_absoluto, erro_relativo])\n",
    "        iter += 1\n",
    "        \n",
    "        # if erro_absoluto <= tol:\n",
    "            # return np.round(x_new, 4), tabela\n",
    "        \n",
    "        x = x_new\n",
    "    \n",
    "    return np.round(x, 4), tabela"
   ]
  },
  {
   "cell_type": "code",
   "execution_count": 11,
   "metadata": {},
   "outputs": [
    {
     "name": "stdout",
     "output_type": "stream",
     "text": [
      "  Iteração      x1      x2      x3    Erro Absoluto    Erro Relativo\n",
      "----------  ------  ------  ------  ---------------  ---------------\n",
      "         0  1.0000  1.0000  1.0000           0.7286           0.2997\n",
      "         1  1.1998  1.4692  1.5204           0.0546           0.0230\n",
      "         2  1.1863  1.4349  1.4802           0.0001           0.0000\n",
      "         3  1.1863  1.4349  1.4801           0.0000           0.0000\n",
      "         4  1.1863  1.4349  1.4801           0.0000           0.0000\n",
      "         5  1.1863  1.4349  1.4801           0.0000           0.0000\n",
      "         6  1.1863  1.4349  1.4801           0.0000           0.0000\n",
      "         7  1.1863  1.4349  1.4801           0.0000           0.0000\n",
      "         8  1.1863  1.4349  1.4801           0.0000           0.0000\n",
      "         9  1.1863  1.4349  1.4801           0.0000           0.0000\n",
      "        10  1.1863  1.4349  1.4801           0.0000           0.0000\n",
      "Solução aproximada: [1.1863 1.4349 1.4801]\n"
     ]
    }
   ],
   "source": [
    "# Entrada do usuário\n",
    "n = int(input(\"Digite o número de equações/variáveis: \"))\n",
    "vars = sp.symbols(f'x1:{n+1}')\n",
    "funcs = [sp.sympify(\"-10*x1+(25*cos(x1))+10*x2-10*x1\"), sp.sympify(\"-10*x2+10*x1+(15*cos(x2))+10*x3-10*x2\"), sp.sympify(\"10*x3-10*x2-(5*cos(x3))\")]\n",
    "\n",
    "# print(\"Digite as funções do sistema:\")\n",
    "# for i in range(n):\n",
    "    # funcs.append(sp.sympify(input(f\"f{i+1}(x1, ..., xn) = \")))\n",
    "\n",
    "x0 = [float(input(f\"Digite x{i+1} inicial: \")) for i in range(n)]\n",
    "tol = float(input(\"Digite o erro de tolerância: \"))\n",
    "\n",
    "solucao, tabela = newton_sistemas(funcs, vars, x0, tol)\n",
    "\n",
    "# Exibindo tabela de resultados\n",
    "headers = [\"Iteração\"] + [f\"x{i+1}\" for i in range(n)] + [\"Erro Absoluto\", \"Erro Relativo\"]\n",
    "print(tabulate(tabela, headers=headers, floatfmt=\".4f\"))\n",
    "print(f\"Solução aproximada: {solucao}\")"
   ]
  }
 ],
 "metadata": {
  "kernelspec": {
   "display_name": "Python 3",
   "language": "python",
   "name": "python3"
  },
  "language_info": {
   "codemirror_mode": {
    "name": "ipython",
    "version": 3
   },
   "file_extension": ".py",
   "mimetype": "text/x-python",
   "name": "python",
   "nbconvert_exporter": "python",
   "pygments_lexer": "ipython3",
   "version": "3.11.4"
  },
  "orig_nbformat": 4
 },
 "nbformat": 4,
 "nbformat_minor": 2
}

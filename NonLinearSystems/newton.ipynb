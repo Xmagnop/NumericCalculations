{
 "cells": [
  {
   "attachments": {},
   "cell_type": "markdown",
   "metadata": {},
   "source": [
    "## Newton para Sistemas não Lineares"
   ]
  },
  {
   "attachments": {},
   "cell_type": "markdown",
   "metadata": {},
   "source": [
    "O método de Newton para sistemas não lineares busca encontrar a solução de um sistema f(x) = 0 utilizando aproximações sucessivas e a inversa do Jacobiano.\n"
   ]
  },
  {
   "cell_type": "code",
   "execution_count": 1,
   "metadata": {},
   "outputs": [],
   "source": [
    "import numpy as np\n",
    "import sympy as sp\n",
    "from tabulate import tabulate"
   ]
  },
  {
   "cell_type": "code",
   "execution_count": 15,
   "metadata": {},
   "outputs": [],
   "source": [
    "def newton_sistemas(funcs, vars, x0, tol):\n",
    "    \"\"\"\n",
    "    Resolve sistemas de equações não lineares pelo método de Newton.\n",
    "    \n",
    "    Parâmetros:\n",
    "    funcs -- Lista de funções do sistema\n",
    "    vars -- Lista de variáveis\n",
    "    x0 -- Aproximação inicial (array)\n",
    "    tol -- Erro de tolerância\n",
    "    \n",
    "    Retorna:\n",
    "    Solução aproximada e tabela com as iterações\n",
    "    \"\"\"\n",
    "    # Converte as funções simbólicas para funções numéricas\n",
    "    J = sp.Matrix([[sp.diff(f, var) for var in vars] for f in funcs])  # Jacobiano\n",
    "    J_inv = J.inv()  # Inversa do Jacobiano\n",
    "    \n",
    "    f_lambdify = sp.lambdify(vars, funcs, 'numpy')\n",
    "    J_inv_lambdify = sp.lambdify(vars, J_inv, 'numpy')\n",
    "    \n",
    "    x = np.array(x0, dtype=float)\n",
    "    tabela = []\n",
    "    \n",
    "    while True:\n",
    "        F_val = np.array(f_lambdify(*x), dtype=float).flatten()\n",
    "        J_inv_val = np.array(J_inv_lambdify(*x), dtype=float)\n",
    "        \n",
    "        delta_x = -J_inv_val @ F_val\n",
    "        x_new = x + delta_x\n",
    "        \n",
    "        erro_absoluto = round(np.linalg.norm(delta_x), 4)\n",
    "        erro_relativo = round(erro_absoluto / (np.linalg.norm(x_new) if np.linalg.norm(x_new) != 0 else 1), 4)\n",
    "        \n",
    "        tabela.append([*x, erro_absoluto, erro_relativo])\n",
    "        \n",
    "        if erro_absoluto <= tol:\n",
    "            return np.round(x_new, 4), tabela\n",
    "        \n",
    "        x = x_new"
   ]
  },
  {
   "cell_type": "code",
   "execution_count": 19,
   "metadata": {},
   "outputs": [
    {
     "name": "stdout",
     "output_type": "stream",
     "text": [
      "    x1      x2      x3    Erro Absoluto    Erro Relativo\n",
      "------  ------  ------  ---------------  ---------------\n",
      "1.0000  1.0000  1.0000           0.5933           0.2674\n",
      "0.9597  1.3452  1.4809           0.0425           0.0195\n",
      "0.9513  1.3219  1.4462           0.0001           0.0000\n",
      "Solução aproximada: [0.9513 1.3219 1.4462]\n"
     ]
    }
   ],
   "source": [
    "# Entrada do usuário\n",
    "n = int(input(\"Digite o número de equações/variáveis: \"))\n",
    "vars = sp.symbols(f'x1:{n+1}')\n",
    "funcs = []\n",
    "\n",
    "# print(\"Digite as funções do sistema:\")\n",
    "for i in range(n):\n",
    "    funcs.append(sp.sympify(input(f\"f{i+1}(x1, ..., xn) = \")))\n",
    "\n",
    "x0 = [float(input(f\"Digite x{i+1} inicial: \")) for i in range(n)]\n",
    "tol = float(input(\"Digite o erro de tolerância: \"))\n",
    "\n",
    "solucao, tabela = newton_sistemas(funcs, vars, x0, tol)\n",
    "\n",
    "# Exibindo tabela de resultados\n",
    "headers = [f\"x{i+1}\" for i in range(n)] + [\"Erro Absoluto\", \"Erro Relativo\"]\n",
    "print(tabulate(tabela, headers=headers, floatfmt=\".4f\"))\n",
    "print(f\"Solução aproximada: {solucao}\")"
   ]
  }
 ],
 "metadata": {
  "kernelspec": {
   "display_name": "Python 3",
   "language": "python",
   "name": "python3"
  },
  "language_info": {
   "codemirror_mode": {
    "name": "ipython",
    "version": 3
   },
   "file_extension": ".py",
   "mimetype": "text/x-python",
   "name": "python",
   "nbconvert_exporter": "python",
   "pygments_lexer": "ipython3",
   "version": "3.11.4"
  },
  "orig_nbformat": 4
 },
 "nbformat": 4,
 "nbformat_minor": 2
}

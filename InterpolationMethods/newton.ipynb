{
 "cells": [
  {
   "cell_type": "code",
   "execution_count": null,
   "metadata": {},
   "outputs": [],
   "source": [
    "import numpy as np\n",
    "import sympy as sp\n",
    "import matplotlib.pyplot as plt\n",
    "from sympy import symbols, lambdify, diff, Abs, Max, factorial"
   ]
  },
  {
   "cell_type": "code",
   "execution_count": null,
   "metadata": {},
   "outputs": [],
   "source": [
    "def interpolacao_newton(x_vals, y_vals):\n",
    "    \"\"\"\n",
    "    Realiza interpolação por diferenças divididas de Newton.\n",
    "\n",
    "    Retorna:\n",
    "    - Polinômio interpolador (SymPy)\n",
    "    - Tabela de diferenças divididas\n",
    "    - Função lambda para avaliação numérica\n",
    "    \"\"\"\n",
    "    n = len(x_vals)\n",
    "    # Tabela de diferenças divididas (matriz triangular inferior)\n",
    "    dif_div = np.zeros((n, n))\n",
    "    dif_div[:, 0] = y_vals  # Primeira coluna são os y's\n",
    "\n",
    "    for j in range(1, n):  # Colunas (ordens)\n",
    "        for i in range(j, n):  # Linhas\n",
    "            dif_div[i, j] = (dif_div[i, j-1] - dif_div[i-1, j-1]) / (x_vals[i] - x_vals[i-j])\n",
    "\n",
    "    # Construção do polinômio\n",
    "    x = symbols('x')\n",
    "    P = dif_div[0, 0]  # Termo constante\n",
    "    produto = 1\n",
    "\n",
    "    for k in range(1, n):\n",
    "        produto *= (x - x_vals[k-1])\n",
    "        P += dif_div[k, k] * produto\n",
    "\n",
    "    P = sp.simplify(P)\n",
    "    f_newton = lambdify(x, P, 'numpy')\n",
    "\n",
    "    return P, dif_div, f_newton"
   ]
  },
  {
   "cell_type": "code",
   "execution_count": null,
   "metadata": {},
   "outputs": [],
   "source": [
    "def erro_interpolacao(f_expr, x_vals, x_avaliado):\n",
    "    \"\"\"\n",
    "    Calcula o limitante superior do erro de interpolação.\n",
    "    \"\"\"\n",
    "    x = symbols('x')\n",
    "    n = len(x_vals)\n",
    "\n",
    "    # Derivada de ordem n\n",
    "    derivada = f_expr\n",
    "    for _ in range(n):\n",
    "        derivada = diff(derivada, x)\n",
    "\n",
    "    # Estima o valor máximo da derivada no intervalo de interpolação\n",
    "    extremos = np.linspace(min(x_vals), max(x_vals), 100)\n",
    "    f_derivada = lambdify(x, Abs(derivada), 'numpy')\n",
    "    M = max(f_derivada(xi) for xi in extremos)\n",
    "\n",
    "    # Produto dos termos (x - xi)\n",
    "    produto = 1\n",
    "    for xi in x_vals:\n",
    "        produto *= (x_avaliado - xi)\n",
    "\n",
    "    erro = M * abs(produto) / factorial(n)\n",
    "    return erro"
   ]
  },
  {
   "cell_type": "code",
   "execution_count": null,
   "metadata": {},
   "outputs": [
    {
     "name": "stdout",
     "output_type": "stream",
     "text": [
      "Interpolação de Newton por diferenças divididas\n"
     ]
    },
    {
     "name": "stdout",
     "output_type": "stream",
     "text": [
      "Deseja fornecer os y diretamente ou uma função f(x)? (y/f):  f\n",
      "Digite o número de pontos (n):  5\n",
      "x0:  0.2\n",
      "x1:  0.4\n",
      "x2:  0.6\n",
      "x3:  0.8\n",
      "x4:  1\n",
      "Digite a função f(x):  exp(x)\n"
     ]
    },
    {
     "name": "stdout",
     "output_type": "stream",
     "text": [
      "\n",
      "Polinômio interpolador de Newton:\n",
      "                    4                      3                      2            ↪\n",
      "0.0764292819613579⋅x  + 0.123305229506078⋅x  + 0.524006483483076⋅x  + 0.994008 ↪\n",
      "\n",
      "↪                               \n",
      "↪ 829218592⋅x + 1.00053200428994\n",
      "\n",
      "Tabela de diferenças divididas:\n",
      "Ordem | Dif. 0 | Dif. 1 | Dif. 2 | Dif. 3 | Dif. 4\n",
      "--------------------------------------------------\n",
      "x0   | 1.2214 |    -    |    -    |    -    |    -   \n",
      "x1   | 1.4918 | 1.3521 |    -    |    -    |    -   \n",
      "x2   | 1.8221 | 1.6515 | 0.7484 |    -    |    -   \n",
      "x3   | 2.2255 | 2.0171 | 0.9141 | 0.2762 |    -   \n",
      "x4   | 2.7183 | 2.4637 | 1.1165 | 0.3373 | 0.0764\n"
     ]
    },
    {
     "name": "stdout",
     "output_type": "stream",
     "text": [
      "\n",
      "Digite um valor de x para estimar y (ou 'sair'):  0.23\n"
     ]
    },
    {
     "name": "stdout",
     "output_type": "stream",
     "text": [
      "Para x = 0.2300, y estimado = 1.2586\n"
     ]
    },
    {
     "ename": "AttributeError",
     "evalue": "module 'numpy' has no attribute 'math'",
     "output_type": "error",
     "traceback": [
      "\u001b[0;31m---------------------------------------------------------------------------\u001b[0m",
      "\u001b[0;31mAttributeError\u001b[0m                            Traceback (most recent call last)",
      "Cell \u001b[0;32mIn[12], line 54\u001b[0m\n\u001b[1;32m     52\u001b[0m     \u001b[38;5;66;03m# Cálculo do erro se a função original foi fornecida\u001b[39;00m\n\u001b[1;32m     53\u001b[0m     \u001b[38;5;28;01mif\u001b[39;00m f_original \u001b[38;5;129;01mis\u001b[39;00m \u001b[38;5;129;01mnot\u001b[39;00m \u001b[38;5;28;01mNone\u001b[39;00m:\n\u001b[0;32m---> 54\u001b[0m         erro \u001b[38;5;241m=\u001b[39m \u001b[43merro_interpolacao\u001b[49m\u001b[43m(\u001b[49m\u001b[43mf_original\u001b[49m\u001b[43m,\u001b[49m\u001b[43m \u001b[49m\u001b[43mx_vals\u001b[49m\u001b[43m,\u001b[49m\u001b[43m \u001b[49m\u001b[43mx_input\u001b[49m\u001b[43m)\u001b[49m\n\u001b[1;32m     55\u001b[0m         \u001b[38;5;28mprint\u001b[39m(\u001b[38;5;124mf\u001b[39m\u001b[38;5;124m\"\u001b[39m\u001b[38;5;124mLimitante superior do erro \u001b[39m\u001b[38;5;130;01m\\u2248\u001b[39;00m\u001b[38;5;124m \u001b[39m\u001b[38;5;132;01m{\u001b[39;00merro\u001b[38;5;132;01m:\u001b[39;00m\u001b[38;5;124m.6f\u001b[39m\u001b[38;5;132;01m}\u001b[39;00m\u001b[38;5;124m\"\u001b[39m)\n\u001b[1;32m     57\u001b[0m \u001b[38;5;28;01mexcept\u001b[39;00m \u001b[38;5;167;01mValueError\u001b[39;00m:\n",
      "Cell \u001b[0;32mIn[11], line 23\u001b[0m, in \u001b[0;36merro_interpolacao\u001b[0;34m(f_expr, x_vals, x_avaliado)\u001b[0m\n\u001b[1;32m     20\u001b[0m \u001b[38;5;28;01mfor\u001b[39;00m xi \u001b[38;5;129;01min\u001b[39;00m x_vals:\n\u001b[1;32m     21\u001b[0m     produto \u001b[38;5;241m*\u001b[39m\u001b[38;5;241m=\u001b[39m (x_avaliado \u001b[38;5;241m-\u001b[39m xi)\n\u001b[0;32m---> 23\u001b[0m erro \u001b[38;5;241m=\u001b[39m M \u001b[38;5;241m*\u001b[39m \u001b[38;5;28mabs\u001b[39m(produto) \u001b[38;5;241m/\u001b[39m \u001b[43mnp\u001b[49m\u001b[38;5;241;43m.\u001b[39;49m\u001b[43mmath\u001b[49m\u001b[38;5;241m.\u001b[39mfactorial(n)\n\u001b[1;32m     24\u001b[0m \u001b[38;5;28;01mreturn\u001b[39;00m erro\n",
      "File \u001b[0;32m~/.local/lib/python3.10/site-packages/numpy/__init__.py:414\u001b[0m, in \u001b[0;36m__getattr__\u001b[0;34m(attr)\u001b[0m\n\u001b[1;32m    411\u001b[0m     \u001b[38;5;28;01mimport\u001b[39;00m \u001b[38;5;21;01mnumpy\u001b[39;00m\u001b[38;5;21;01m.\u001b[39;00m\u001b[38;5;21;01mchar\u001b[39;00m \u001b[38;5;28;01mas\u001b[39;00m \u001b[38;5;21;01mchar\u001b[39;00m\n\u001b[1;32m    412\u001b[0m     \u001b[38;5;28;01mreturn\u001b[39;00m char\u001b[38;5;241m.\u001b[39mchararray\n\u001b[0;32m--> 414\u001b[0m \u001b[38;5;28;01mraise\u001b[39;00m \u001b[38;5;167;01mAttributeError\u001b[39;00m(\u001b[38;5;124m\"\u001b[39m\u001b[38;5;124mmodule \u001b[39m\u001b[38;5;132;01m{!r}\u001b[39;00m\u001b[38;5;124m has no attribute \u001b[39m\u001b[38;5;124m\"\u001b[39m\n\u001b[1;32m    415\u001b[0m                      \u001b[38;5;124m\"\u001b[39m\u001b[38;5;132;01m{!r}\u001b[39;00m\u001b[38;5;124m\"\u001b[39m\u001b[38;5;241m.\u001b[39mformat(\u001b[38;5;18m__name__\u001b[39m, attr))\n",
      "\u001b[0;31mAttributeError\u001b[0m: module 'numpy' has no attribute 'math'"
     ]
    },
    {
     "name": "stdout",
     "output_type": "stream",
     "text": [
      "\n",
      "Digite um valor de x para estimar y (ou 'sair'):  0.23\n"
     ]
    },
    {
     "name": "stdout",
     "output_type": "stream",
     "text": [
      "Para x = 0.2300, y estimado = 1.2586\n"
     ]
    },
    {
     "name": "stdout",
     "output_type": "stream",
     "text": [
      "\n",
      "Digite um valor de x para estimar y (ou 'sair'):  sair\n"
     ]
    },
    {
     "data": {
      "image/png": "[encoded data removed]",
      "text/plain": [
       "<Figure size 1000x600 with 1 Axes>"
      ]
     },
     "metadata": {},
     "output_type": "display_data"
    },
    {
     "name": "stdout",
     "output_type": "stream",
     "text": [
      "Digite o número de pontos (n):  5\n",
      "x0:  0.2\n"
     ]
    }
   ],
   "source": [
    "# Entrada de dados\n",
    "print(\"Interpolação de Newton por diferenças divididas\")\n",
    "\n",
    "opcao = input(\"Deseja fornecer os y diretamente ou uma função f(x)? (y/f): \").lower()\n",
    "x_vals = []\n",
    "y_vals = []\n",
    "\n",
    "n = int(input(\"Digite o número de pontos (n): \"))\n",
    "\n",
    "for i in range(n):\n",
    "    x = float(input(f\"x{i}: \"))\n",
    "    x_vals.append(x)\n",
    "\n",
    "if opcao == 'y':\n",
    "    for i in range(n):\n",
    "        y = float(input(f\"y{i}: \"))\n",
    "        y_vals.append(y)\n",
    "    f_original = None\n",
    "else:\n",
    "    func_str = input(\"Digite a função f(x): \")\n",
    "    x = symbols('x')\n",
    "    f_expr = sp.sympify(func_str)\n",
    "    f_original = f_expr\n",
    "    f_func = lambdify(x, f_expr, 'numpy')\n",
    "    y_vals = [f_func(xi) for xi in x_vals]\n",
    "\n",
    "P, tabela_dif_div, f_newton = interpolacao_newton(x_vals, y_vals)\n",
    "\n",
    "# Exibição do polinômio\n",
    "print(\"\\nPolinômio interpolador de Newton:\")\n",
    "print(sp.pretty(P, use_unicode=True))\n",
    "\n",
    "# Tabela de diferenças divididas\n",
    "print(\"\\nTabela de diferenças divididas:\")\n",
    "header = \"Ordem | \" + \" | \".join(f\"Dif. {i}\" for i in range(n))\n",
    "print(header)\n",
    "print(\"-\" * len(header))\n",
    "for i in range(n):\n",
    "    linha = f\"x{i}   | \" + \" | \".join(f\"{tabela_dif_div[i, j]:.4f}\" if j <= i else \"   -   \" for j in range(n))\n",
    "    print(linha)\n",
    "\n",
    "# Estimativa para um x qualquer\n",
    "while True:\n",
    "    entrada = input(\"\\nDigite um valor de x para estimar y (ou 'sair'): \")\n",
    "    if entrada.lower() == 'sair':\n",
    "        break\n",
    "    try:\n",
    "        x_input = float(entrada)\n",
    "        y_estimado = f_newton(x_input)\n",
    "        print(f\"Para x = {x_input:.4f}, y estimado = {y_estimado:.4f}\")\n",
    "\n",
    "        # Cálculo do erro se a função original foi fornecida\n",
    "        if f_original is not None:\n",
    "            erro = erro_interpolacao(f_original, x_vals, x_input)\n",
    "            print(f\"Limitante superior do erro ≈ {erro:.6f}\")\n",
    "\n",
    "    except ValueError:\n",
    "        print(\"Entrada inválida. Digite um número ou 'sair'.\")\n",
    "\n",
    "# Gráfico\n",
    "x_plot = np.linspace(min(x_vals) - 1, max(x_vals) + 1, 500)\n",
    "y_plot = f_newton(x_plot)\n",
    "\n",
    "plt.figure(figsize=(10, 6))\n",
    "plt.plot(x_plot, y_plot, label='Polinômio de Newton')\n",
    "plt.scatter(x_vals, y_vals, color='red', label='Pontos dados')\n",
    "plt.title('Interpolação por Diferenças Divididas de Newton')\n",
    "plt.xlabel('x')\n",
    "plt.ylabel('y')\n",
    "plt.grid(True)\n",
    "plt.legend()\n",
    "plt.show()"
   ]
  },
  {
   "cell_type": "code",
   "execution_count": null,
   "metadata": {},
   "outputs": [],
   "source": []
  }
 ],
 "metadata": {
  "kernelspec": {
   "display_name": "Python 3 (ipykernel)",
   "language": "python",
   "name": "python3"
  },
  "language_info": {
   "codemirror_mode": {
    "name": "ipython",
    "version": 3
   },
   "file_extension": ".py",
   "mimetype": "text/x-python",
   "name": "python",
   "nbconvert_exporter": "python",
   "pygments_lexer": "ipython3",
   "version": "3.10.12"
  }
 },
 "nbformat": 4,
 "nbformat_minor": 4
}

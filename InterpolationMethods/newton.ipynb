{
 "cells": [
  {
   "cell_type": "code",
   "execution_count": 1,
   "metadata": {},
   "outputs": [],
   "source": [
    "import numpy as np\n",
    "import sympy as sp\n",
    "import matplotlib.pyplot as plt\n",
    "from sympy import symbols, lambdify"
   ]
  },
  {
   "cell_type": "code",
   "execution_count": 2,
   "metadata": {},
   "outputs": [],
   "source": [
    "def interpolacao_newton(x_vals, y_vals):\n",
    "    \"\"\"\n",
    "    Realiza interpolação por diferenças divididas de Newton.\n",
    "    \n",
    "    Retorna:\n",
    "    - Polinômio interpolador (SymPy)\n",
    "    - Tabela de diferenças divididas\n",
    "    - Função lambda para avaliação numérica\n",
    "    \"\"\"\n",
    "    n = len(x_vals)\n",
    "    # Tabela de diferenças divididas (matriz triangular inferior)\n",
    "    dif_div = np.zeros((n, n))\n",
    "    dif_div[:, 0] = y_vals  # Primeira coluna são os y's\n",
    "    \n",
    "    for j in range(1, n):  # Colunas (ordens)\n",
    "        for i in range(j, n):  # Linhas\n",
    "            dif_div[i, j] = (dif_div[i, j-1] - dif_div[i-1, j-1]) / (x_vals[i] - x_vals[i-j])\n",
    "    \n",
    "    # Construção do polinômio\n",
    "    x = symbols('x')\n",
    "    P = dif_div[0, 0]  # Termo constante\n",
    "    produto = 1\n",
    "    \n",
    "    for k in range(1, n):\n",
    "        produto *= (x - x_vals[k-1])\n",
    "        P += dif_div[k, k] * produto\n",
    "    \n",
    "    P = sp.simplify(P)\n",
    "    f_newton = lambdify(x, P, 'numpy')\n",
    "    \n",
    "    return P, dif_div, f_newton"
   ]
  },
  {
   "cell_type": "code",
   "execution_count": 3,
   "metadata": {},
   "outputs": [
    {
     "name": "stdout",
     "output_type": "stream",
     "text": [
      "Interpolação de Newton por diferenças divididas\n"
     ]
    },
    {
     "ename": "ValueError",
     "evalue": "invalid literal for int() with base 10: ''",
     "output_type": "error",
     "traceback": [
      "\u001b[31m---------------------------------------------------------------------------\u001b[39m",
      "\u001b[31mValueError\u001b[39m                                Traceback (most recent call last)",
      "\u001b[36mCell\u001b[39m\u001b[36m \u001b[39m\u001b[32mIn[3]\u001b[39m\u001b[32m, line 3\u001b[39m\n\u001b[32m      1\u001b[39m \u001b[38;5;66;03m# Entrada de dados\u001b[39;00m\n\u001b[32m      2\u001b[39m \u001b[38;5;28mprint\u001b[39m(\u001b[33m\"\u001b[39m\u001b[33mInterpolação de Newton por diferenças divididas\u001b[39m\u001b[33m\"\u001b[39m)\n\u001b[32m----> \u001b[39m\u001b[32m3\u001b[39m n = \u001b[38;5;28;43mint\u001b[39;49m\u001b[43m(\u001b[49m\u001b[38;5;28;43minput\u001b[39;49m\u001b[43m(\u001b[49m\u001b[33;43m\"\u001b[39;49m\u001b[33;43mDigite o número de pontos (n): \u001b[39;49m\u001b[33;43m\"\u001b[39;49m\u001b[43m)\u001b[49m\u001b[43m)\u001b[49m\n\u001b[32m      4\u001b[39m x_vals = []\n\u001b[32m      5\u001b[39m y_vals = []\n",
      "\u001b[31mValueError\u001b[39m: invalid literal for int() with base 10: ''"
     ]
    }
   ],
   "source": [
    "# Entrada de dados\n",
    "print(\"Interpolação de Newton por diferenças divididas\")\n",
    "n = int(input(\"Digite o número de pontos (n): \"))\n",
    "x_vals = []\n",
    "y_vals = []\n",
    "\n",
    "for i in range(n):\n",
    "    x = float(input(f\"x{i}: \"))\n",
    "    y = float(input(f\"y{i}: \"))\n",
    "    x_vals.append(x)\n",
    "    y_vals.append(y)\n",
    "\n",
    "P, tabela_dif_div, f_newton = interpolacao_newton(x_vals, y_vals)\n",
    "\n",
    "# Exibição do polinômio\n",
    "print(\"\\nPolinômio interpolador de Newton:\")\n",
    "print(sp.pretty(P, use_unicode=True))\n",
    "\n",
    "# Tabela de diferenças divididas\n",
    "print(\"\\nTabela de diferenças divididas:\")\n",
    "header = \"Ordem | \" + \" | \".join(f\"Dif. {i}\" for i in range(n))\n",
    "print(header)\n",
    "print(\"-\" * len(header))\n",
    "for i in range(n):\n",
    "    linha = f\"x{i}   | \" + \" | \".join(f\"{tabela_dif_div[i, j]:.4f}\" if j <= i else \"   -   \" for j in range(n))\n",
    "    print(linha)\n",
    "\n",
    "# Estimativa para um x qualquer\n",
    "while True:\n",
    "    entrada = input(\"\\nDigite um valor de x para estimar y (ou 'sair'): \")\n",
    "    if entrada.lower() == 'sair':\n",
    "        break\n",
    "    try:\n",
    "        x_input = float(entrada)\n",
    "        y_estimado = f_newton(x_input)\n",
    "        print(f\"Para x = {x_input:.4f}, y estimado = {y_estimado:.4f}\")\n",
    "    except ValueError:\n",
    "        print(\"Entrada inválida. Digite um número ou 'sair'.\")\n",
    "\n",
    "# Gráfico\n",
    "x_plot = np.linspace(min(x_vals) - 1, max(x_vals) + 1, 500)\n",
    "y_plot = f_newton(x_plot)\n",
    "\n",
    "plt.figure(figsize=(10, 6))\n",
    "plt.plot(x_plot, y_plot, label='Polinômio de Newton')\n",
    "plt.scatter(x_vals, y_vals, color='red', label='Pontos dados')\n",
    "plt.title('Interpolação por Diferenças Divididas de Newton')\n",
    "plt.xlabel('x')\n",
    "plt.ylabel('y')\n",
    "plt.grid(True)\n",
    "plt.legend()\n",
    "plt.show()"
   ]
  }
 ],
 "metadata": {
  "kernelspec": {
   "display_name": "Python 3",
   "language": "python",
   "name": "python3"
  },
  "language_info": {
   "codemirror_mode": {
    "name": "ipython",
    "version": 3
   },
   "file_extension": ".py",
   "mimetype": "text/x-python",
   "name": "python",
   "nbconvert_exporter": "python",
   "pygments_lexer": "ipython3",
   "version": "3.11.4"
  }
 },
 "nbformat": 4,
 "nbformat_minor": 2
}

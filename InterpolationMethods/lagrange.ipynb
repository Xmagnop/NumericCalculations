{
 "cells": [
  {
   "cell_type": "code",
   "execution_count": 25,
   "metadata": {},
   "outputs": [],
   "source": [
    "import numpy as np\n",
    "import sympy as sp\n",
    "import matplotlib.pyplot as plt\n",
    "from sympy import symbols, simplify, lambdify, Float\n",
    "from scipy.interpolate import lagrange as scipy_lagrange"
   ]
  },
  {
   "cell_type": "code",
   "execution_count": 20,
   "metadata": {},
   "outputs": [],
   "source": [
    "def interpolacao_lagrange(x_vals, y_vals):\n",
    "    \"\"\"\n",
    "    Aplica a interpolação de Lagrange para os pontos fornecidos.\n",
    "\n",
    "    Parâmetros:\n",
    "    x_vals -- Lista de coordenadas x dos pontos\n",
    "    y_vals -- Lista de coordenadas y dos pontos\n",
    "\n",
    "    Retorna:\n",
    "    Polinômio de Lagrange com coeficientes arredondados e uma tabela de pontos interpolados\n",
    "    \"\"\"\n",
    "    x = symbols('x')\n",
    "    n = len(x_vals)\n",
    "    L = 0\n",
    "    for i in range(n):\n",
    "        termo = 1\n",
    "        for j in range(n):\n",
    "            if i != j:\n",
    "                termo *= (x - x_vals[j]) / (x_vals[i] - x_vals[j])\n",
    "        L += y_vals[i] * termo\n",
    "\n",
    "    L = sp.simplify(L)\n",
    "    L = sp.expand(L)\n",
    "    coeffs = sp.Poly(L).all_coeffs()\n",
    "    rounded_coeffs = [Float(-c.evalf(), 4) for c in coeffs]  # Inverte os sinais aqui\n",
    "    L = sum(c * x**i for i, c in enumerate(reversed(rounded_coeffs)))\n",
    "\n",
    "    f_lagrange = lambdify(x, L, 'numpy')\n",
    "    tabela = [(round(xi, 4), round(f_lagrange(xi), 4)) for xi in x_vals]\n",
    "\n",
    "    return L, tabela, f_lagrange"
   ]
  },
  {
   "cell_type": "code",
   "execution_count": 26,
   "metadata": {},
   "outputs": [
    {
     "name": "stdout",
     "output_type": "stream",
     "text": [
      "Interpolação de Lagrange\n"
     ]
    },
    {
     "ename": "ValueError",
     "evalue": "invalid literal for int() with base 10: ''",
     "output_type": "error",
     "traceback": [
      "\u001b[31m---------------------------------------------------------------------------\u001b[39m",
      "\u001b[31mValueError\u001b[39m                                Traceback (most recent call last)",
      "\u001b[36mCell\u001b[39m\u001b[36m \u001b[39m\u001b[32mIn[26]\u001b[39m\u001b[32m, line 3\u001b[39m\n\u001b[32m      1\u001b[39m \u001b[38;5;66;03m# Interpolação de Lagrange\u001b[39;00m\n\u001b[32m      2\u001b[39m \u001b[38;5;28mprint\u001b[39m(\u001b[33m\"\u001b[39m\u001b[33mInterpolação de Lagrange\u001b[39m\u001b[33m\"\u001b[39m)\n\u001b[32m----> \u001b[39m\u001b[32m3\u001b[39m n = \u001b[38;5;28;43mint\u001b[39;49m\u001b[43m(\u001b[49m\u001b[38;5;28;43minput\u001b[39;49m\u001b[43m(\u001b[49m\u001b[33;43m\"\u001b[39;49m\u001b[33;43mDigite o número de pontos (n): \u001b[39;49m\u001b[33;43m\"\u001b[39;49m\u001b[43m)\u001b[49m\u001b[43m)\u001b[49m\n\u001b[32m      4\u001b[39m x_vals = []\n\u001b[32m      5\u001b[39m y_vals = []\n",
      "\u001b[31mValueError\u001b[39m: invalid literal for int() with base 10: ''"
     ]
    }
   ],
   "source": [
    "# Interpolação de Lagrange\n",
    "print(\"Interpolação de Lagrange\")\n",
    "n = int(input(\"Digite o número de pontos (n): \"))\n",
    "x_vals = []\n",
    "y_vals = []\n",
    "\n",
    "for i in range(n):\n",
    "    x = float(input(f\"x{i}: \"))\n",
    "    y = float(input(f\"y{i}: \"))\n",
    "    x_vals.append(x)\n",
    "    y_vals.append(y)\n",
    "\n",
    "L, tabela, f_lagrange = interpolacao_lagrange(x_vals, y_vals)\n",
    "\n",
    "print(\"\\nPolinômio interpolador de Lagrange:\")\n",
    "print(sp.pretty(L, use_unicode=True))\n",
    "\n",
    "# Tabela de pontos interpolados\n",
    "print(\"\\nTabela de pontos interpolados:\")\n",
    "for xi, yi in tabela:\n",
    "    print(f\"x = {xi:.4f}, y = {yi:.4f}\")\n",
    "\n",
    "# Gráfico do polinômio do SymPy\n",
    "x_plot = np.linspace(min(x_vals) - 1, max(x_vals) + 1, 500)\n",
    "y_plot = f_lagrange(x_plot)\n",
    "\n",
    "plt.figure(figsize=(10, 6))\n",
    "plt.plot(x_plot, y_plot, label='Polinômio de Lagrange (SymPy)')\n",
    "plt.scatter(x_vals, y_vals, color='red', label='Pontos dados')\n",
    "plt.title('Interpolação de Lagrange')\n",
    "plt.xlabel('x')\n",
    "plt.ylabel('y')\n",
    "plt.grid(True)\n",
    "plt.legend()\n",
    "plt.show()\n",
    "\n",
    "# Confirmação com scipy.interpolate.lagrange\n",
    "f_scipy = scipy_lagrange(np.array(x_vals), np.array(y_vals))\n",
    "x_new = np.linspace(min(x_vals) - 1, max(x_vals) + 1, 500)\n",
    "\n",
    "plt.figure(figsize=(10, 6))\n",
    "plt.plot(x_new, f_scipy(x_new), 'b', label='Polinômio de Lagrange (SciPy)')\n",
    "plt.plot(x_vals, y_vals, 'ro', label='Pontos dados')\n",
    "plt.title('Confirmação com SciPy')\n",
    "plt.xlabel('x')\n",
    "plt.ylabel('y')\n",
    "plt.grid()\n",
    "plt.legend()\n",
    "plt.show()"
   ]
  }
 ],
 "metadata": {
  "kernelspec": {
   "display_name": "Python 3",
   "language": "python",
   "name": "python3"
  },
  "language_info": {
   "codemirror_mode": {
    "name": "ipython",
    "version": 3
   },
   "file_extension": ".py",
   "mimetype": "text/x-python",
   "name": "python",
   "nbconvert_exporter": "python",
   "pygments_lexer": "ipython3",
   "version": "3.11.4"
  },
  "orig_nbformat": 4
 },
 "nbformat": 4,
 "nbformat_minor": 2
}

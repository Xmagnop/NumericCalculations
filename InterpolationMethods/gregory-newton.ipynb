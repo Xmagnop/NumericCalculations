{
 "cells": [
  {
   "cell_type": "code",
   "execution_count": 1,
   "metadata": {},
   "outputs": [
    {
     "name": "stderr",
     "output_type": "stream",
     "text": [
      "Matplotlib is building the font cache; this may take a moment.\n"
     ]
    }
   ],
   "source": [
    "import numpy as np\n",
    "import matplotlib.pyplot as plt\n",
    "from sympy import symbols, simplify, expand, lambdify, Float, pretty"
   ]
  },
  {
   "cell_type": "code",
   "execution_count": 2,
   "metadata": {},
   "outputs": [],
   "source": [
    "def diferencas_finitas(y_vals):\n",
    "    \"\"\"Calcula a tabela de diferenças finitas progressivas.\"\"\"\n",
    "    n = len(y_vals)\n",
    "    diff_table = [y_vals.copy()]\n",
    "    for i in range(1, n):\n",
    "        nova_linha = [diff_table[i-1][j+1] - diff_table[i-1][j] for j in range(n - i)]\n",
    "        diff_table.append(nova_linha)\n",
    "    return diff_table"
   ]
  },
  {
   "cell_type": "code",
   "execution_count": 3,
   "metadata": {},
   "outputs": [],
   "source": [
    "def interpolacao_gregory_newton(x_vals, y_vals):\n",
    "    \"\"\"\n",
    "    Aplica o método de interpolação de Gregory-Newton progressivo.\n",
    "\n",
    "    Parâmetros:\n",
    "    x_vals -- Lista de coordenadas x dos pontos (deve ser uniformemente espaçada)\n",
    "    y_vals -- Lista de coordenadas y dos pontos\n",
    "\n",
    "    Retorna:\n",
    "    Polinômio interpolador e função lambdificada\n",
    "    \"\"\"\n",
    "    x = symbols('x')\n",
    "    h = x_vals[1] - x_vals[0]\n",
    "    t = (x - x_vals[0]) / h\n",
    "\n",
    "    diff_table = diferencas_finitas(y_vals)\n",
    "    n = len(x_vals)\n",
    "    polinomio = 0\n",
    "    termo_t = 1\n",
    "\n",
    "    for i in range(n):\n",
    "        polinomio += diff_table[i][0] * termo_t / np.math.factorial(i)\n",
    "        termo_t *= (t - i)\n",
    "\n",
    "    polinomio = simplify(expand(polinomio))\n",
    "    coeffs = polinomio.as_poly(x).all_coeffs()\n",
    "    arredondados = [Float(c.evalf(), 4) for c in coeffs]\n",
    "    polinomio = sum(c * x**i for i, c in enumerate(reversed(arredondados)))\n",
    "\n",
    "    f_interp = lambdify(x, polinomio, 'numpy')\n",
    "    return polinomio, f_interp"
   ]
  },
  {
   "cell_type": "code",
   "execution_count": null,
   "metadata": {},
   "outputs": [],
   "source": [
    "# Interpolacao de Gregory-Newton\n",
    "print(\"Interpolacao de Gregory-Newton\")\n",
    "n = int(input(\"Digite o numero de pontos (n): \"))\n",
    "x_vals = []\n",
    "y_vals = []\n",
    "\n",
    "for i in range(n):\n",
    "    x = float(input(f\"x{i}: \"))\n",
    "    y = float(input(f\"y{i}: \"))\n",
    "    x_vals.append(x)\n",
    "    y_vals.append(y)\n",
    "\n",
    "if not np.allclose(np.diff(x_vals), x_vals[1] - x_vals[0]):\n",
    "    raise ValueError(\"Os valores de x devem ser igualmente espaçados para Gregory-Newton.\")\n",
    "\n",
    "P, f_interp = interpolacao_gregory_newton(x_vals, y_vals)\n",
    "\n",
    "print(\"\\nPolinomio interpolador de Gregory-Newton:\")\n",
    "print(pretty(P, use_unicode=True))\n",
    "\n",
    "# Avaliacao e grafico\n",
    "x_plot = np.linspace(min(x_vals)-1, max(x_vals)+1, 500)\n",
    "y_plot = f_interp(x_plot)\n",
    "\n",
    "plt.plot(x_plot, y_plot, label='Polinomio de Gregory-Newton')\n",
    "plt.scatter(x_vals, y_vals, color='red', label='Pontos dados')\n",
    "plt.title('Interpolacao de Gregory-Newton')\n",
    "plt.xlabel('x')\n",
    "plt.ylabel('y')\n",
    "plt.grid(True)\n",
    "plt.legend()\n",
    "plt.show()"
   ]
  }
 ],
 "metadata": {
  "kernelspec": {
   "display_name": "Python 3",
   "language": "python",
   "name": "python3"
  },
  "language_info": {
   "codemirror_mode": {
    "name": "ipython",
    "version": 3
   },
   "file_extension": ".py",
   "mimetype": "text/x-python",
   "name": "python",
   "nbconvert_exporter": "python",
   "pygments_lexer": "ipython3",
   "version": "3.11.4"
  },
  "orig_nbformat": 4
 },
 "nbformat": 4,
 "nbformat_minor": 2
}

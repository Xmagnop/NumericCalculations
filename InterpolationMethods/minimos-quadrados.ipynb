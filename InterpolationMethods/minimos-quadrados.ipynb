{
 "cells": [
  {
   "cell_type": "code",
   "execution_count": 1,
   "metadata": {},
   "outputs": [],
   "source": [
    "import numpy as np\n",
    "import matplotlib.pyplot as plt\n",
    "import sympy as sp\n",
    "from sympy import symbols, simplify, lambdify, Float, Eq, solve\n",
    "from tabulate import tabulate"
   ]
  },
  {
   "cell_type": "code",
   "execution_count": 2,
   "metadata": {},
   "outputs": [],
   "source": [
    "def ajuste_minimos_quadrados(x_vals, y_vals, grau=1):\n",
    "    x = symbols('x')\n",
    "    n = len(x_vals)\n",
    "\n",
    "    A = []\n",
    "    for i in range(grau + 1):\n",
    "        linha = [sum(xi**(i + j) for xi in x_vals) for j in range(grau + 1)]\n",
    "        A.append(linha)\n",
    "\n",
    "    B = [sum(y_vals[k] * x_vals[k]**i for k in range(n)) for i in range(grau + 1)]\n",
    "\n",
    "    a = sp.symbols(f'a0:{grau+1}')\n",
    "    sistema = [Eq(sum(A[i][j]*a[j] for j in range(grau + 1)), B[i]) for i in range(grau + 1)]\n",
    "    solucao = solve(sistema, a)\n",
    "\n",
    "    coeficientes = [Float(solucao[a[i]].evalf(), 4) for i in range(grau + 1)]\n",
    "    polinomio = sum(coeficientes[i] * x**i for i in range(grau + 1))\n",
    "\n",
    "    f_ajuste = lambdify(x, polinomio, 'numpy')\n",
    "    tabela = [(round(xi, 4), round(f_ajuste(xi), 4)) for xi in x_vals]\n",
    "\n",
    "    return polinomio, tabela, f_ajuste"
   ]
  },
  {
   "cell_type": "code",
   "execution_count": 3,
   "metadata": {},
   "outputs": [],
   "source": [
    "def correlacao_pearson(x_vals, y_vals):\n",
    "    n = len(x_vals)\n",
    "    soma_x = sum(x_vals)\n",
    "    soma_y = sum(y_vals)\n",
    "    soma_xy = sum(x * y for x, y in zip(x_vals, y_vals))\n",
    "    soma_x2 = sum(x ** 2 for x in x_vals)\n",
    "    soma_y2 = sum(y ** 2 for y in y_vals)\n",
    "\n",
    "    numerador = n * soma_xy - soma_x * soma_y\n",
    "    denominador = np.sqrt((n * soma_x2 - soma_x ** 2) * (n * soma_y2 - soma_y ** 2))\n",
    "\n",
    "    if denominador == 0:\n",
    "        return 0\n",
    "    return numerador / denominador"
   ]
  },
  {
   "cell_type": "code",
   "execution_count": 4,
   "metadata": {},
   "outputs": [],
   "source": [
    "def calcular_rmse(y_real, y_aprox):\n",
    "    return np.sqrt(np.mean((np.array(y_real) - np.array(y_aprox)) ** 2))"
   ]
  },
  {
   "cell_type": "code",
   "execution_count": 1,
   "metadata": {},
   "outputs": [
    {
     "name": "stdout",
     "output_type": "stream",
     "text": [
      "Ajuste de Curvas - Mínimos Quadrados\n"
     ]
    },
    {
     "ename": "ValueError",
     "evalue": "invalid literal for int() with base 10: ''",
     "output_type": "error",
     "traceback": [
      "\u001b[0;31m---------------------------------------------------------------------------\u001b[0m",
      "\u001b[0;31mValueError\u001b[0m                                Traceback (most recent call last)",
      "Cell \u001b[0;32mIn[1], line 3\u001b[0m\n\u001b[1;32m      1\u001b[0m \u001b[38;5;66;03m# Leitura dos dados\u001b[39;00m\n\u001b[1;32m      2\u001b[0m \u001b[38;5;28mprint\u001b[39m(\u001b[38;5;124m\"\u001b[39m\u001b[38;5;124mAjuste de Curvas - Mínimos Quadrados\u001b[39m\u001b[38;5;124m\"\u001b[39m)\n\u001b[0;32m----> 3\u001b[0m n \u001b[38;5;241m=\u001b[39m \u001b[38;5;28;43mint\u001b[39;49m\u001b[43m(\u001b[49m\u001b[38;5;28;43minput\u001b[39;49m\u001b[43m(\u001b[49m\u001b[38;5;124;43m\"\u001b[39;49m\u001b[38;5;124;43mDigite o número de pontos: \u001b[39;49m\u001b[38;5;124;43m\"\u001b[39;49m\u001b[43m)\u001b[49m\u001b[43m)\u001b[49m\n\u001b[1;32m      4\u001b[0m x_vals \u001b[38;5;241m=\u001b[39m []\n\u001b[1;32m      5\u001b[0m y_vals \u001b[38;5;241m=\u001b[39m []\n",
      "\u001b[0;31mValueError\u001b[0m: invalid literal for int() with base 10: ''"
     ]
    }
   ],
   "source": [
    "# Leitura dos dados\n",
    "print(\"Ajuste de Curvas - Mínimos Quadrados\")\n",
    "n = int(input(\"Digite o número de pontos: \"))\n",
    "x_vals = []\n",
    "y_vals = []\n",
    "for i in range(n):\n",
    "    x = float(input(f\"x{i}: \"))\n",
    "    y = float(input(f\"y{i}: \"))\n",
    "    x_vals.append(x)\n",
    "    y_vals.append(y)\n",
    "\n",
    "modo = input(\"\\nDeseja informar o grau do polinômio ou escolher automaticamente? (manual/auto): \").strip().lower()\n",
    "\n",
    "if modo == 'manual':\n",
    "    grau = int(input(\"Digite o grau do polinômio de ajuste: \"))\n",
    "else:\n",
    "    print(\"\\nProcurando melhor grau de ajuste...\")\n",
    "    menor_rmse = float('inf')\n",
    "    melhor_grau = 1\n",
    "    for grau_teste in range(1, min(n, 6)):  # Evita overfitting com n graus para n pontos\n",
    "        _, _, f_teste = ajuste_minimos_quadrados(x_vals, y_vals, grau_teste)\n",
    "        y_aprox = f_teste(np.array(x_vals))\n",
    "        erro = calcular_rmse(y_vals, y_aprox)\n",
    "        if erro < menor_rmse:\n",
    "            menor_rmse = erro\n",
    "            melhor_grau = grau_teste\n",
    "    grau = melhor_grau\n",
    "    print(f\"Grau escolhido automaticamente: {grau}\")\n",
    "\n",
    "# Ajuste final\n",
    "polinomio, tabela, f_ajuste = ajuste_minimos_quadrados(x_vals, y_vals, grau)\n",
    "\n",
    "# Exibe o polinômio ajustado\n",
    "print(\"\\nPolinômio ajustado (grau {}):\".format(grau))\n",
    "print(sp.pretty(polinomio, use_unicode=True))\n",
    "\n",
    "# Exibe a tabela de pontos\n",
    "print(\"\\nTabela de pontos:\")\n",
    "print(tabulate(tabela, headers=[\"x\", \"y ajustado\"], tablefmt=\"grid\"))\n",
    "\n",
    "# Estimativa de valor y para um x dado\n",
    "x_estimado = float(input(\"\\nDigite um valor de x para estimar y: \"))\n",
    "y_estimado = f_ajuste(x_estimado)\n",
    "print(f\"y({x_estimado}) ≈ {y_estimado:.4f}\")\n",
    "\n",
    "# Coeficiente de correlação de Pearson\n",
    "pearson_r = correlacao_pearson(x_vals, y_vals)\n",
    "print(f\"\\nCoeficiente de correlação de Pearson: r = {pearson_r:.4f}\")\n",
    "\n",
    "# Gráfico\n",
    "x_plot = np.linspace(min(x_vals) - 1, max(x_vals) + 1, 500)\n",
    "y_plot = f_ajuste(x_plot)\n",
    "\n",
    "plt.plot(x_plot, y_plot, label=f'Ajuste grau {grau}')\n",
    "plt.scatter(x_vals, y_vals, color='red', label='Pontos dados')\n",
    "plt.title('Ajuste de Curvas - Mínimos Quadrados')\n",
    "plt.xlabel('x')\n",
    "plt.ylabel('y')\n",
    "plt.grid(True)\n",
    "plt.legend()\n",
    "plt.show()"
   ]
  }
 ],
 "metadata": {
  "kernelspec": {
   "display_name": "Python 3",
   "language": "python",
   "name": "python3"
  },
  "language_info": {
   "codemirror_mode": {
    "name": "ipython",
    "version": 3
   },
   "file_extension": ".py",
   "mimetype": "text/x-python",
   "name": "python",
   "nbconvert_exporter": "python",
   "pygments_lexer": "ipython3",
   "version": "3.10.12"
  }
 },
 "nbformat": 4,
 "nbformat_minor": 4
}
